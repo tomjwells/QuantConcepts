{
  "cells": [
    {
      "cell_type": "markdown",
      "metadata": {},
      "source": [
        "# Basic Concepts\n",
        "\n",
        "Reinforcement learning is an elegant framework for sequential decision-making.\n",
        "\n",
        "## Reward Function\n",
        "The reward function $R$ assigns a numerical reward to each state-action $(S, A)$ pair.\n",
        "\n",
        "$$\n",
        "R: S \\times A  \\to \\mathbb{R}.\n",
        "$$\n",
        "\n",
        "## Action Policy\n",
        "\n",
        "An action policy $Q$ assigns to each state $S$ and allowed action $A$ a numerical value. The numerical value is composed of the *immediate reward* of taking\n",
        "action $A$ and the *discounted delayed reward* - given an optimal action taken in the subsequent state.\n",
        "\n",
        "$$\n",
        "Q: S \\times A  \\to \\mathbb{R},\n",
        "$$\n",
        "$$\n",
        "Q(S_t, A_t) = R(S_t, A_t) + \\gamma\\cdot \\underset{a}{\\text{max}}\\ Q(S_{t+1},a).\n",
        "$$\n",
        "\n",
        "## Representation\n",
        "In general, the optimal action policy $Q$ can not be specified in closed form (e.g. in the form of a table). Therefore, $Q$-learning relies in general on approximate representations for the optimal policy $Q$.\n",
        "\n",
        "## Neural Network\n",
        "Due to the approximation capabilities of neural networks (\"Universal Approximation Theorems\"), neural networks are typically used to represent optimal action policies $Q$. Features are the parameters that describe the state of the environment. Labels are values attached to each allowed action.\n",
        "\n",
        "## Exploration\n",
        "This refers to actions taken by an agent that are random in nature. The purpose is to explore random actions and their associated values beyond what the current optimal policy would dictate.\n",
        "\n",
        "## Exploitation\n",
        "This refers to actions taken in accordance with the current optimal policy.\n",
        "\n",
        "## Replay\n",
        "This refers to the (regular) updating of the optimal action policy given past and memorized experiences (by re-training the neural network).\n",
        "\n",
        "## Important Variables\n",
        "\n",
        "### `gamma`\n",
        "The parameter gamma represents the discount factor by which delayed\n",
        "rewards are taken into account.\n",
        "\n",
        "### `epsilon`\n",
        "The parameter epsilon defines the ratio with which the algorithm relies\n",
        "on exploration as compared to exploitation.\n",
        "\n",
        "### `epsilon_decay`\n",
        "The parameter epsilon_decay specifies the rate at which epsilon is\n",
        "reduced."
      ]
    },
    {
      "cell_type": "code",
      "execution_count": 1,
      "metadata": {},
      "outputs": [],
      "source": [
        "import warnings\n",
        "import os\n",
        "import math\n",
        "import random\n",
        "import numpy as np\n",
        "import pandas as pd\n",
        "from pylab import plt, mpl\n",
        "plt.style.use('seaborn-v0_8')\n",
        "mpl.rcParams['savefig.dpi'] = 300\n",
        "mpl.rcParams['font.family'] = 'serif'\n",
        "np.set_printoptions(precision=4, suppress=True)\n",
        "os.environ['PYTHONHASHSEED'] = '0'\n",
        "warnings.simplefilter('ignore')"
      ]
    },
    {
      "cell_type": "markdown",
      "metadata": {},
      "source": [
        "# OpaAI Gym CartPole Game"
      ]
    },
    {
      "cell_type": "code",
      "execution_count": 2,
      "metadata": {},
      "outputs": [
        {
          "data": {
            "text/plain": [
              "[100]"
            ]
          },
          "execution_count": 2,
          "metadata": {},
          "output_type": "execute_result"
        }
      ],
      "source": [
        "import gym\n",
        "env = gym.make('CartPole-v0')\n",
        "env.action_space.seed(100)"
      ]
    },
    {
      "cell_type": "markdown",
      "metadata": {},
      "source": [
        "Below we see that the observation space for the CartPole game is simply 4 numbers representing the state of the cart: cart position, cart-velocity, pole angle and pole velocity."
      ]
    },
    {
      "cell_type": "code",
      "execution_count": 3,
      "metadata": {},
      "outputs": [
        {
          "data": {
            "text/plain": [
              "Box([-4.8000e+00 -3.4028e+38 -4.1888e-01 -3.4028e+38], [4.8000e+00 3.4028e+38 4.1888e-01 3.4028e+38], (4,), float32)"
            ]
          },
          "execution_count": 3,
          "metadata": {},
          "output_type": "execute_result"
        }
      ],
      "source": [
        "env.observation_space"
      ]
    },
    {
      "cell_type": "code",
      "execution_count": 4,
      "metadata": {},
      "outputs": [
        {
          "data": {
            "text/plain": [
              "array([-4.8  ,   -inf, -0.419,   -inf], dtype=float16)"
            ]
          },
          "execution_count": 4,
          "metadata": {},
          "output_type": "execute_result"
        }
      ],
      "source": [
        "env.observation_space.low.astype(np.float16)"
      ]
    },
    {
      "cell_type": "code",
      "execution_count": 5,
      "metadata": {},
      "outputs": [
        {
          "data": {
            "text/plain": [
              "array([4.8  ,   inf, 0.419,   inf], dtype=float16)"
            ]
          },
          "execution_count": 5,
          "metadata": {},
          "output_type": "execute_result"
        }
      ],
      "source": [
        "env.observation_space.high.astype(np.float16)"
      ]
    },
    {
      "cell_type": "markdown",
      "metadata": {},
      "source": [
        "The game can always be reset to an initial state using `env.reset()`"
      ]
    },
    {
      "cell_type": "code",
      "execution_count": 6,
      "metadata": {},
      "outputs": [
        {
          "data": {
            "text/plain": [
              "(array([-0.0422,  0.0182,  0.0394, -0.0287], dtype=float32), {})"
            ]
          },
          "execution_count": 6,
          "metadata": {},
          "output_type": "execute_result"
        }
      ],
      "source": [
        "state = env.reset()\n",
        "state"
      ]
    },
    {
      "cell_type": "markdown",
      "metadata": {},
      "source": [
        "# Deep Learning Approach"
      ]
    },
    {
      "cell_type": "code",
      "execution_count": 7,
      "metadata": {},
      "outputs": [],
      "source": [
        "import os\n",
        "os.environ['TF_CPP_MIN_LOG_LEVEL'] = '5'"
      ]
    },
    {
      "cell_type": "code",
      "execution_count": 8,
      "metadata": {},
      "outputs": [],
      "source": [
        "import tensorflow as tf\n",
        "from tensorflow import keras"
      ]
    },
    {
      "cell_type": "code",
      "execution_count": 9,
      "metadata": {},
      "outputs": [],
      "source": [
        "from tensorflow.python.framework.ops import disable_eager_execution\n",
        "disable_eager_execution()"
      ]
    },
    {
      "cell_type": "code",
      "execution_count": 10,
      "metadata": {},
      "outputs": [],
      "source": [
        "from keras.layers import Dense, Dropout\n",
        "from keras.models import Sequential\n",
        "from sklearn.metrics import accuracy_score\n",
        "import random\n",
        "import numpy as np"
      ]
    },
    {
      "cell_type": "code",
      "execution_count": 11,
      "metadata": {},
      "outputs": [],
      "source": [
        "\n",
        "def set_seeds(seed=100):\n",
        "    random.seed(seed)\n",
        "    np.random.seed(seed)\n",
        "    tf.random.set_seed(seed)\n",
        "    # env.seed(seed)\n",
        "    env.action_space.seed(seed)\n",
        "\n",
        "\n",
        "set_seeds(100)"
      ]
    },
    {
      "cell_type": "code",
      "execution_count": 12,
      "metadata": {},
      "outputs": [],
      "source": [
        "class NNAgent:\n",
        "    def __init__(self):\n",
        "        self.max = 0\n",
        "        self.scores = list()\n",
        "        self.memory = list()\n",
        "        self.model = self._build_model()\n",
        "\n",
        "    def _build_model(self):\n",
        "        model = Sequential()\n",
        "        model.add(Dense(24, input_dim=4, activation='relu'))\n",
        "        model.add(Dense(1, activation='sigmoid'))\n",
        "        model.compile(loss='binary_crossentropy',\n",
        "                      optimizer=keras.optimizers.legacy.RMSprop(learning_rate=0.001))\n",
        "\n",
        "        return model\n",
        "\n",
        "    def act(self, state):\n",
        "        if random.random() <= 0.5:\n",
        "            return env.action_space.sample()\n",
        "        action = np.where(self.model.predict(state, batch_size=None)[0, 0] > 0.5, 1, 0)\n",
        "        return action\n",
        "\n",
        "    def train_model(self, state, action):\n",
        "        self.model.fit(state, epochs=1, verbose=False)\n",
        "\n",
        "    def learn(self, episodes):\n",
        "        for e in range(1, episodes + 1):\n",
        "            state = env.reset()[0]\n",
        "            for _ in range(201):\n",
        "                state = np.reshape(state, [1, 4])\n",
        "                action = self.act(state)\n",
        "                next_state, reward, done, trunc, info = env.step(action)\n",
        "                if done:\n",
        "                    score = _ + 1\n",
        "                    self.scores.append(score)\n",
        "                    self.max = max(score, self.max)\n",
        "                    print('episode: {:4d}/{} | score: {:3d} | max: {:3d}'.format(e, episodes, score, self.max), end='\\r')\n",
        "                    break\n",
        "                self.memory.append((state, action))\n",
        "                self.train_model(state, action)\n",
        "                state = next_state\n",
        "\n",
        "\n",
        "agent = NNAgent()"
      ]
    },
    {
      "cell_type": "code",
      "execution_count": 13,
      "metadata": {},
      "outputs": [
        {
          "name": "stderr",
          "output_type": "stream",
          "text": [
            "/root/miniconda3/envs/aiif/lib/python3.10/site-packages/gym/utils/passive_env_checker.py:233: DeprecationWarning: `np.bool8` is a deprecated alias for `np.bool_`.  (Deprecated NumPy 1.24)\n",
            "  if not isinstance(terminated, (bool, np.bool8)):\n"
          ]
        },
        {
          "name": "stdout",
          "output_type": "stream",
          "text": [
            "episode: 1000/1000 | score:  10 | max:  51\r"
          ]
        }
      ],
      "source": [
        "episodes = 1000\n",
        "agent.learn(episodes)"
      ]
    },
    {
      "cell_type": "code",
      "execution_count": 14,
      "metadata": {},
      "outputs": [
        {
          "data": {
            "text/plain": [
              "0.7515439429928741"
            ]
          },
          "execution_count": 14,
          "metadata": {},
          "output_type": "execute_result"
        }
      ],
      "source": [
        "f = np.array([m[0][0] for m in agent.memory])\n",
        "l = np.array([m[1] for m in agent.memory])\n",
        "accuracy_score(np.where(agent.model.predict(f) > 0.5, 1, 0), l)"
      ]
    },
    {
      "cell_type": "markdown",
      "metadata": {},
      "source": [
        "# Q Learning"
      ]
    },
    {
      "cell_type": "code",
      "execution_count": 15,
      "metadata": {},
      "outputs": [],
      "source": [
        "from collections import deque\n",
        "\n",
        "\n",
        "class DQLAgent:\n",
        "    def __init__(self, gamma=0.95, hu=24, opt=keras.optimizers.legacy.Adam,\n",
        "                 lr=0.001, finish=False):\n",
        "        self.finish = finish\n",
        "        self.epsilon = 1.0\n",
        "        self.epsilon_min = 0.01\n",
        "        self.epsilon_decay = 0.995\n",
        "        self.gamma = gamma\n",
        "        self.batch_size = 32\n",
        "        self.max_treward = 0\n",
        "        self.averages = list()\n",
        "        self.memory = deque(maxlen=2000)\n",
        "        self.osn = env.observation_space.shape[0]\n",
        "        self.model = self._build_model(hu, opt, lr)\n",
        "\n",
        "    def _build_model(self, hu, opt, lr):\n",
        "        model = Sequential()\n",
        "        model.add(Dense(hu, input_dim=self.osn, activation='relu'))\n",
        "        model.add(Dense(hu, activation='relu'))\n",
        "        model.add(Dense(env.action_space.n, activation='linear'))\n",
        "        model.compile(loss='mse', optimizer=opt(learning_rate=lr))\n",
        "        return model\n",
        "\n",
        "    def act(self, state):\n",
        "        if random.random() <= self.epsilon:\n",
        "            return env.action_space.sample()\n",
        "        action = self.model.predict(state)[0]\n",
        "        return np.argmax(action)\n",
        "\n",
        "    def replay(self):\n",
        "        batch = random.sample(self.memory, self.batch_size)\n",
        "        for state, action, reward, next_state, done in batch:\n",
        "            if not done:\n",
        "                reward += self.gamma * np.amax(self.model.predict(next_state)[0]) # This is the Q-formula\n",
        "            target = self.model.predict(state)\n",
        "            target[0, action] = reward\n",
        "            self.model.fit(state, target, epochs=1, verbose=False)\n",
        "        if self.epsilon > self.epsilon_min:\n",
        "            self.epsilon *= self.epsilon_decay\n",
        "\n",
        "    def learn(self, episodes):\n",
        "        trewards = []\n",
        "        for e in range(1, episodes + 1):\n",
        "            state = env.reset()[0]\n",
        "            state = np.reshape(state, [1, self.osn])\n",
        "            for _ in range(5000):\n",
        "                action = self.act(state)\n",
        "                next_state, reward, done, trunc, info = env.step(action)\n",
        "                next_state = np.reshape(next_state, [1, self.osn])\n",
        "                self.memory.append([state, action, reward, next_state, done])\n",
        "                state = next_state\n",
        "                if trunc:\n",
        "                    treward = _ + 1\n",
        "                    trewards.append(treward)\n",
        "                    av = sum(trewards[-25:]) / 25\n",
        "                    self.averages.append(av)\n",
        "                    self.max_treward = max(self.max_treward, treward)\n",
        "                    templ = 'episode: {:4d}/{} | treward: {:4d} | '\n",
        "                    templ += 'av: {:6.1f} | max: {:4d}'\n",
        "                    print(templ.format(e, episodes, treward, av, self.max_treward), end='\\r')\n",
        "                    break\n",
        "            if av > 195 and self.finish:\n",
        "                print()\n",
        "                break\n",
        "            if len(self.memory) > self.batch_size:\n",
        "                self.replay()\n",
        "\n",
        "    def test(self, episodes):\n",
        "        trewards = []\n",
        "        for e in range(1, episodes + 1):\n",
        "            state = env.reset()[0]\n",
        "            for _ in range(5001):\n",
        "                state = np.reshape(state, [1, self.osn])\n",
        "                action = np.argmax(self.model.predict(state)[0])\n",
        "                next_state, reward, done, trunc, info = env.step(action)\n",
        "                state = next_state\n",
        "                if trunc:\n",
        "                    treward = _ + 1\n",
        "                    trewards.append(treward)\n",
        "                    print('episode: {:4d}/{} | treward: {:4d}'\n",
        "                          .format(e, episodes, treward), end='\\r')\n",
        "                    break\n",
        "        return trewards"
      ]
    },
    {
      "cell_type": "code",
      "execution_count": 16,
      "metadata": {},
      "outputs": [
        {
          "name": "stdout",
          "output_type": "stream",
          "text": [
            "episode:   25/1000 | treward:  200 | av:  200.0 | max:  200\n",
            "CPU times: user 3.42 s, sys: 414 ms, total: 3.83 s\n",
            "Wall time: 2.72 s\n"
          ]
        }
      ],
      "source": [
        "episodes = 1000\n",
        "set_seeds(100)\n",
        "agent = DQLAgent(finish=True)\n",
        "%time agent.learn(episodes)"
      ]
    },
    {
      "cell_type": "code",
      "execution_count": 17,
      "metadata": {},
      "outputs": [
        {
          "data": {
            "text/plain": [
              "<matplotlib.legend.Legend at 0x7f0f2069bb80>"
            ]
          },
          "execution_count": 17,
          "metadata": {},
          "output_type": "execute_result"
        },
        {
          "data": {
            "image/png": "[encoded data removed]",
            "text/plain": [
              "<Figure size 1000x600 with 1 Axes>"
            ]
          },
          "metadata": {},
          "output_type": "display_data"
        }
      ],
      "source": [
        "plt.figure(figsize=(10, 6))\n",
        "x = range(len(agent.averages))\n",
        "y = np.polyval(np.polyfit(x, agent.averages, deg=3), x)\n",
        "plt.plot(agent.averages, label='moving average')\n",
        "plt.plot(x, y, 'r--', label='trend')\n",
        "plt.xlabel('episodes')\n",
        "plt.ylabel('total reward')\n",
        "plt.legend()"
      ]
    },
    {
      "cell_type": "code",
      "execution_count": 18,
      "metadata": {},
      "outputs": [
        {
          "name": "stdout",
          "output_type": "stream",
          "text": [
            "episode:  100/100 | treward:  200\r"
          ]
        }
      ],
      "source": [
        "trewards = agent.test(100)"
      ]
    },
    {
      "cell_type": "code",
      "execution_count": 19,
      "metadata": {},
      "outputs": [
        {
          "data": {
            "text/plain": [
              "200.0"
            ]
          },
          "execution_count": 19,
          "metadata": {},
          "output_type": "execute_result"
        }
      ],
      "source": [
        "sum(trewards) / len(trewards)"
      ]
    },
    {
      "cell_type": "markdown",
      "metadata": {},
      "source": [
        "From the line above we see that the agent achieved a score of 200 (that is a \"perfect score\" in the CartPole exercise) consistently in it's test."
      ]
    },
    {
      "cell_type": "code",
      "execution_count": null,
      "metadata": {},
      "outputs": [],
      "source": []
    },
    {
      "cell_type": "markdown",
      "metadata": {},
      "source": [
        "# Using the Same RL Agent in a Financial Setting"
      ]
    },
    {
      "cell_type": "code",
      "execution_count": 20,
      "metadata": {},
      "outputs": [],
      "source": [
        "class observation_space:\n",
        "    def __init__(self, n):\n",
        "        self.shape = (n,)\n",
        "\n",
        "\n",
        "class action_space:\n",
        "    def __init__(self, n):\n",
        "        self.n = n\n",
        "\n",
        "    def seed(self, seed):\n",
        "        pass\n",
        "\n",
        "    def sample(self):\n",
        "        return random.randint(0, self.n - 1)\n",
        "\n",
        "\n",
        "class Finance:\n",
        "    url = 'http://hilpisch.com/aiif_eikon_eod_data.csv'\n",
        "\n",
        "    def __init__(self, symbol, features):\n",
        "        self.symbol = symbol\n",
        "        self.features = features\n",
        "        self.observation_space = observation_space(4)\n",
        "        self.osn = self.observation_space.shape[0]\n",
        "        self.action_space = action_space(2)\n",
        "        self.min_accuracy = 0.475\n",
        "        self._get_data()\n",
        "        self._prepare_data()\n",
        "\n",
        "    def _get_data(self):\n",
        "        self.raw = pd.read_csv(self.url, index_col=0,\n",
        "                               parse_dates=True).dropna()\n",
        "\n",
        "    def _prepare_data(self):\n",
        "        self.data = pd.DataFrame(self.raw[self.symbol])\n",
        "        self.data['r'] = np.log(self.data / self.data.shift(1))\n",
        "        self.data.dropna(inplace=True)\n",
        "        self.data = (self.data - self.data.mean()) / self.data.std()\n",
        "        self.data['d'] = np.where(self.data['r'] > 0, 1, 0)\n",
        "\n",
        "    def _get_state(self):\n",
        "        return self.data[self.features].iloc[\n",
        "            self.bar - self.osn:self.bar].values\n",
        "\n",
        "    def seed(self, seed=None):\n",
        "        pass\n",
        "\n",
        "    def reset(self):\n",
        "        self.treward = 0\n",
        "        self.accuracy = 0\n",
        "        self.bar = self.osn\n",
        "        state = self.data[self.features].iloc[\n",
        "            self.bar - self.osn:self.bar]\n",
        "        return state.values, {}\n",
        "\n",
        "    def step(self, action):\n",
        "        trunc = False\n",
        "        correct = action == self.data['d'].iloc[self.bar]\n",
        "        reward = 1 if correct else 0\n",
        "        self.treward += reward\n",
        "        self.bar += 1\n",
        "        self.accuracy = self.treward / (self.bar - self.osn)\n",
        "        if self.bar >= len(self.data):\n",
        "            done = True\n",
        "            trunc = True\n",
        "        elif reward == 1:\n",
        "            done = False\n",
        "        elif (self.accuracy < self.min_accuracy and\n",
        "              self.bar > self.osn + 10):\n",
        "            done = True\n",
        "            trunc = True\n",
        "        else:\n",
        "            done = False\n",
        "        state = self._get_state()\n",
        "        info = {}\n",
        "        return state, reward, done, trunc, info"
      ]
    },
    {
      "cell_type": "code",
      "execution_count": 21,
      "metadata": {},
      "outputs": [
        {
          "data": {
            "text/plain": [
              "0"
            ]
          },
          "execution_count": 21,
          "metadata": {},
          "output_type": "execute_result"
        }
      ],
      "source": [
        "env = Finance('EUR=', 'EUR=')\n",
        "env.reset()\n",
        "\n",
        "a = env.action_space.sample()\n",
        "a"
      ]
    },
    {
      "cell_type": "code",
      "execution_count": 22,
      "metadata": {},
      "outputs": [
        {
          "data": {
            "text/plain": [
              "(array([1.8579, 1.7749, 1.8579, 1.947 ]), 0, False, False, {})"
            ]
          },
          "execution_count": 22,
          "metadata": {},
          "output_type": "execute_result"
        }
      ],
      "source": [
        "env.step(a)"
      ]
    },
    {
      "cell_type": "markdown",
      "metadata": {},
      "source": [
        "Let us now define our agent, and train it against the financial data."
      ]
    },
    {
      "cell_type": "code",
      "execution_count": 23,
      "metadata": {},
      "outputs": [],
      "source": [
        "set_seeds(100)\n",
        "agent = DQLAgent(gamma=0.5, opt=keras.optimizers.legacy.RMSprop)\n",
        "episodes = 1000"
      ]
    },
    {
      "cell_type": "code",
      "execution_count": 24,
      "metadata": {},
      "outputs": [
        {
          "name": "stdout",
          "output_type": "stream",
          "text": [
            "CPU times: user 14min 5s, sys: 1min 1s, total: 15min 7s2511\n",
            "Wall time: 13min 6s\n"
          ]
        }
      ],
      "source": [
        "%time agent.learn(episodes)"
      ]
    },
    {
      "cell_type": "code",
      "execution_count": 25,
      "metadata": {},
      "outputs": [
        {
          "name": "stdout",
          "output_type": "stream",
          "text": [
            "episode:    3/3 | treward: 2511\r"
          ]
        },
        {
          "data": {
            "text/plain": [
              "[2511, 2511, 2511]"
            ]
          },
          "execution_count": 25,
          "metadata": {},
          "output_type": "execute_result"
        }
      ],
      "source": [
        "agent.test(3)"
      ]
    },
    {
      "cell_type": "code",
      "execution_count": 26,
      "metadata": {},
      "outputs": [
        {
          "data": {
            "text/plain": [
              "<matplotlib.legend.Legend at 0x7f0f2048ded0>"
            ]
          },
          "execution_count": 26,
          "metadata": {},
          "output_type": "execute_result"
        },
        {
          "data": {
            "image/png": "[encoded data removed]",
            "text/plain": [
              "<Figure size 1000x600 with 1 Axes>"
            ]
          },
          "metadata": {},
          "output_type": "display_data"
        }
      ],
      "source": [
        "plt.figure(figsize=(10, 6))\n",
        "x = range(len(agent.averages))\n",
        "# Add a cubic least squares regression to elucidate the trend\n",
        "y = np.polyval(np.polyfit(x, agent.averages, deg=3), x)\n",
        "plt.plot(agent.averages, label='moving average')\n",
        "plt.plot(x, y, 'r--', label='regression')\n",
        "plt.xlabel('episodes')\n",
        "plt.ylabel('total reward')\n",
        "plt.legend()"
      ]
    },
    {
      "cell_type": "code",
      "execution_count": null,
      "metadata": {},
      "outputs": [],
      "source": []
    }
  ],
  "metadata": {
    "kernelspec": {
      "display_name": "qfc",
      "language": "python",
      "name": "python3"
    },
    "language_info": {
      "codemirror_mode": {
        "name": "ipython",
        "version": 3
      },
      "file_extension": ".py",
      "mimetype": "text/x-python",
      "name": "python",
      "nbconvert_exporter": "python",
      "pygments_lexer": "ipython3",
      "version": "3.10.12"
    }
  },
  "nbformat": 4,
  "nbformat_minor": 2
}
