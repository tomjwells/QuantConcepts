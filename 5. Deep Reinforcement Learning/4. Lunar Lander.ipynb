{
 "cells": [
  {
   "cell_type": "markdown",
   "metadata": {},
   "source": [
    "# Lunar Lander\n",
    "\n",
    "[Lunar Lander](https://www.gymlibrary.dev/environments/box2d/lunar_lander/) is a gym environment in which a \"rocket\"/lander is dropped from the top of the box region, and its task is to land the rocket safely (i.e. at a sufficiently moderate velocity) between two flagpoles. \n",
    "\n",
    "Four discrete actions are available to the lander: do nothing, fire left orientation engine, fire main engine, fire right orientation engine.\n"
   ]
  },
  {
   "cell_type": "code",
   "execution_count": 2,
   "metadata": {},
   "outputs": [],
   "source": [
    "import gym\n",
    "import random\n",
    "import numpy as np\n",
    "import pandas as pd\n",
    "from pylab import plt\n",
    "from IPython import display\n",
    "from collections import deque\n",
    "plt.style.use('seaborn-v0_8')\n",
    "import warnings; warnings.simplefilter('ignore')\n",
    "\n",
    "import tensorflow.compat.v1 as tf\n",
    "from keras.layers import Dense\n",
    "from keras.models import Sequential\n",
    "from keras.optimizers import Adam\n",
    "tf.logging.set_verbosity(tf.logging.ERROR)"
   ]
  },
  {
   "cell_type": "markdown",
   "metadata": {},
   "source": [
    "# Environment"
   ]
  },
  {
   "cell_type": "code",
   "execution_count": 3,
   "metadata": {},
   "outputs": [
    {
     "data": {
      "text/plain": [
       "(array([-1.3148307e-03,  1.3989749e+00, -1.3320298e-01, -5.3090233e-01,\n",
       "         1.5304536e-03,  3.0172506e-02,  0.0000000e+00,  0.0000000e+00],\n",
       "       dtype=float32),\n",
       " {})"
      ]
     },
     "execution_count": 3,
     "metadata": {},
     "output_type": "execute_result"
    }
   ],
   "source": [
    "env = gym.make('LunarLander-v2', render_mode='rgb_array')\n",
    "env.reset()"
   ]
  },
  {
   "cell_type": "markdown",
   "metadata": {},
   "source": [
    "# Action Space"
   ]
  },
  {
   "cell_type": "code",
   "execution_count": 4,
   "metadata": {},
   "outputs": [
    {
     "data": {
      "text/plain": [
       "Discrete(4)"
      ]
     },
     "execution_count": 4,
     "metadata": {},
     "output_type": "execute_result"
    }
   ],
   "source": [
    "# Type of action space\n",
    "env.action_space\n",
    "\n",
    "# From \n",
    "# 0 = do nothing, 1 = fire left orientation engine, 2 = fire main engine, 3 = fire right orientation engine\n",
    "\n",
    "# Note the action space was 2 for cart pole, 3 for mountain car, and 4 for lunar lander."
   ]
  },
  {
   "cell_type": "code",
   "execution_count": 5,
   "metadata": {},
   "outputs": [
    {
     "data": {
      "text/plain": [
       "4"
      ]
     },
     "execution_count": 5,
     "metadata": {},
     "output_type": "execute_result"
    }
   ],
   "source": [
    "# Number of discrete actions\n",
    "env.action_space.n"
   ]
  },
  {
   "cell_type": "code",
   "execution_count": 6,
   "metadata": {},
   "outputs": [
    {
     "data": {
      "text/plain": [
       "[2, 2, 2, 1, 3, 2, 3, 3, 0, 2]"
      ]
     },
     "execution_count": 6,
     "metadata": {},
     "output_type": "execute_result"
    }
   ],
   "source": [
    "# Sample actions\n",
    "[env.action_space.sample() for _ in range(10)]"
   ]
  },
  {
   "cell_type": "markdown",
   "metadata": {},
   "source": [
    "# Rewards"
   ]
  },
  {
   "cell_type": "code",
   "execution_count": 7,
   "metadata": {},
   "outputs": [
    {
     "data": {
      "text/plain": [
       "1"
      ]
     },
     "execution_count": 7,
     "metadata": {},
     "output_type": "execute_result"
    }
   ],
   "source": [
    "a = env.action_space.sample()\n",
    "a"
   ]
  },
  {
   "cell_type": "code",
   "execution_count": 8,
   "metadata": {},
   "outputs": [
    {
     "data": {
      "text/plain": [
       "(array([-0.00269051,  1.3864427 , -0.14059833, -0.5569896 ,  0.00454076,\n",
       "         0.06021252,  0.        ,  0.        ], dtype=float32),\n",
       " -1.7883448033334435,\n",
       " False,\n",
       " False,\n",
       " {})"
      ]
     },
     "execution_count": 8,
     "metadata": {},
     "output_type": "execute_result"
    }
   ],
   "source": [
    "r = env.step(a)\n",
    "r"
   ]
  },
  {
   "cell_type": "markdown",
   "metadata": {},
   "source": [
    "It is interesting to note that the reward here is a float, whereas in the previous OpenAI Gym exercises it has been an integer."
   ]
  },
  {
   "cell_type": "markdown",
   "metadata": {},
   "source": [
    "# Observation Space"
   ]
  },
  {
   "cell_type": "code",
   "execution_count": 9,
   "metadata": {},
   "outputs": [
    {
     "data": {
      "text/plain": [
       "Box([-1.5       -1.5       -5.        -5.        -3.1415927 -5.\n",
       " -0.        -0.       ], [1.5       1.5       5.        5.        3.1415927 5.        1.\n",
       " 1.       ], (8,), float32)"
      ]
     },
     "execution_count": 9,
     "metadata": {},
     "output_type": "execute_result"
    }
   ],
   "source": [
    "env.observation_space"
   ]
  },
  {
   "cell_type": "code",
   "execution_count": 10,
   "metadata": {},
   "outputs": [
    {
     "data": {
      "text/plain": [
       "array([1.5      , 1.5      , 5.       , 5.       , 3.1415927, 5.       ,\n",
       "       1.       , 1.       ], dtype=float32)"
      ]
     },
     "execution_count": 10,
     "metadata": {},
     "output_type": "execute_result"
    }
   ],
   "source": [
    "env.observation_space.high"
   ]
  },
  {
   "cell_type": "code",
   "execution_count": 11,
   "metadata": {},
   "outputs": [
    {
     "data": {
      "text/plain": [
       "array([-1.5      , -1.5      , -5.       , -5.       , -3.1415927,\n",
       "       -5.       , -0.       , -0.       ], dtype=float32)"
      ]
     },
     "execution_count": 11,
     "metadata": {},
     "output_type": "execute_result"
    }
   ],
   "source": [
    "env.observation_space.low"
   ]
  },
  {
   "cell_type": "code",
   "execution_count": 12,
   "metadata": {},
   "outputs": [
    {
     "data": {
      "text/plain": [
       "(array([-0.00481291,  1.4101679 , -0.48750702, -0.03344014,  0.0055837 ,\n",
       "         0.11042758,  0.        ,  0.        ], dtype=float32),\n",
       " {})"
      ]
     },
     "execution_count": 12,
     "metadata": {},
     "output_type": "execute_result"
    }
   ],
   "source": [
    "env.reset()\n",
    "# [position, velocity]"
   ]
  },
  {
   "cell_type": "markdown",
   "metadata": {},
   "source": [
    "# Visualisation"
   ]
  },
  {
   "cell_type": "markdown",
   "metadata": {},
   "source": [
    "# Visualising a Random Action Choice\n",
    "\n",
    "Running the cell below will render an animation of the lunar lander's interaction with the environment as it performs a random action sample at each timestep."
   ]
  },
  {
   "cell_type": "code",
   "execution_count": 13,
   "metadata": {},
   "outputs": [
    {
     "name": "stdout",
     "output_type": "stream",
     "text": [
      "*** FAILED ***\n"
     ]
    },
    {
     "data": {
      "image/png": "[encoded data removed]",
      "text/plain": [
       "<Figure size 800x550 with 1 Axes>"
      ]
     },
     "metadata": {},
     "output_type": "display_data"
    }
   ],
   "source": [
    "env.reset ()\n",
    "img = plt.imshow(env.render()) # initialize bitmap embedding\n",
    "for e in range (201):\n",
    "  img.set_data(env.render()) # updating the data\n",
    "  display.display(plt.gcf())\n",
    "  display.clear_output(wait=True)\n",
    "  a = env.action_space.sample() # random action choice\n",
    "  # a = 2 # constant action choice\n",
    "  obs, rew, done, _, _ = env.step(a) # taking action\n",
    "  if done and (e + 1) < 200:\n",
    "    print('*** FAILED ***')\n",
    "    break"
   ]
  },
  {
   "cell_type": "markdown",
   "metadata": {},
   "source": [
    "With random actions it is unspurprising that the agent doesn't manage to safely land between the flagpoles."
   ]
  },
  {
   "cell_type": "markdown",
   "metadata": {},
   "source": [
    "# Setting Seeds"
   ]
  },
  {
   "cell_type": "code",
   "execution_count": 14,
   "metadata": {},
   "outputs": [],
   "source": [
    "def set_seeds(seed=100):\n",
    "    random.seed(seed)\n",
    "    np.random.seed(seed)\n",
    "    tf.random.set_random_seed(seed)\n",
    "    # env.seed(seed)\n",
    "\n",
    "set_seeds()"
   ]
  },
  {
   "cell_type": "markdown",
   "metadata": {},
   "source": [
    "# Q Learning"
   ]
  },
  {
   "cell_type": "code",
   "execution_count": 15,
   "metadata": {},
   "outputs": [
    {
     "name": "stderr",
     "output_type": "stream",
     "text": [
      "2024-06-05 05:56:36.271783: I tensorflow/core/platform/cpu_feature_guard.cc:193] This TensorFlow binary is optimized with oneAPI Deep Neural Network Library (oneDNN) to use the following CPU instructions in performance-critical operations:  SSE4.1 SSE4.2\n",
      "To enable them in other operations, rebuild TensorFlow with the appropriate compiler flags.\n"
     ]
    }
   ],
   "source": [
    "from collections import deque\n",
    "\n",
    "class DQNAgent:\n",
    "  def __init__(self):\n",
    "    self.epsilon = 1.0\n",
    "    self.epsilon_min = 0.01\n",
    "    self.epsilon_decay = 0.995\n",
    "    self.gamma = 0.95\n",
    "    self.batch_size = 128\n",
    "    self.max_treward = -1e6\n",
    "    self.averages = list()\n",
    "    self.memory = deque(maxlen=2000)\n",
    "    self.osn = env.observation_space.shape[0]\n",
    "    self.model = self.create_model()\n",
    "\n",
    "  def create_model(self):\n",
    "    model = Sequential()\n",
    "    model.add(Dense(1024, input_dim=self.osn, activation='relu'))\n",
    "    # model.add(Dense(128, activation='relu'))\n",
    "    model.add(Dense(env.action_space.n, activation='linear'))\n",
    "    model.compile(loss='mse', optimizer=Adam(learning_rate=0.001))\n",
    "    return model\n",
    "\n",
    "  def act(self, state):\n",
    "    if np.random.rand() <= self.epsilon:\n",
    "      return env.action_space.sample()\n",
    "    action = self.model.predict(state, verbose=0)\n",
    "    return np.argmax(action)\n",
    "  \n",
    "  def replay(self):\n",
    "    print(\"Performing replay\")\n",
    "    batch = random.sample(self.memory, self.batch_size)\n",
    "    for state, action, reward, next_state, done in batch:\n",
    "      # Reward design\n",
    "      reward -= np.mean(state[:1] ** 2) # Reward based on distance to origin\n",
    "      if not done:\n",
    "        reward += self.gamma * np.amax(self.model.predict(next_state, verbose=0)[0])\n",
    "      target = self.model.predict(state, verbose=0)\n",
    "      target[0, action] = reward\n",
    "      self.model.fit(state, target, epochs=1, verbose=False)\n",
    "    if self.epsilon > self.epsilon_min:\n",
    "      self.epsilon *= self.epsilon_decay\n",
    "    print(\"Finished replay\")\n",
    "\n",
    "  def learn(self, episodes):\n",
    "    trewards = []\n",
    "    self.actions = []\n",
    "    for e in range(1, episodes+1):\n",
    "      state = env.reset()[0]\n",
    "      state = np.reshape(state, [1, self.osn])\n",
    "      treward = 0\n",
    "      for time in range(5000):\n",
    "        action = self.act(state)\n",
    "        self.actions.append(action)\n",
    "        next_state, reward, done, truncated, info = env.step(action)\n",
    "        next_state = np.reshape(next_state, [1, self.osn])\n",
    "        self.memory.append([state, action, reward, next_state, done])\n",
    "        state = next_state\n",
    "        treward += float(reward)\n",
    "        if done or truncated:\n",
    "          trewards.append(treward)\n",
    "          av = sum(trewards[:25]) / 25 # Work out a Rolling average\n",
    "          self.averages.append(av)\n",
    "          self.max_treward = max(self.max_treward, treward)\n",
    "          print('Episode: {}/{},\\ttreward: {},\\tav: {:.2},\\tmax_r: {:2}'.format(e,episodes, treward, av, self.max_treward))\n",
    "          break\n",
    "      if len(self.memory) > self.batch_size:\n",
    "        self.replay()\n",
    "      if treward > 200:\n",
    "        break\n",
    "\n",
    "  def test(self, episodes=100):\n",
    "    trewards = []\n",
    "    for e in range(1, episodes+1):\n",
    "      print(f\"{e=}\")\n",
    "      state = env.reset()[0]\n",
    "      treward = 0\n",
    "      for time in range(1001):\n",
    "        state = np.reshape(state, [1, self.osn])\n",
    "        action = np.argmax(self.model.predict(state, verbose=0)[0])\n",
    "        next_state, reward, done, truncated, info = env.step(action)\n",
    "        state = next_state\n",
    "        treward += reward\n",
    "        if done or truncated or state[0] >= 0.5:\n",
    "          trewards.append(treward)\n",
    "          print('Episode: {}/{}, treward: {}, position: {}'.format(e, episodes, treward, state[0]))\n",
    "          break\n",
    "    return trewards\n",
    "\n",
    "agent = DQNAgent()"
   ]
  },
  {
   "cell_type": "code",
   "execution_count": 16,
   "metadata": {},
   "outputs": [
    {
     "name": "stdout",
     "output_type": "stream",
     "text": [
      "Episode: 1/1000,\ttreward: -129.21623805377635,\tav: -5.2,\tmax_r: -129.21623805377635\n",
      "Episode: 2/1000,\ttreward: -108.91163344707206,\tav: -9.5,\tmax_r: -108.91163344707206\n",
      "Performing replay\n",
      "Finished replay\n",
      "Episode: 3/1000,\ttreward: -131.20651419534263,\tav: -1.5e+01,\tmax_r: -108.91163344707206\n",
      "Performing replay\n",
      "Finished replay\n",
      "Episode: 4/1000,\ttreward: -240.39926143798297,\tav: -2.4e+01,\tmax_r: -108.91163344707206\n",
      "Performing replay\n",
      "Finished replay\n",
      "Episode: 5/1000,\ttreward: -435.0405082780169,\tav: -4.2e+01,\tmax_r: -108.91163344707206\n",
      "Performing replay\n",
      "Finished replay\n",
      "Episode: 6/1000,\ttreward: -133.25476671090456,\tav: -4.7e+01,\tmax_r: -108.91163344707206\n",
      "Performing replay\n",
      "Finished replay\n",
      "Episode: 7/1000,\ttreward: -90.73982414941626,\tav: -5.1e+01,\tmax_r: -90.73982414941626\n",
      "Performing replay\n",
      "Finished replay\n",
      "Episode: 8/1000,\ttreward: -384.7879447662381,\tav: -6.6e+01,\tmax_r: -90.73982414941626\n",
      "Performing replay\n",
      "Finished replay\n",
      "Episode: 9/1000,\ttreward: -426.10275495850647,\tav: -8.3e+01,\tmax_r: -90.73982414941626\n",
      "Performing replay\n",
      "Finished replay\n",
      "Episode: 10/1000,\ttreward: -206.7449313018011,\tav: -9.1e+01,\tmax_r: -90.73982414941626\n",
      "Performing replay\n",
      "Finished replay\n",
      "Episode: 11/1000,\ttreward: -146.9957364843761,\tav: -9.7e+01,\tmax_r: -90.73982414941626\n",
      "Performing replay\n",
      "Finished replay\n",
      "Episode: 12/1000,\ttreward: -97.34225099895778,\tav: -1e+02,\tmax_r: -90.73982414941626\n",
      "Performing replay\n",
      "Finished replay\n",
      "Episode: 13/1000,\ttreward: -77.9692156159055,\tav: -1e+02,\tmax_r: -77.9692156159055\n",
      "Performing replay\n",
      "Finished replay\n",
      "Episode: 14/1000,\ttreward: -120.99791354758351,\tav: -1.1e+02,\tmax_r: -77.9692156159055\n",
      "Performing replay\n",
      "Finished replay\n",
      "Episode: 15/1000,\ttreward: -289.7843735789512,\tav: -1.2e+02,\tmax_r: -77.9692156159055\n",
      "Performing replay\n",
      "Finished replay\n",
      "Episode: 16/1000,\ttreward: -64.56707090626001,\tav: -1.2e+02,\tmax_r: -64.56707090626001\n",
      "Performing replay\n",
      "Finished replay\n",
      "Episode: 17/1000,\ttreward: -126.6094425972727,\tav: -1.3e+02,\tmax_r: -64.56707090626001\n",
      "Performing replay\n",
      "Finished replay\n",
      "Episode: 18/1000,\ttreward: -168.4937044154538,\tav: -1.4e+02,\tmax_r: -64.56707090626001\n",
      "Performing replay\n",
      "Finished replay\n",
      "Episode: 19/1000,\ttreward: -140.04776871854233,\tav: -1.4e+02,\tmax_r: -64.56707090626001\n",
      "Performing replay\n",
      "Finished replay\n",
      "Episode: 20/1000,\ttreward: -103.20579476557579,\tav: -1.4e+02,\tmax_r: -64.56707090626001\n",
      "Performing replay\n",
      "Finished replay\n",
      "Episode: 21/1000,\ttreward: -270.57206981277574,\tav: -1.6e+02,\tmax_r: -64.56707090626001\n",
      "Performing replay\n",
      "Finished replay\n",
      "Episode: 22/1000,\ttreward: -262.4794665392533,\tav: -1.7e+02,\tmax_r: -64.56707090626001\n",
      "Performing replay\n",
      "Finished replay\n",
      "Episode: 23/1000,\ttreward: -143.63283147481445,\tav: -1.7e+02,\tmax_r: -64.56707090626001\n",
      "Performing replay\n",
      "Finished replay\n",
      "Episode: 24/1000,\ttreward: -86.36838074107979,\tav: -1.8e+02,\tmax_r: -64.56707090626001\n",
      "Performing replay\n",
      "Finished replay\n",
      "Episode: 25/1000,\ttreward: -93.90161702656017,\tav: -1.8e+02,\tmax_r: -64.56707090626001\n",
      "Performing replay\n",
      "Finished replay\n",
      "Episode: 26/1000,\ttreward: -201.03541738697504,\tav: -1.8e+02,\tmax_r: -64.56707090626001\n",
      "Performing replay\n",
      "Finished replay\n",
      "Episode: 27/1000,\ttreward: -126.27732691254405,\tav: -1.8e+02,\tmax_r: -64.56707090626001\n",
      "Performing replay\n"
     ]
    }
   ],
   "source": [
    "%time agent.learn(1000)"
   ]
  },
  {
   "cell_type": "markdown",
   "metadata": {},
   "source": [
    "The training finished when the cart reached a position of > 0.5 distance units. A plot of final position vs. training episode is shown below."
   ]
  },
  {
   "cell_type": "markdown",
   "metadata": {},
   "source": []
  },
  {
   "cell_type": "code",
   "execution_count": null,
   "metadata": {},
   "outputs": [
    {
     "name": "stdout",
     "output_type": "stream",
     "text": [
      "[]\n"
     ]
    }
   ],
   "source": [
    "plt.figure(figsize=(10, 6))\n",
    "x = range(len(agent.averages))\n",
    "y = np.polyval(np.polyfit(x, agent.averages, deg=3), x)\n",
    "plt.plot(agent.averages, label='Moving average')\n",
    "plt.plot(x, y, 'r-', label='regression')\n",
    "plt.xlabel('episodes')\n",
    "plt.ylabel('position value')\n",
    "plt.legend()"
   ]
  },
  {
   "cell_type": "markdown",
   "metadata": {},
   "source": [
    "Based on the plot we can get a sense of whether the agent has reliably/incrementally \"learned\"/improved it's performance, or if it simply completed the task as a fluke."
   ]
  },
  {
   "cell_type": "markdown",
   "metadata": {},
   "source": [
    "# Testing the Agent\n",
    "\n",
    "We test the agent to test if it has really \"learned\" the strategy to overcome the mountain, or rather managed to reach the finishing line by \"chance\"."
   ]
  },
  {
   "cell_type": "code",
   "execution_count": null,
   "metadata": {},
   "outputs": [
    {
     "name": "stdout",
     "output_type": "stream",
     "text": [
      "e=1\n"
     ]
    },
    {
     "name": "stdout",
     "output_type": "stream",
     "text": [
      "Episode: 1/100, treward: -158.1946438489477, position: -0.3760891854763031\n",
      "e=2\n",
      "Episode: 2/100, treward: -144.71288152481478, position: 0.13613156974315643\n",
      "e=3\n",
      "Episode: 3/100, treward: -241.8986614514554, position: 0.34921950101852417\n",
      "e=4\n",
      "Episode: 4/100, treward: -150.61607333035806, position: -0.2880241274833679\n",
      "e=5\n",
      "Episode: 5/100, treward: -225.69546150289568, position: 0.5040483474731445\n",
      "e=6\n",
      "Episode: 6/100, treward: -168.300330533976, position: -0.4349389672279358\n",
      "e=7\n",
      "Episode: 7/100, treward: -122.24802377195084, position: -0.14157629013061523\n",
      "e=8\n",
      "Episode: 8/100, treward: -117.00407181106112, position: -0.21474996209144592\n",
      "e=9\n",
      "Episode: 9/100, treward: -142.6416200678372, position: -0.22454003989696503\n",
      "e=10\n",
      "Episode: 10/100, treward: -125.64733369159606, position: -0.25971388816833496\n",
      "e=11\n",
      "Episode: 11/100, treward: -112.86124576557529, position: -8.640289161121473e-05\n",
      "e=12\n",
      "Episode: 12/100, treward: -154.66269940803048, position: -0.2738047242164612\n",
      "e=13\n",
      "Episode: 13/100, treward: -164.93088172673234, position: -0.39210009574890137\n",
      "e=14\n",
      "Episode: 14/100, treward: -145.2676666687619, position: -0.348123699426651\n",
      "e=15\n",
      "Episode: 15/100, treward: -143.1271299497558, position: -0.3126834034919739\n",
      "e=16\n",
      "Episode: 16/100, treward: -137.16958220422552, position: 0.01014413870871067\n",
      "e=17\n",
      "Episode: 17/100, treward: -178.99073807595664, position: 0.16139507293701172\n",
      "e=18\n",
      "Episode: 18/100, treward: -131.27447404581227, position: -0.3062663972377777\n",
      "e=19\n",
      "Episode: 19/100, treward: -27.57007486083964, position: -0.3097603917121887\n",
      "e=20\n",
      "Episode: 20/100, treward: -387.4768031796341, position: 0.4116078317165375\n",
      "e=21\n",
      "Episode: 21/100, treward: 5.89888914429612, position: -0.3477124273777008\n",
      "e=22\n",
      "Episode: 22/100, treward: -149.5799220377601, position: -0.2905058264732361\n",
      "e=23\n",
      "Episode: 23/100, treward: -155.3199789300962, position: -0.30299097299575806\n",
      "e=24\n",
      "Episode: 24/100, treward: -158.27907954772905, position: -0.3943760395050049\n",
      "e=25\n",
      "Episode: 25/100, treward: -250.27773312072276, position: 0.3359934687614441\n",
      "e=26\n",
      "Episode: 26/100, treward: -102.02480655397116, position: -0.1623714417219162\n",
      "e=27\n",
      "Episode: 27/100, treward: -283.8312827455404, position: 0.46354684233665466\n",
      "e=28\n",
      "Episode: 28/100, treward: -95.60396704728672, position: -0.07232408225536346\n",
      "e=29\n",
      "Episode: 29/100, treward: -153.95126347521918, position: -0.35248857736587524\n",
      "e=30\n",
      "Episode: 30/100, treward: -121.63872461613818, position: 0.0589868538081646\n",
      "e=31\n",
      "Episode: 31/100, treward: -158.37639687834616, position: 0.09578227996826172\n",
      "e=32\n",
      "Episode: 32/100, treward: -170.25817935706715, position: -0.4075002670288086\n",
      "e=33\n",
      "Episode: 33/100, treward: -113.89873242058238, position: -0.09867973625659943\n",
      "e=34\n",
      "Episode: 34/100, treward: -118.48831603350817, position: -0.18107232451438904\n",
      "e=35\n",
      "Episode: 35/100, treward: -87.42926657470473, position: -0.0032227516639977694\n",
      "e=36\n",
      "Episode: 36/100, treward: -126.56373117830725, position: -0.3085910379886627\n",
      "e=37\n",
      "Episode: 37/100, treward: -301.19503534282944, position: 0.42245998978614807\n",
      "e=38\n",
      "Episode: 38/100, treward: -115.8427309789113, position: 0.02881317213177681\n",
      "e=39\n",
      "Episode: 39/100, treward: -148.32568711288468, position: 0.11531305313110352\n",
      "e=40\n",
      "Episode: 40/100, treward: -110.00149962249455, position: -0.08864669501781464\n",
      "e=41\n",
      "Episode: 41/100, treward: -289.42179341305234, position: 0.4043967127799988\n",
      "e=42\n",
      "Episode: 42/100, treward: -181.8821733175025, position: 0.1823999434709549\n",
      "e=43\n",
      "Episode: 43/100, treward: -160.09383603343628, position: 0.1033557876944542\n",
      "e=44\n",
      "Episode: 44/100, treward: -207.3192998526612, position: 0.27873390913009644\n",
      "e=45\n",
      "Episode: 45/100, treward: -266.41217469990704, position: 0.39077845215797424\n",
      "e=46\n",
      "Episode: 46/100, treward: -288.6085264715569, position: -0.33365923166275024\n",
      "e=47\n",
      "Episode: 47/100, treward: -266.13944391062284, position: 0.5034415125846863\n",
      "e=48\n",
      "Episode: 48/100, treward: -283.0965924980409, position: 0.45627516508102417\n",
      "e=49\n",
      "Episode: 49/100, treward: -143.24367624766444, position: 0.04647321626543999\n",
      "e=50\n",
      "Episode: 50/100, treward: -300.38901175162937, position: 0.42737454175949097\n",
      "e=51\n",
      "Episode: 51/100, treward: -110.5474862675101, position: -0.10871820151805878\n",
      "e=52\n",
      "Episode: 52/100, treward: -183.29653291811704, position: 0.5072146654129028\n",
      "e=53\n",
      "Episode: 53/100, treward: -323.8619776657158, position: 0.37196969985961914\n",
      "e=54\n",
      "Episode: 54/100, treward: -167.23330643315305, position: 0.18571051955223083\n",
      "e=55\n",
      "Episode: 55/100, treward: -187.94964700245924, position: -0.630914032459259\n",
      "e=56\n",
      "Episode: 56/100, treward: -111.89554124859046, position: -0.2476487159729004\n",
      "e=57\n",
      "Episode: 57/100, treward: -154.32432039764058, position: -0.4254700541496277\n",
      "e=58\n",
      "Episode: 58/100, treward: -146.1183718041501, position: -0.239392951130867\n",
      "e=59\n",
      "Episode: 59/100, treward: -106.53432330567756, position: 0.008336353115737438\n",
      "e=60\n",
      "Episode: 60/100, treward: -140.45734294719568, position: -0.24570879340171814\n",
      "e=61\n",
      "Episode: 61/100, treward: -134.96065635315009, position: -0.14657430350780487\n",
      "e=62\n",
      "Episode: 62/100, treward: -178.17807353672853, position: -0.5281006097793579\n",
      "e=63\n",
      "Episode: 63/100, treward: -206.6317754673203, position: 0.2995864748954773\n",
      "e=64\n",
      "Episode: 64/100, treward: -101.33259318373302, position: -0.2750867009162903\n",
      "e=65\n",
      "Episode: 65/100, treward: -273.5029495526437, position: 0.3856692314147949\n",
      "e=66\n",
      "Episode: 66/100, treward: -165.06226284116485, position: -0.46525731682777405\n",
      "e=67\n",
      "Episode: 67/100, treward: -184.9744021105397, position: -0.5072171092033386\n",
      "e=68\n",
      "Episode: 68/100, treward: -274.42479516820316, position: -0.4975360333919525\n",
      "e=69\n",
      "Episode: 69/100, treward: -73.93411818018811, position: -0.5123053789138794\n",
      "e=70\n",
      "Episode: 70/100, treward: -169.31154970732305, position: 0.5018917918205261\n",
      "e=71\n",
      "Episode: 71/100, treward: -197.29960586398334, position: 0.327495276927948\n",
      "e=72\n",
      "Episode: 72/100, treward: -136.70312423732912, position: 0.11907186359167099\n",
      "e=73\n",
      "Episode: 73/100, treward: -122.51464023578649, position: -0.21194863319396973\n",
      "e=74\n",
      "Episode: 74/100, treward: -117.64017390553303, position: -0.14635220170021057\n",
      "e=75\n",
      "Episode: 75/100, treward: -114.66949208837255, position: -0.1038186103105545\n",
      "e=76\n",
      "Episode: 76/100, treward: -374.6462427856898, position: -0.4336417615413666\n",
      "e=77\n",
      "Episode: 77/100, treward: -150.65805281396885, position: -0.2752017378807068\n",
      "e=78\n",
      "Episode: 78/100, treward: -159.70122469033828, position: -0.4255264401435852\n",
      "e=79\n",
      "Episode: 79/100, treward: -161.66179733390737, position: -0.3395281732082367\n",
      "e=80\n",
      "Episode: 80/100, treward: -126.54982216674907, position: -0.1921834945678711\n",
      "e=81\n"
     ]
    },
    {
     "ename": "KeyboardInterrupt",
     "evalue": "",
     "output_type": "error",
     "traceback": [
      "\u001b[0;31m---------------------------------------------------------------------------\u001b[0m",
      "\u001b[0;31mKeyboardInterrupt\u001b[0m                         Traceback (most recent call last)",
      "Cell \u001b[0;32mIn[15], line 1\u001b[0m\n\u001b[0;32m----> 1\u001b[0m trewards, tpositions \u001b[38;5;241m=\u001b[39m \u001b[43magent\u001b[49m\u001b[38;5;241;43m.\u001b[39;49m\u001b[43mtest\u001b[49m\u001b[43m(\u001b[49m\u001b[38;5;241;43m100\u001b[39;49m\u001b[43m)\u001b[49m\n",
      "Cell \u001b[0;32mIn[12], line 96\u001b[0m, in \u001b[0;36mDQNAgent.test\u001b[0;34m(self, episodes)\u001b[0m\n\u001b[1;32m     94\u001b[0m \u001b[38;5;28;01mfor\u001b[39;00m time \u001b[38;5;129;01min\u001b[39;00m \u001b[38;5;28mrange\u001b[39m(\u001b[38;5;241m5000\u001b[39m):\n\u001b[1;32m     95\u001b[0m   state \u001b[38;5;241m=\u001b[39m np\u001b[38;5;241m.\u001b[39mreshape(state, [\u001b[38;5;241m1\u001b[39m, \u001b[38;5;28mself\u001b[39m\u001b[38;5;241m.\u001b[39mosn])\n\u001b[0;32m---> 96\u001b[0m   action \u001b[38;5;241m=\u001b[39m np\u001b[38;5;241m.\u001b[39margmax(\u001b[38;5;28;43mself\u001b[39;49m\u001b[38;5;241;43m.\u001b[39;49m\u001b[43mmodel\u001b[49m\u001b[38;5;241;43m.\u001b[39;49m\u001b[43mpredict\u001b[49m\u001b[43m(\u001b[49m\u001b[43mstate\u001b[49m\u001b[43m,\u001b[49m\u001b[43m \u001b[49m\u001b[43mverbose\u001b[49m\u001b[38;5;241;43m=\u001b[39;49m\u001b[38;5;241;43m0\u001b[39;49m\u001b[43m)\u001b[49m[\u001b[38;5;241m0\u001b[39m])\n\u001b[1;32m     97\u001b[0m   next_state, reward, done, truncated, info \u001b[38;5;241m=\u001b[39m env\u001b[38;5;241m.\u001b[39mstep(action)\n\u001b[1;32m     98\u001b[0m   state \u001b[38;5;241m=\u001b[39m next_state\n",
      "File \u001b[0;32m~/miniconda3/envs/qfc/lib/python3.10/site-packages/keras/src/utils/traceback_utils.py:117\u001b[0m, in \u001b[0;36mfilter_traceback.<locals>.error_handler\u001b[0;34m(*args, **kwargs)\u001b[0m\n\u001b[1;32m    115\u001b[0m filtered_tb \u001b[38;5;241m=\u001b[39m \u001b[38;5;28;01mNone\u001b[39;00m\n\u001b[1;32m    116\u001b[0m \u001b[38;5;28;01mtry\u001b[39;00m:\n\u001b[0;32m--> 117\u001b[0m     \u001b[38;5;28;01mreturn\u001b[39;00m \u001b[43mfn\u001b[49m\u001b[43m(\u001b[49m\u001b[38;5;241;43m*\u001b[39;49m\u001b[43margs\u001b[49m\u001b[43m,\u001b[49m\u001b[43m \u001b[49m\u001b[38;5;241;43m*\u001b[39;49m\u001b[38;5;241;43m*\u001b[39;49m\u001b[43mkwargs\u001b[49m\u001b[43m)\u001b[49m\n\u001b[1;32m    118\u001b[0m \u001b[38;5;28;01mexcept\u001b[39;00m \u001b[38;5;167;01mException\u001b[39;00m \u001b[38;5;28;01mas\u001b[39;00m e:\n\u001b[1;32m    119\u001b[0m     filtered_tb \u001b[38;5;241m=\u001b[39m _process_traceback_frames(e\u001b[38;5;241m.\u001b[39m__traceback__)\n",
      "File \u001b[0;32m~/miniconda3/envs/qfc/lib/python3.10/site-packages/keras/src/backend/tensorflow/trainer.py:442\u001b[0m, in \u001b[0;36mTensorFlowTrainer.predict\u001b[0;34m(self, x, batch_size, verbose, steps, callbacks)\u001b[0m\n\u001b[1;32m    437\u001b[0m \u001b[38;5;129m@traceback_utils\u001b[39m\u001b[38;5;241m.\u001b[39mfilter_traceback\n\u001b[1;32m    438\u001b[0m \u001b[38;5;28;01mdef\u001b[39;00m \u001b[38;5;21mpredict\u001b[39m(\n\u001b[1;32m    439\u001b[0m     \u001b[38;5;28mself\u001b[39m, x, batch_size\u001b[38;5;241m=\u001b[39m\u001b[38;5;28;01mNone\u001b[39;00m, verbose\u001b[38;5;241m=\u001b[39m\u001b[38;5;124m\"\u001b[39m\u001b[38;5;124mauto\u001b[39m\u001b[38;5;124m\"\u001b[39m, steps\u001b[38;5;241m=\u001b[39m\u001b[38;5;28;01mNone\u001b[39;00m, callbacks\u001b[38;5;241m=\u001b[39m\u001b[38;5;28;01mNone\u001b[39;00m\n\u001b[1;32m    440\u001b[0m ):\n\u001b[1;32m    441\u001b[0m     \u001b[38;5;66;03m# Create an iterator that yields batches of input data.\u001b[39;00m\n\u001b[0;32m--> 442\u001b[0m     epoch_iterator \u001b[38;5;241m=\u001b[39m \u001b[43mTFEpochIterator\u001b[49m\u001b[43m(\u001b[49m\n\u001b[1;32m    443\u001b[0m \u001b[43m        \u001b[49m\u001b[43mx\u001b[49m\u001b[38;5;241;43m=\u001b[39;49m\u001b[43mx\u001b[49m\u001b[43m,\u001b[49m\n\u001b[1;32m    444\u001b[0m \u001b[43m        \u001b[49m\u001b[43mbatch_size\u001b[49m\u001b[38;5;241;43m=\u001b[39;49m\u001b[43mbatch_size\u001b[49m\u001b[43m,\u001b[49m\n\u001b[1;32m    445\u001b[0m \u001b[43m        \u001b[49m\u001b[43msteps_per_epoch\u001b[49m\u001b[38;5;241;43m=\u001b[39;49m\u001b[43msteps\u001b[49m\u001b[43m,\u001b[49m\n\u001b[1;32m    446\u001b[0m \u001b[43m        \u001b[49m\u001b[43mshuffle\u001b[49m\u001b[38;5;241;43m=\u001b[39;49m\u001b[38;5;28;43;01mFalse\u001b[39;49;00m\u001b[43m,\u001b[49m\n\u001b[1;32m    447\u001b[0m \u001b[43m        \u001b[49m\u001b[43mdistribute_strategy\u001b[49m\u001b[38;5;241;43m=\u001b[39;49m\u001b[38;5;28;43mself\u001b[39;49m\u001b[38;5;241;43m.\u001b[39;49m\u001b[43mdistribute_strategy\u001b[49m\u001b[43m,\u001b[49m\n\u001b[1;32m    448\u001b[0m \u001b[43m        \u001b[49m\u001b[43msteps_per_execution\u001b[49m\u001b[38;5;241;43m=\u001b[39;49m\u001b[38;5;28;43mself\u001b[39;49m\u001b[38;5;241;43m.\u001b[39;49m\u001b[43msteps_per_execution\u001b[49m\u001b[43m,\u001b[49m\n\u001b[1;32m    449\u001b[0m \u001b[43m    \u001b[49m\u001b[43m)\u001b[49m\n\u001b[1;32m    451\u001b[0m     \u001b[38;5;66;03m# Container that configures and calls callbacks.\u001b[39;00m\n\u001b[1;32m    452\u001b[0m     \u001b[38;5;28;01mif\u001b[39;00m \u001b[38;5;129;01mnot\u001b[39;00m \u001b[38;5;28misinstance\u001b[39m(callbacks, callbacks_module\u001b[38;5;241m.\u001b[39mCallbackList):\n",
      "File \u001b[0;32m~/miniconda3/envs/qfc/lib/python3.10/site-packages/keras/src/backend/tensorflow/trainer.py:625\u001b[0m, in \u001b[0;36mTFEpochIterator.__init__\u001b[0;34m(self, distribute_strategy, *args, **kwargs)\u001b[0m\n\u001b[1;32m    623\u001b[0m \u001b[38;5;28msuper\u001b[39m()\u001b[38;5;241m.\u001b[39m\u001b[38;5;21m__init__\u001b[39m(\u001b[38;5;241m*\u001b[39margs, \u001b[38;5;241m*\u001b[39m\u001b[38;5;241m*\u001b[39mkwargs)\n\u001b[1;32m    624\u001b[0m \u001b[38;5;28mself\u001b[39m\u001b[38;5;241m.\u001b[39m_distribute_strategy \u001b[38;5;241m=\u001b[39m distribute_strategy\n\u001b[0;32m--> 625\u001b[0m dataset \u001b[38;5;241m=\u001b[39m \u001b[38;5;28;43mself\u001b[39;49m\u001b[38;5;241;43m.\u001b[39;49m\u001b[43m_get_iterator\u001b[49m\u001b[43m(\u001b[49m\u001b[43m)\u001b[49m\n\u001b[1;32m    626\u001b[0m \u001b[38;5;28;01mif\u001b[39;00m \u001b[38;5;129;01mnot\u001b[39;00m \u001b[38;5;28misinstance\u001b[39m(dataset, tf\u001b[38;5;241m.\u001b[39mdistribute\u001b[38;5;241m.\u001b[39mDistributedDataset):\n\u001b[1;32m    627\u001b[0m     dataset \u001b[38;5;241m=\u001b[39m \u001b[38;5;28mself\u001b[39m\u001b[38;5;241m.\u001b[39m_distribute_strategy\u001b[38;5;241m.\u001b[39mexperimental_distribute_dataset(\n\u001b[1;32m    628\u001b[0m         dataset\n\u001b[1;32m    629\u001b[0m     )\n",
      "File \u001b[0;32m~/miniconda3/envs/qfc/lib/python3.10/site-packages/keras/src/backend/tensorflow/trainer.py:634\u001b[0m, in \u001b[0;36mTFEpochIterator._get_iterator\u001b[0;34m(self)\u001b[0m\n\u001b[1;32m    633\u001b[0m \u001b[38;5;28;01mdef\u001b[39;00m \u001b[38;5;21m_get_iterator\u001b[39m(\u001b[38;5;28mself\u001b[39m):\n\u001b[0;32m--> 634\u001b[0m     \u001b[38;5;28;01mreturn\u001b[39;00m \u001b[38;5;28;43mself\u001b[39;49m\u001b[38;5;241;43m.\u001b[39;49m\u001b[43mdata_adapter\u001b[49m\u001b[38;5;241;43m.\u001b[39;49m\u001b[43mget_tf_dataset\u001b[49m\u001b[43m(\u001b[49m\u001b[43m)\u001b[49m\n",
      "File \u001b[0;32m~/miniconda3/envs/qfc/lib/python3.10/site-packages/keras/src/trainers/data_adapters/array_data_adapter.py:140\u001b[0m, in \u001b[0;36mArrayDataAdapter.get_tf_dataset\u001b[0;34m(self)\u001b[0m\n\u001b[1;32m    133\u001b[0m     \u001b[38;5;28;01mreturn\u001b[39;00m indices\n\u001b[1;32m    135\u001b[0m \u001b[38;5;66;03m# We prefetch a single element. Computing large permutations can take\u001b[39;00m\n\u001b[1;32m    136\u001b[0m \u001b[38;5;66;03m# quite a while so we don't want to wait for prefetching over an epoch\u001b[39;00m\n\u001b[1;32m    137\u001b[0m \u001b[38;5;66;03m# boundary to trigger the next permutation. On the other hand, too many\u001b[39;00m\n\u001b[1;32m    138\u001b[0m \u001b[38;5;66;03m# simultaneous shuffles can contend on a hardware level and degrade all\u001b[39;00m\n\u001b[1;32m    139\u001b[0m \u001b[38;5;66;03m# performance.\u001b[39;00m\n\u001b[0;32m--> 140\u001b[0m indices_dataset \u001b[38;5;241m=\u001b[39m \u001b[43mindices_dataset\u001b[49m\u001b[38;5;241;43m.\u001b[39;49m\u001b[43mmap\u001b[49m\u001b[43m(\u001b[49m\u001b[43mpermutation\u001b[49m\u001b[43m)\u001b[49m\u001b[38;5;241m.\u001b[39mprefetch(\u001b[38;5;241m1\u001b[39m)\n\u001b[1;32m    142\u001b[0m \u001b[38;5;28;01mdef\u001b[39;00m \u001b[38;5;21mslice_batch_indices\u001b[39m(indices):\n\u001b[1;32m    143\u001b[0m \u001b[38;5;250m    \u001b[39m\u001b[38;5;124;03m\"\"\"Convert a Tensor of indices into a dataset of batched indices.\u001b[39;00m\n\u001b[1;32m    144\u001b[0m \n\u001b[1;32m    145\u001b[0m \u001b[38;5;124;03m    This step can be accomplished in several ways. The most natural is\u001b[39;00m\n\u001b[0;32m   (...)\u001b[0m\n\u001b[1;32m    157\u001b[0m \u001b[38;5;124;03m        A Dataset of batched indices.\u001b[39;00m\n\u001b[1;32m    158\u001b[0m \u001b[38;5;124;03m    \"\"\"\u001b[39;00m\n",
      "File \u001b[0;32m~/miniconda3/envs/qfc/lib/python3.10/site-packages/tensorflow/python/data/ops/dataset_ops.py:2294\u001b[0m, in \u001b[0;36mDatasetV2.map\u001b[0;34m(self, map_func, num_parallel_calls, deterministic, name)\u001b[0m\n\u001b[1;32m   2291\u001b[0m   \u001b[38;5;28;01mif\u001b[39;00m deterministic \u001b[38;5;129;01mis\u001b[39;00m \u001b[38;5;129;01mnot\u001b[39;00m \u001b[38;5;28;01mNone\u001b[39;00m \u001b[38;5;129;01mand\u001b[39;00m \u001b[38;5;129;01mnot\u001b[39;00m DEBUG_MODE:\n\u001b[1;32m   2292\u001b[0m     warnings\u001b[38;5;241m.\u001b[39mwarn(\u001b[38;5;124m\"\u001b[39m\u001b[38;5;124mThe `deterministic` argument has no effect unless the \u001b[39m\u001b[38;5;124m\"\u001b[39m\n\u001b[1;32m   2293\u001b[0m                   \u001b[38;5;124m\"\u001b[39m\u001b[38;5;124m`num_parallel_calls` argument is specified.\u001b[39m\u001b[38;5;124m\"\u001b[39m)\n\u001b[0;32m-> 2294\u001b[0m   \u001b[38;5;28;01mreturn\u001b[39;00m \u001b[43mMapDataset\u001b[49m\u001b[43m(\u001b[49m\u001b[38;5;28;43mself\u001b[39;49m\u001b[43m,\u001b[49m\u001b[43m \u001b[49m\u001b[43mmap_func\u001b[49m\u001b[43m,\u001b[49m\u001b[43m \u001b[49m\u001b[43mpreserve_cardinality\u001b[49m\u001b[38;5;241;43m=\u001b[39;49m\u001b[38;5;28;43;01mTrue\u001b[39;49;00m\u001b[43m,\u001b[49m\u001b[43m \u001b[49m\u001b[43mname\u001b[49m\u001b[38;5;241;43m=\u001b[39;49m\u001b[43mname\u001b[49m\u001b[43m)\u001b[49m\n\u001b[1;32m   2295\u001b[0m \u001b[38;5;28;01melse\u001b[39;00m:\n\u001b[1;32m   2296\u001b[0m   \u001b[38;5;28;01mreturn\u001b[39;00m ParallelMapDataset(\n\u001b[1;32m   2297\u001b[0m       \u001b[38;5;28mself\u001b[39m,\n\u001b[1;32m   2298\u001b[0m       map_func,\n\u001b[0;32m   (...)\u001b[0m\n\u001b[1;32m   2301\u001b[0m       preserve_cardinality\u001b[38;5;241m=\u001b[39m\u001b[38;5;28;01mTrue\u001b[39;00m,\n\u001b[1;32m   2302\u001b[0m       name\u001b[38;5;241m=\u001b[39mname)\n",
      "File \u001b[0;32m~/miniconda3/envs/qfc/lib/python3.10/site-packages/tensorflow/python/data/ops/dataset_ops.py:5499\u001b[0m, in \u001b[0;36mMapDataset.__init__\u001b[0;34m(self, input_dataset, map_func, use_inter_op_parallelism, preserve_cardinality, use_legacy_function, name)\u001b[0m\n\u001b[1;32m   5497\u001b[0m \u001b[38;5;28mself\u001b[39m\u001b[38;5;241m.\u001b[39m_use_inter_op_parallelism \u001b[38;5;241m=\u001b[39m use_inter_op_parallelism\n\u001b[1;32m   5498\u001b[0m \u001b[38;5;28mself\u001b[39m\u001b[38;5;241m.\u001b[39m_preserve_cardinality \u001b[38;5;241m=\u001b[39m preserve_cardinality\n\u001b[0;32m-> 5499\u001b[0m \u001b[38;5;28mself\u001b[39m\u001b[38;5;241m.\u001b[39m_map_func \u001b[38;5;241m=\u001b[39m \u001b[43mstructured_function\u001b[49m\u001b[38;5;241;43m.\u001b[39;49m\u001b[43mStructuredFunctionWrapper\u001b[49m\u001b[43m(\u001b[49m\n\u001b[1;32m   5500\u001b[0m \u001b[43m    \u001b[49m\u001b[43mmap_func\u001b[49m\u001b[43m,\u001b[49m\n\u001b[1;32m   5501\u001b[0m \u001b[43m    \u001b[49m\u001b[38;5;28;43mself\u001b[39;49m\u001b[38;5;241;43m.\u001b[39;49m\u001b[43m_transformation_name\u001b[49m\u001b[43m(\u001b[49m\u001b[43m)\u001b[49m\u001b[43m,\u001b[49m\n\u001b[1;32m   5502\u001b[0m \u001b[43m    \u001b[49m\u001b[43mdataset\u001b[49m\u001b[38;5;241;43m=\u001b[39;49m\u001b[43minput_dataset\u001b[49m\u001b[43m,\u001b[49m\n\u001b[1;32m   5503\u001b[0m \u001b[43m    \u001b[49m\u001b[43muse_legacy_function\u001b[49m\u001b[38;5;241;43m=\u001b[39;49m\u001b[43muse_legacy_function\u001b[49m\u001b[43m)\u001b[49m\n\u001b[1;32m   5504\u001b[0m \u001b[38;5;28mself\u001b[39m\u001b[38;5;241m.\u001b[39m_name \u001b[38;5;241m=\u001b[39m name\n\u001b[1;32m   5505\u001b[0m variant_tensor \u001b[38;5;241m=\u001b[39m gen_dataset_ops\u001b[38;5;241m.\u001b[39mmap_dataset(\n\u001b[1;32m   5506\u001b[0m     input_dataset\u001b[38;5;241m.\u001b[39m_variant_tensor,  \u001b[38;5;66;03m# pylint: disable=protected-access\u001b[39;00m\n\u001b[1;32m   5507\u001b[0m     \u001b[38;5;28mself\u001b[39m\u001b[38;5;241m.\u001b[39m_map_func\u001b[38;5;241m.\u001b[39mfunction\u001b[38;5;241m.\u001b[39mcaptured_inputs,\n\u001b[0;32m   (...)\u001b[0m\n\u001b[1;32m   5510\u001b[0m     preserve_cardinality\u001b[38;5;241m=\u001b[39m\u001b[38;5;28mself\u001b[39m\u001b[38;5;241m.\u001b[39m_preserve_cardinality,\n\u001b[1;32m   5511\u001b[0m     \u001b[38;5;241m*\u001b[39m\u001b[38;5;241m*\u001b[39m\u001b[38;5;28mself\u001b[39m\u001b[38;5;241m.\u001b[39m_common_args)\n",
      "File \u001b[0;32m~/miniconda3/envs/qfc/lib/python3.10/site-packages/tensorflow/python/data/ops/structured_function.py:263\u001b[0m, in \u001b[0;36mStructuredFunctionWrapper.__init__\u001b[0;34m(self, func, transformation_name, dataset, input_classes, input_shapes, input_types, input_structure, add_to_graph, use_legacy_function, defun_kwargs)\u001b[0m\n\u001b[1;32m    256\u001b[0m       warnings\u001b[38;5;241m.\u001b[39mwarn(\n\u001b[1;32m    257\u001b[0m           \u001b[38;5;124m\"\u001b[39m\u001b[38;5;124mEven though the `tf.config.experimental_run_functions_eagerly` \u001b[39m\u001b[38;5;124m\"\u001b[39m\n\u001b[1;32m    258\u001b[0m           \u001b[38;5;124m\"\u001b[39m\u001b[38;5;124moption is set, this option does not apply to tf.data functions. \u001b[39m\u001b[38;5;124m\"\u001b[39m\n\u001b[1;32m    259\u001b[0m           \u001b[38;5;124m\"\u001b[39m\u001b[38;5;124mTo force eager execution of tf.data functions, please use \u001b[39m\u001b[38;5;124m\"\u001b[39m\n\u001b[1;32m    260\u001b[0m           \u001b[38;5;124m\"\u001b[39m\u001b[38;5;124m`tf.data.experimental.enable_debug_mode()`.\u001b[39m\u001b[38;5;124m\"\u001b[39m)\n\u001b[1;32m    261\u001b[0m     fn_factory \u001b[38;5;241m=\u001b[39m trace_tf_function(defun_kwargs)\n\u001b[0;32m--> 263\u001b[0m \u001b[38;5;28mself\u001b[39m\u001b[38;5;241m.\u001b[39m_function \u001b[38;5;241m=\u001b[39m \u001b[43mfn_factory\u001b[49m\u001b[43m(\u001b[49m\u001b[43m)\u001b[49m\n\u001b[1;32m    264\u001b[0m \u001b[38;5;66;03m# There is no graph to add in eager mode.\u001b[39;00m\n\u001b[1;32m    265\u001b[0m add_to_graph \u001b[38;5;241m&\u001b[39m\u001b[38;5;241m=\u001b[39m \u001b[38;5;129;01mnot\u001b[39;00m context\u001b[38;5;241m.\u001b[39mexecuting_eagerly()\n",
      "File \u001b[0;32m~/miniconda3/envs/qfc/lib/python3.10/site-packages/tensorflow/python/eager/polymorphic_function/tracing_compiler.py:226\u001b[0m, in \u001b[0;36mTracingCompiler.get_concrete_function\u001b[0;34m(self, *args, **kwargs)\u001b[0m\n\u001b[1;32m    217\u001b[0m \u001b[38;5;28;01mdef\u001b[39;00m \u001b[38;5;21mget_concrete_function\u001b[39m(\u001b[38;5;28mself\u001b[39m, \u001b[38;5;241m*\u001b[39margs, \u001b[38;5;241m*\u001b[39m\u001b[38;5;241m*\u001b[39mkwargs):\n\u001b[1;32m    218\u001b[0m \u001b[38;5;250m  \u001b[39m\u001b[38;5;124;03m\"\"\"Returns a `ConcreteFunction` specialized to inputs and execution context.\u001b[39;00m\n\u001b[1;32m    219\u001b[0m \n\u001b[1;32m    220\u001b[0m \u001b[38;5;124;03m  Args:\u001b[39;00m\n\u001b[0;32m   (...)\u001b[0m\n\u001b[1;32m    224\u001b[0m \u001b[38;5;124;03m      `tf.Tensor` or `tf.TensorSpec`.\u001b[39;00m\n\u001b[1;32m    225\u001b[0m \u001b[38;5;124;03m  \"\"\"\u001b[39;00m\n\u001b[0;32m--> 226\u001b[0m   concrete_function \u001b[38;5;241m=\u001b[39m \u001b[38;5;28;43mself\u001b[39;49m\u001b[38;5;241;43m.\u001b[39;49m\u001b[43m_get_concrete_function_garbage_collected\u001b[49m\u001b[43m(\u001b[49m\n\u001b[1;32m    227\u001b[0m \u001b[43m      \u001b[49m\u001b[38;5;241;43m*\u001b[39;49m\u001b[43margs\u001b[49m\u001b[43m,\u001b[49m\u001b[43m \u001b[49m\u001b[38;5;241;43m*\u001b[39;49m\u001b[38;5;241;43m*\u001b[39;49m\u001b[43mkwargs\u001b[49m\u001b[43m)\u001b[49m\n\u001b[1;32m    228\u001b[0m   concrete_function\u001b[38;5;241m.\u001b[39m_garbage_collector\u001b[38;5;241m.\u001b[39mrelease()  \u001b[38;5;66;03m# pylint: disable=protected-access\u001b[39;00m\n\u001b[1;32m    229\u001b[0m   \u001b[38;5;28;01mreturn\u001b[39;00m concrete_function\n",
      "File \u001b[0;32m~/miniconda3/envs/qfc/lib/python3.10/site-packages/tensorflow/python/eager/polymorphic_function/tracing_compiler.py:192\u001b[0m, in \u001b[0;36mTracingCompiler._get_concrete_function_garbage_collected\u001b[0;34m(self, *args, **kwargs)\u001b[0m\n\u001b[1;32m    189\u001b[0m   \u001b[38;5;28mself\u001b[39m\u001b[38;5;241m.\u001b[39m_function_spec\u001b[38;5;241m.\u001b[39mvalidate_inputs_with_signature(args, kwargs)\n\u001b[1;32m    191\u001b[0m \u001b[38;5;28;01mwith\u001b[39;00m \u001b[38;5;28mself\u001b[39m\u001b[38;5;241m.\u001b[39m_lock:\n\u001b[0;32m--> 192\u001b[0m   concrete_function, _ \u001b[38;5;241m=\u001b[39m \u001b[38;5;28;43mself\u001b[39;49m\u001b[38;5;241;43m.\u001b[39;49m\u001b[43m_maybe_define_concrete_function\u001b[49m\u001b[43m(\u001b[49m\u001b[43margs\u001b[49m\u001b[43m,\u001b[49m\u001b[43m \u001b[49m\u001b[43mkwargs\u001b[49m\u001b[43m)\u001b[49m\n\u001b[1;32m    193\u001b[0m   seen_names \u001b[38;5;241m=\u001b[39m \u001b[38;5;28mset\u001b[39m()\n\u001b[1;32m    194\u001b[0m   captured \u001b[38;5;241m=\u001b[39m object_identity\u001b[38;5;241m.\u001b[39mObjectIdentitySet(\n\u001b[1;32m    195\u001b[0m       concrete_function\u001b[38;5;241m.\u001b[39mgraph\u001b[38;5;241m.\u001b[39minternal_captures)\n",
      "File \u001b[0;32m~/miniconda3/envs/qfc/lib/python3.10/site-packages/tensorflow/python/eager/polymorphic_function/tracing_compiler.py:157\u001b[0m, in \u001b[0;36mTracingCompiler._maybe_define_concrete_function\u001b[0;34m(self, args, kwargs)\u001b[0m\n\u001b[1;32m    154\u001b[0m   args \u001b[38;5;241m=\u001b[39m \u001b[38;5;28mself\u001b[39m\u001b[38;5;241m.\u001b[39minput_signature\n\u001b[1;32m    155\u001b[0m   kwargs \u001b[38;5;241m=\u001b[39m {}\n\u001b[0;32m--> 157\u001b[0m \u001b[38;5;28;01mreturn\u001b[39;00m \u001b[38;5;28;43mself\u001b[39;49m\u001b[38;5;241;43m.\u001b[39;49m\u001b[43m_maybe_define_function\u001b[49m\u001b[43m(\u001b[49m\u001b[43margs\u001b[49m\u001b[43m,\u001b[49m\u001b[43m \u001b[49m\u001b[43mkwargs\u001b[49m\u001b[43m)\u001b[49m\n",
      "File \u001b[0;32m~/miniconda3/envs/qfc/lib/python3.10/site-packages/tensorflow/python/eager/polymorphic_function/tracing_compiler.py:360\u001b[0m, in \u001b[0;36mTracingCompiler._maybe_define_function\u001b[0;34m(self, args, kwargs)\u001b[0m\n\u001b[1;32m    357\u001b[0m   \u001b[38;5;66;03m# Only get placeholders for arguments, not captures\u001b[39;00m\n\u001b[1;32m    358\u001b[0m   args, kwargs \u001b[38;5;241m=\u001b[39m generalized_func_key\u001b[38;5;241m.\u001b[39m_placeholder_value()  \u001b[38;5;66;03m# pylint: disable=protected-access\u001b[39;00m\n\u001b[0;32m--> 360\u001b[0m concrete_function \u001b[38;5;241m=\u001b[39m \u001b[38;5;28;43mself\u001b[39;49m\u001b[38;5;241;43m.\u001b[39;49m\u001b[43m_create_concrete_function\u001b[49m\u001b[43m(\u001b[49m\u001b[43margs\u001b[49m\u001b[43m,\u001b[49m\u001b[43m \u001b[49m\u001b[43mkwargs\u001b[49m\u001b[43m)\u001b[49m\n\u001b[1;32m    362\u001b[0m graph_capture_container \u001b[38;5;241m=\u001b[39m concrete_function\u001b[38;5;241m.\u001b[39mgraph\u001b[38;5;241m.\u001b[39m_capture_func_lib  \u001b[38;5;66;03m# pylint: disable=protected-access\u001b[39;00m\n\u001b[1;32m    363\u001b[0m \u001b[38;5;66;03m# Maintain the list of all captures\u001b[39;00m\n",
      "File \u001b[0;32m~/miniconda3/envs/qfc/lib/python3.10/site-packages/tensorflow/python/eager/polymorphic_function/tracing_compiler.py:283\u001b[0m, in \u001b[0;36mTracingCompiler._create_concrete_function\u001b[0;34m(self, args, kwargs)\u001b[0m\n\u001b[1;32m    279\u001b[0m missing_arg_names \u001b[38;5;241m=\u001b[39m [\n\u001b[1;32m    280\u001b[0m     \u001b[38;5;124m\"\u001b[39m\u001b[38;5;132;01m%s\u001b[39;00m\u001b[38;5;124m_\u001b[39m\u001b[38;5;132;01m%d\u001b[39;00m\u001b[38;5;124m\"\u001b[39m \u001b[38;5;241m%\u001b[39m (arg, i) \u001b[38;5;28;01mfor\u001b[39;00m i, arg \u001b[38;5;129;01min\u001b[39;00m \u001b[38;5;28menumerate\u001b[39m(missing_arg_names)\n\u001b[1;32m    281\u001b[0m ]\n\u001b[1;32m    282\u001b[0m arg_names \u001b[38;5;241m=\u001b[39m base_arg_names \u001b[38;5;241m+\u001b[39m missing_arg_names\n\u001b[0;32m--> 283\u001b[0m concrete_function \u001b[38;5;241m=\u001b[39m \u001b[43mmonomorphic_function\u001b[49m\u001b[38;5;241;43m.\u001b[39;49m\u001b[43mConcreteFunction\u001b[49m\u001b[43m(\u001b[49m\n\u001b[1;32m    284\u001b[0m \u001b[43m    \u001b[49m\u001b[43mfunc_graph_module\u001b[49m\u001b[38;5;241;43m.\u001b[39;49m\u001b[43mfunc_graph_from_py_func\u001b[49m\u001b[43m(\u001b[49m\n\u001b[1;32m    285\u001b[0m \u001b[43m        \u001b[49m\u001b[38;5;28;43mself\u001b[39;49m\u001b[38;5;241;43m.\u001b[39;49m\u001b[43m_name\u001b[49m\u001b[43m,\u001b[49m\n\u001b[1;32m    286\u001b[0m \u001b[43m        \u001b[49m\u001b[38;5;28;43mself\u001b[39;49m\u001b[38;5;241;43m.\u001b[39;49m\u001b[43m_python_function\u001b[49m\u001b[43m,\u001b[49m\n\u001b[1;32m    287\u001b[0m \u001b[43m        \u001b[49m\u001b[43margs\u001b[49m\u001b[43m,\u001b[49m\n\u001b[1;32m    288\u001b[0m \u001b[43m        \u001b[49m\u001b[43mkwargs\u001b[49m\u001b[43m,\u001b[49m\n\u001b[1;32m    289\u001b[0m \u001b[43m        \u001b[49m\u001b[38;5;28;43;01mNone\u001b[39;49;00m\u001b[43m,\u001b[49m\n\u001b[1;32m    290\u001b[0m \u001b[43m        \u001b[49m\u001b[43mautograph\u001b[49m\u001b[38;5;241;43m=\u001b[39;49m\u001b[38;5;28;43mself\u001b[39;49m\u001b[38;5;241;43m.\u001b[39;49m\u001b[43m_autograph\u001b[49m\u001b[43m,\u001b[49m\n\u001b[1;32m    291\u001b[0m \u001b[43m        \u001b[49m\u001b[43mautograph_options\u001b[49m\u001b[38;5;241;43m=\u001b[39;49m\u001b[38;5;28;43mself\u001b[39;49m\u001b[38;5;241;43m.\u001b[39;49m\u001b[43m_autograph_options\u001b[49m\u001b[43m,\u001b[49m\n\u001b[1;32m    292\u001b[0m \u001b[43m        \u001b[49m\u001b[43marg_names\u001b[49m\u001b[38;5;241;43m=\u001b[39;49m\u001b[43marg_names\u001b[49m\u001b[43m,\u001b[49m\n\u001b[1;32m    293\u001b[0m \u001b[43m        \u001b[49m\u001b[43mcapture_by_value\u001b[49m\u001b[38;5;241;43m=\u001b[39;49m\u001b[38;5;28;43mself\u001b[39;49m\u001b[38;5;241;43m.\u001b[39;49m\u001b[43m_capture_by_value\u001b[49m\u001b[43m)\u001b[49m\u001b[43m,\u001b[49m\n\u001b[1;32m    294\u001b[0m \u001b[43m    \u001b[49m\u001b[38;5;28;43mself\u001b[39;49m\u001b[38;5;241;43m.\u001b[39;49m\u001b[43m_function_attributes\u001b[49m\u001b[43m,\u001b[49m\n\u001b[1;32m    295\u001b[0m \u001b[43m    \u001b[49m\u001b[43mspec\u001b[49m\u001b[38;5;241;43m=\u001b[39;49m\u001b[38;5;28;43mself\u001b[39;49m\u001b[38;5;241;43m.\u001b[39;49m\u001b[43mfunction_spec\u001b[49m\u001b[43m,\u001b[49m\n\u001b[1;32m    296\u001b[0m \u001b[43m    \u001b[49m\u001b[38;5;66;43;03m# Tell the ConcreteFunction to clean up its graph once it goes out of\u001b[39;49;00m\n\u001b[1;32m    297\u001b[0m \u001b[43m    \u001b[49m\u001b[38;5;66;43;03m# scope. This is not the default behavior since it gets used in some\u001b[39;49;00m\n\u001b[1;32m    298\u001b[0m \u001b[43m    \u001b[49m\u001b[38;5;66;43;03m# places (like Keras) where the FuncGraph lives longer than the\u001b[39;49;00m\n\u001b[1;32m    299\u001b[0m \u001b[43m    \u001b[49m\u001b[38;5;66;43;03m# ConcreteFunction.\u001b[39;49;00m\n\u001b[1;32m    300\u001b[0m \u001b[43m    \u001b[49m\u001b[43mshared_func_graph\u001b[49m\u001b[38;5;241;43m=\u001b[39;49m\u001b[38;5;28;43;01mFalse\u001b[39;49;00m\u001b[43m)\u001b[49m\n\u001b[1;32m    301\u001b[0m \u001b[38;5;28;01mreturn\u001b[39;00m concrete_function\n",
      "File \u001b[0;32m~/miniconda3/envs/qfc/lib/python3.10/site-packages/tensorflow/python/eager/polymorphic_function/monomorphic_function.py:1363\u001b[0m, in \u001b[0;36mConcreteFunction.__init__\u001b[0;34m(self, func_graph, attrs, shared_func_graph, spec)\u001b[0m\n\u001b[1;32m   1357\u001b[0m   \u001b[38;5;28mself\u001b[39m\u001b[38;5;241m.\u001b[39m_garbage_collector \u001b[38;5;241m=\u001b[39m ConcreteFunctionGarbageCollector(func_graph)\n\u001b[1;32m   1359\u001b[0m \u001b[38;5;66;03m# Pairs of forward and backward functions used for computing gradients.\u001b[39;00m\n\u001b[1;32m   1360\u001b[0m \u001b[38;5;66;03m#\u001b[39;00m\n\u001b[1;32m   1361\u001b[0m \u001b[38;5;66;03m# These each get a reference to the FuncGraph deleter since they use the\u001b[39;00m\n\u001b[1;32m   1362\u001b[0m \u001b[38;5;66;03m# FuncGraph directly.\u001b[39;00m\n\u001b[0;32m-> 1363\u001b[0m \u001b[38;5;28mself\u001b[39m\u001b[38;5;241m.\u001b[39m_delayed_rewrite_functions \u001b[38;5;241m=\u001b[39m \u001b[43m_DelayedRewriteGradientFunctions\u001b[49m\u001b[43m(\u001b[49m\n\u001b[1;32m   1364\u001b[0m \u001b[43m    \u001b[49m\u001b[43mfunc_graph\u001b[49m\u001b[43m,\u001b[49m\u001b[43m \u001b[49m\u001b[38;5;28;43mself\u001b[39;49m\u001b[38;5;241;43m.\u001b[39;49m\u001b[43m_attrs\u001b[49m\u001b[43m,\u001b[49m\u001b[43m \u001b[49m\u001b[38;5;28;43mself\u001b[39;49m\u001b[38;5;241;43m.\u001b[39;49m\u001b[43m_garbage_collector\u001b[49m\u001b[43m)\u001b[49m\n\u001b[1;32m   1365\u001b[0m \u001b[38;5;28mself\u001b[39m\u001b[38;5;241m.\u001b[39m_first_order_tape_functions \u001b[38;5;241m=\u001b[39m {}\n\u001b[1;32m   1366\u001b[0m \u001b[38;5;28mself\u001b[39m\u001b[38;5;241m.\u001b[39m_higher_order_tape_functions \u001b[38;5;241m=\u001b[39m {}\n",
      "File \u001b[0;32m~/miniconda3/envs/qfc/lib/python3.10/site-packages/tensorflow/python/eager/polymorphic_function/monomorphic_function.py:463\u001b[0m, in \u001b[0;36m_DelayedRewriteGradientFunctions.__init__\u001b[0;34m(self, func_graph, attrs, func_graph_deleter)\u001b[0m\n\u001b[1;32m    461\u001b[0m \u001b[38;5;28mself\u001b[39m\u001b[38;5;241m.\u001b[39m_cached_function_pairs \u001b[38;5;241m=\u001b[39m {}\n\u001b[1;32m    462\u001b[0m \u001b[38;5;28mself\u001b[39m\u001b[38;5;241m.\u001b[39m_func_graph \u001b[38;5;241m=\u001b[39m func_graph\n\u001b[0;32m--> 463\u001b[0m \u001b[38;5;28mself\u001b[39m\u001b[38;5;241m.\u001b[39m_inference_function \u001b[38;5;241m=\u001b[39m \u001b[43m_EagerDefinedFunction\u001b[49m\u001b[43m(\u001b[49m\n\u001b[1;32m    464\u001b[0m \u001b[43m    \u001b[49m\u001b[43m_inference_name\u001b[49m\u001b[43m(\u001b[49m\u001b[38;5;28;43mself\u001b[39;49m\u001b[38;5;241;43m.\u001b[39;49m\u001b[43m_func_graph\u001b[49m\u001b[38;5;241;43m.\u001b[39;49m\u001b[43mname\u001b[49m\u001b[43m)\u001b[49m\u001b[43m,\u001b[49m\u001b[43m \u001b[49m\u001b[38;5;28;43mself\u001b[39;49m\u001b[38;5;241;43m.\u001b[39;49m\u001b[43m_func_graph\u001b[49m\u001b[43m,\u001b[49m\n\u001b[1;32m    465\u001b[0m \u001b[43m    \u001b[49m\u001b[38;5;28;43mself\u001b[39;49m\u001b[38;5;241;43m.\u001b[39;49m\u001b[43m_func_graph\u001b[49m\u001b[38;5;241;43m.\u001b[39;49m\u001b[43minputs\u001b[49m\u001b[43m,\u001b[49m\u001b[43m \u001b[49m\u001b[38;5;28;43mself\u001b[39;49m\u001b[38;5;241;43m.\u001b[39;49m\u001b[43m_func_graph\u001b[49m\u001b[38;5;241;43m.\u001b[39;49m\u001b[43moutputs\u001b[49m\u001b[43m,\u001b[49m\u001b[43m \u001b[49m\u001b[43mattrs\u001b[49m\u001b[43m)\u001b[49m\n\u001b[1;32m    466\u001b[0m \u001b[38;5;28mself\u001b[39m\u001b[38;5;241m.\u001b[39m_attrs \u001b[38;5;241m=\u001b[39m attrs\n\u001b[1;32m    467\u001b[0m \u001b[38;5;28mself\u001b[39m\u001b[38;5;241m.\u001b[39m_gradient_name \u001b[38;5;241m=\u001b[39m \u001b[38;5;28;01mNone\u001b[39;00m\n",
      "File \u001b[0;32m~/miniconda3/envs/qfc/lib/python3.10/site-packages/tensorflow/python/eager/polymorphic_function/monomorphic_function.py:264\u001b[0m, in \u001b[0;36m_EagerDefinedFunction.__init__\u001b[0;34m(self, name, graph, inputs, outputs, attrs)\u001b[0m\n\u001b[1;32m    258\u001b[0m   pywrap_tf_session\u001b[38;5;241m.\u001b[39mTF_FunctionSetAttrValueProto(fn, compat\u001b[38;5;241m.\u001b[39mas_str(name),\n\u001b[1;32m    259\u001b[0m                                                  serialized)\n\u001b[1;32m    261\u001b[0m \u001b[38;5;66;03m# NOTE(feyu): Do not cache signature and definition at initialization to\u001b[39;00m\n\u001b[1;32m    262\u001b[0m \u001b[38;5;66;03m# save memory usage of concrete functions never called through Python. We\u001b[39;00m\n\u001b[1;32m    263\u001b[0m \u001b[38;5;66;03m# cache them on the first call of .definition and .signature.\u001b[39;00m\n\u001b[0;32m--> 264\u001b[0m signature \u001b[38;5;241m=\u001b[39m \u001b[38;5;28;43mself\u001b[39;49m\u001b[38;5;241;43m.\u001b[39;49m\u001b[43m_get_definition\u001b[49m\u001b[43m(\u001b[49m\u001b[43m)\u001b[49m\u001b[38;5;241m.\u001b[39msignature\n\u001b[1;32m    266\u001b[0m \u001b[38;5;28mself\u001b[39m\u001b[38;5;241m.\u001b[39m_name \u001b[38;5;241m=\u001b[39m compat\u001b[38;5;241m.\u001b[39mas_bytes(signature\u001b[38;5;241m.\u001b[39mname)\n\u001b[1;32m    267\u001b[0m \u001b[38;5;28;01mwith\u001b[39;00m ops\u001b[38;5;241m.\u001b[39minit_scope():\n",
      "\u001b[0;31mKeyboardInterrupt\u001b[0m: "
     ]
    }
   ],
   "source": [
    "trewards, tpositions = agent.test(100)"
   ]
  },
  {
   "cell_type": "code",
   "execution_count": null,
   "metadata": {},
   "outputs": [
    {
     "data": {
      "image/png": "[encoded data removed]",
      "text/plain": [
       "<Figure size 800x550 with 1 Axes>"
      ]
     },
     "metadata": {},
     "output_type": "display_data"
    }
   ],
   "source": [
    "state = env.reset(seed=0)[0]\n",
    "img = plt.imshow(env.render()) # initialize bitmap embedding\n",
    "for e in range (201):\n",
    "  img.set_data(env.render())  # updating the data\n",
    "  display.display(plt.gcf())\n",
    "  display.clear_output(wait=True)\n",
    "  state = np.reshape(state, [1, agent.osn] )\n",
    "  a = np.argmax(agent.model.predict(state, verbose=0))  # learned action\n",
    "  state, reward, done, truncate, info = env.step(a)\n",
    "  if done and (e + 1) < 200:\n",
    "    print(f'*** SUCCESS {e} ***')\n",
    "    break\n",
    "  elif done:\n",
    "    print('*** FAILED ***')\n",
    "    break"
   ]
  }
 ],
 "metadata": {
  "kernelspec": {
   "display_name": "Python 3 (ipykernel)",
   "language": "python",
   "name": "python3"
  },
  "language_info": {
   "codemirror_mode": {
    "name": "ipython",
    "version": 3
   },
   "file_extension": ".py",
   "mimetype": "text/x-python",
   "name": "python",
   "nbconvert_exporter": "python",
   "pygments_lexer": "ipython3",
   "version": "3.10.12"
  }
 },
 "nbformat": 4,
 "nbformat_minor": 2
}
