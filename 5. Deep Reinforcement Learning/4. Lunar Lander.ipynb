{
 "cells": [
  {
   "cell_type": "markdown",
   "metadata": {},
   "source": [
    "# Lunar Lander\n",
    "\n",
    "[Lunar Lander](https://www.gymlibrary.dev/environments/box2d/lunar_lander/) is a gym environment in which a \"rocket\"/lander is dropped from the top of the box region, and its task is to land the rocket safely (i.e. at a sufficiently moderate velocity) between two flagpoles. \n",
    "\n",
    "Four discrete actions are available to the lander: do nothing, fire left orientation engine, fire main engine, fire right orientation engine.\n"
   ]
  },
  {
   "cell_type": "code",
   "execution_count": 2,
   "metadata": {},
   "outputs": [],
   "source": [
    "import gym\n",
    "import random\n",
    "import numpy as np\n",
    "import pandas as pd\n",
    "from pylab import plt\n",
    "from IPython import display\n",
    "from collections import deque\n",
    "plt.style.use('seaborn-v0_8')\n",
    "import warnings; warnings.simplefilter('ignore')\n",
    "\n",
    "import tensorflow.compat.v1 as tf\n",
    "from keras.layers import Dense\n",
    "from keras.models import Sequential\n",
    "from keras.optimizers import Adam\n",
    "tf.logging.set_verbosity(tf.logging.ERROR)"
   ]
  },
  {
   "cell_type": "markdown",
   "metadata": {},
   "source": [
    "# Environment"
   ]
  },
  {
   "cell_type": "code",
   "execution_count": 3,
   "metadata": {},
   "outputs": [
    {
     "data": {
      "text/plain": [
       "(array([-1.3148307e-03,  1.3989749e+00, -1.3320298e-01, -5.3090233e-01,\n",
       "         1.5304536e-03,  3.0172506e-02,  0.0000000e+00,  0.0000000e+00],\n",
       "       dtype=float32),\n",
       " {})"
      ]
     },
     "execution_count": 3,
     "metadata": {},
     "output_type": "execute_result"
    }
   ],
   "source": [
    "env = gym.make('LunarLander-v2', render_mode='rgb_array')\n",
    "env.reset()"
   ]
  },
  {
   "cell_type": "markdown",
   "metadata": {},
   "source": [
    "# Action Space"
   ]
  },
  {
   "cell_type": "code",
   "execution_count": 4,
   "metadata": {},
   "outputs": [
    {
     "data": {
      "text/plain": [
       "Discrete(4)"
      ]
     },
     "execution_count": 4,
     "metadata": {},
     "output_type": "execute_result"
    }
   ],
   "source": [
    "# Type of action space\n",
    "env.action_space\n",
    "\n",
    "# From \n",
    "# 0 = do nothing, 1 = fire left orientation engine, 2 = fire main engine, 3 = fire right orientation engine\n",
    "\n",
    "# Note the action space was 2 for cart pole, 3 for mountain car, and 4 for lunar lander."
   ]
  },
  {
   "cell_type": "code",
   "execution_count": 5,
   "metadata": {},
   "outputs": [
    {
     "data": {
      "text/plain": [
       "4"
      ]
     },
     "execution_count": 5,
     "metadata": {},
     "output_type": "execute_result"
    }
   ],
   "source": [
    "# Number of discrete actions\n",
    "env.action_space.n"
   ]
  },
  {
   "cell_type": "code",
   "execution_count": 6,
   "metadata": {},
   "outputs": [
    {
     "data": {
      "text/plain": [
       "[2, 2, 2, 1, 3, 2, 3, 3, 0, 2]"
      ]
     },
     "execution_count": 6,
     "metadata": {},
     "output_type": "execute_result"
    }
   ],
   "source": [
    "# Sample actions\n",
    "[env.action_space.sample() for _ in range(10)]"
   ]
  },
  {
   "cell_type": "markdown",
   "metadata": {},
   "source": [
    "# Rewards"
   ]
  },
  {
   "cell_type": "code",
   "execution_count": 7,
   "metadata": {},
   "outputs": [
    {
     "data": {
      "text/plain": [
       "1"
      ]
     },
     "execution_count": 7,
     "metadata": {},
     "output_type": "execute_result"
    }
   ],
   "source": [
    "a = env.action_space.sample()\n",
    "a"
   ]
  },
  {
   "cell_type": "code",
   "execution_count": 8,
   "metadata": {},
   "outputs": [
    {
     "data": {
      "text/plain": [
       "(array([-0.00269051,  1.3864427 , -0.14059833, -0.5569896 ,  0.00454076,\n",
       "         0.06021252,  0.        ,  0.        ], dtype=float32),\n",
       " -1.7883448033334435,\n",
       " False,\n",
       " False,\n",
       " {})"
      ]
     },
     "execution_count": 8,
     "metadata": {},
     "output_type": "execute_result"
    }
   ],
   "source": [
    "r = env.step(a)\n",
    "r"
   ]
  },
  {
   "cell_type": "markdown",
   "metadata": {},
   "source": [
    "It is interesting to note that the reward here is a float, whereas in the previous OpenAI Gym exercises it has been an integer."
   ]
  },
  {
   "cell_type": "markdown",
   "metadata": {},
   "source": [
    "# Observation Space\n",
    "\n",
    "Here are the meanings of each observation/\"state\":\n",
    "\n",
    "1. **X coordinate** of the lander.\n",
    "2. **Y coordinate** of the lander.\n",
    "3. **X velocity** of the lander.\n",
    "4. **Y velocity** of the lander.\n",
    "5. **Angle** of the lander.\n",
    "6. **Angular velocity** of the lander.\n",
    "7. A **boolean** that represents whether the **left leg** is in contact with the ground.\n",
    "8. A **boolean** that represents whether the **right leg** is in contact with the ground."
   ]
  },
  {
   "cell_type": "code",
   "execution_count": 9,
   "metadata": {},
   "outputs": [
    {
     "data": {
      "text/plain": [
       "Box([-1.5       -1.5       -5.        -5.        -3.1415927 -5.\n",
       " -0.        -0.       ], [1.5       1.5       5.        5.        3.1415927 5.        1.\n",
       " 1.       ], (8,), float32)"
      ]
     },
     "execution_count": 9,
     "metadata": {},
     "output_type": "execute_result"
    }
   ],
   "source": [
    "env.observation_space"
   ]
  },
  {
   "cell_type": "code",
   "execution_count": 10,
   "metadata": {},
   "outputs": [
    {
     "data": {
      "text/plain": [
       "array([1.5      , 1.5      , 5.       , 5.       , 3.1415927, 5.       ,\n",
       "       1.       , 1.       ], dtype=float32)"
      ]
     },
     "execution_count": 10,
     "metadata": {},
     "output_type": "execute_result"
    }
   ],
   "source": [
    "env.observation_space.high"
   ]
  },
  {
   "cell_type": "code",
   "execution_count": 11,
   "metadata": {},
   "outputs": [
    {
     "data": {
      "text/plain": [
       "array([-1.5      , -1.5      , -5.       , -5.       , -3.1415927,\n",
       "       -5.       , -0.       , -0.       ], dtype=float32)"
      ]
     },
     "execution_count": 11,
     "metadata": {},
     "output_type": "execute_result"
    }
   ],
   "source": [
    "env.observation_space.low"
   ]
  },
  {
   "cell_type": "code",
   "execution_count": 12,
   "metadata": {},
   "outputs": [
    {
     "data": {
      "text/plain": [
       "(array([-0.00481291,  1.4101679 , -0.48750702, -0.03344014,  0.0055837 ,\n",
       "         0.11042758,  0.        ,  0.        ], dtype=float32),\n",
       " {})"
      ]
     },
     "execution_count": 12,
     "metadata": {},
     "output_type": "execute_result"
    }
   ],
   "source": [
    "env.reset()\n",
    "# [position, velocity]"
   ]
  },
  {
   "cell_type": "markdown",
   "metadata": {},
   "source": [
    "# Visualisation"
   ]
  },
  {
   "cell_type": "markdown",
   "metadata": {},
   "source": [
    "# Visualising a Random Action Choice\n",
    "\n",
    "Running the cell below will render an animation of the lunar lander's interaction with the environment as it performs a random action sample at each timestep."
   ]
  },
  {
   "cell_type": "code",
   "execution_count": 13,
   "metadata": {},
   "outputs": [
    {
     "name": "stdout",
     "output_type": "stream",
     "text": [
      "*** FAILED ***\n"
     ]
    },
    {
     "data": {
      "image/png": "[encoded data removed]",
      "text/plain": [
       "<Figure size 800x550 with 1 Axes>"
      ]
     },
     "metadata": {},
     "output_type": "display_data"
    }
   ],
   "source": [
    "env.reset ()\n",
    "img = plt.imshow(env.render()) # initialize bitmap embedding\n",
    "for e in range (201):\n",
    "  img.set_data(env.render()) # updating the data\n",
    "  display.display(plt.gcf())\n",
    "  display.clear_output(wait=True)\n",
    "  a = env.action_space.sample() # random action choice\n",
    "  # a = 2 # constant action choice\n",
    "  obs, rew, done, _, _ = env.step(a) # taking action\n",
    "  if done and (e + 1) < 200:\n",
    "    print('*** FAILED ***')\n",
    "    break"
   ]
  },
  {
   "cell_type": "markdown",
   "metadata": {},
   "source": [
    "With random actions it is unspurprising that the agent doesn't manage to safely land between the flagpoles."
   ]
  },
  {
   "cell_type": "markdown",
   "metadata": {},
   "source": [
    "# Setting Seeds"
   ]
  },
  {
   "cell_type": "code",
   "execution_count": 14,
   "metadata": {},
   "outputs": [],
   "source": [
    "def set_seeds(seed=100):\n",
    "    random.seed(seed)\n",
    "    np.random.seed(seed)\n",
    "    tf.random.set_random_seed(seed)\n",
    "    # env.seed(seed)\n",
    "\n",
    "set_seeds()"
   ]
  },
  {
   "cell_type": "markdown",
   "metadata": {},
   "source": [
    "# Q Learning"
   ]
  },
  {
   "cell_type": "code",
   "execution_count": 40,
   "metadata": {},
   "outputs": [],
   "source": [
    "from collections import deque\n",
    "import time\n",
    "\n",
    "class DQNAgent:\n",
    "  def __init__(self):\n",
    "    self.epsilon = 1.0\n",
    "    self.epsilon_min = 0.01\n",
    "    self.epsilon_decay = 0.995\n",
    "    self.gamma = 0.95\n",
    "    self.batch_size = 128\n",
    "    self.max_treward = -1e6\n",
    "    self.averages = list()\n",
    "    self.memory = deque(maxlen=2000)\n",
    "    self.osn = env.observation_space.shape[0]\n",
    "    self.model = self.create_model()\n",
    "    self.avg_time_per_episode = 0.0\n",
    "\n",
    "  def create_model(self):\n",
    "    model = Sequential()\n",
    "    model.add(Dense(1024, input_dim=self.osn, activation='relu'))\n",
    "    # model.add(Dense(128, activation='relu'))\n",
    "    model.add(Dense(env.action_space.n, activation='linear'))\n",
    "    model.compile(loss='mse', optimizer=Adam(learning_rate=0.001))\n",
    "    return model\n",
    "\n",
    "  def act(self, state):\n",
    "    return env.action_space.sample() if np.random.rand() <= self.epsilon else np.argmax(self.model.predict(state, verbose=0))\n",
    "  \n",
    "  def replay(self):\n",
    "    print(\"Performing replay\")\n",
    "    batch = random.sample(self.memory, self.batch_size)\n",
    "    for state, action, reward, next_state, done in batch:\n",
    "      # Reward design\n",
    "      reward -= np.mean((state[:1]) ** 2) # Reward based on distance to center (center is at 300)\n",
    "      if not done:\n",
    "        reward += self.gamma * np.amax(self.model.predict(next_state, verbose=0)[0])\n",
    "      target = self.model.predict(state, verbose=0)\n",
    "      target[0, action] = reward\n",
    "      self.model.fit(state, target, epochs=1, verbose=False)\n",
    "    if self.epsilon > self.epsilon_min:\n",
    "      self.epsilon *= self.epsilon_decay\n",
    "    print(\"Finished replay\")\n",
    "\n",
    "  def learn(self, episodes):\n",
    "    trewards = []\n",
    "    self.actions = []\n",
    "    episode_times = []\n",
    "    for e in range(1, episodes+1):\n",
    "      start_time = time.time()\n",
    "      state = env.reset()[0]\n",
    "      state = np.reshape(state, [1, self.osn])\n",
    "      treward = 0\n",
    "      for _ in range(5000):\n",
    "        action = self.act(state)\n",
    "        self.actions.append(action)\n",
    "        next_state, reward, done, truncated, info = env.step(action)\n",
    "        next_state = np.reshape(next_state, [1, self.osn])\n",
    "        self.memory.append([state, action, reward, next_state, done])\n",
    "        state = next_state\n",
    "        treward += float(reward)\n",
    "        if done or truncated:\n",
    "          trewards.append(treward)\n",
    "          av = sum(trewards[-25:]) / 25 \n",
    "          self.averages.append(av)\n",
    "          self.max_treward = max(self.max_treward, treward)\n",
    "          print('Episode: {}/{},\\ttreward: {},\\tav: {:.2f},\\tmax_r: {:2},\\tavg_time: {:.2f}'.format(e,episodes, treward, av, self.max_treward, self.avg_time_per_episode))\n",
    "          break\n",
    "      if len(self.memory) > self.batch_size:\n",
    "        self.replay()\n",
    "      end_time = time.time()\n",
    "      episode_times.append(end_time - start_time)\n",
    "      self.avg_time_per_episode = np.mean(episode_times)\n",
    "      if treward > 200:\n",
    "        break\n",
    "\n",
    "  def test(self, episodes=100):\n",
    "    trewards = []\n",
    "    for e in range(1, episodes+1):\n",
    "      print(f\"{e=}\")\n",
    "      state = env.reset()[0]\n",
    "      treward = 0\n",
    "      for timestep in range(1001):\n",
    "        state = np.reshape(state, [1, self.osn])\n",
    "        action = np.argmax(self.model.predict(state, verbose=0)[0])\n",
    "        next_state, reward, done, truncated, info = env.step(action)\n",
    "        state = next_state\n",
    "        treward += reward\n",
    "        if done or truncated or state[0] >= 0.5:\n",
    "          trewards.append(treward)\n",
    "          print('Episode: {}/{}, treward: {}, position: {}'.format(e, episodes, treward, state[0]))\n",
    "          break\n",
    "    return trewards\n",
    "\n",
    "agent = DQNAgent()"
   ]
  },
  {
   "cell_type": "code",
   "execution_count": 54,
   "metadata": {},
   "outputs": [
    {
     "name": "stdout",
     "output_type": "stream",
     "text": [
      "Episode: 1/1000,\ttreward: -270.67867376767185,\tav: -10.83,\tmax_r: 239.17258926730136,\tavg_time: 49.68\n",
      "Performing replay\n",
      "Finished replay\n",
      "Episode: 2/1000,\ttreward: -101.0480751438651,\tav: -14.87,\tmax_r: 239.17258926730136,\tavg_time: 22.80\n",
      "Performing replay\n",
      "Finished replay\n",
      "Episode: 3/1000,\ttreward: -366.3840613141653,\tav: -29.52,\tmax_r: 239.17258926730136,\tavg_time: 22.74\n",
      "Performing replay\n",
      "Finished replay\n",
      "Episode: 4/1000,\ttreward: -89.64928424975915,\tav: -33.11,\tmax_r: 239.17258926730136,\tavg_time: 26.34\n",
      "Performing replay\n",
      "Finished replay\n",
      "Episode: 5/1000,\ttreward: -309.91030674298315,\tav: -45.51,\tmax_r: 239.17258926730136,\tavg_time: 33.21\n",
      "Performing replay\n",
      "Finished replay\n",
      "Episode: 6/1000,\ttreward: 2.088191719600971,\tav: -45.42,\tmax_r: 239.17258926730136,\tavg_time: 31.46\n",
      "Performing replay\n",
      "Finished replay\n",
      "Episode: 7/1000,\ttreward: -225.34216271053208,\tav: -54.44,\tmax_r: 239.17258926730136,\tavg_time: 30.76\n",
      "Performing replay\n",
      "Finished replay\n",
      "Episode: 8/1000,\ttreward: -340.54272876036896,\tav: -68.06,\tmax_r: 239.17258926730136,\tavg_time: 29.66\n",
      "Performing replay\n",
      "Finished replay\n",
      "Episode: 9/1000,\ttreward: -170.062718023941,\tav: -74.86,\tmax_r: 239.17258926730136,\tavg_time: 29.61\n",
      "Performing replay\n",
      "Finished replay\n",
      "Episode: 10/1000,\ttreward: -174.57477666697517,\tav: -81.84,\tmax_r: 239.17258926730136,\tavg_time: 31.28\n",
      "Performing replay\n",
      "Finished replay\n",
      "Episode: 11/1000,\ttreward: -31.61918886005317,\tav: -83.11,\tmax_r: 239.17258926730136,\tavg_time: 34.13\n",
      "Performing replay\n",
      "Finished replay\n",
      "Episode: 12/1000,\ttreward: -178.12137396247283,\tav: -90.23,\tmax_r: 239.17258926730136,\tavg_time: 35.05\n",
      "Performing replay\n",
      "Finished replay\n",
      "Episode: 13/1000,\ttreward: 23.219328645986224,\tav: -89.31,\tmax_r: 239.17258926730136,\tavg_time: 36.29\n",
      "Performing replay\n",
      "Finished replay\n",
      "Episode: 14/1000,\ttreward: -52.427109765145865,\tav: -91.40,\tmax_r: 239.17258926730136,\tavg_time: 38.19\n",
      "Performing replay\n",
      "Finished replay\n",
      "Episode: 15/1000,\ttreward: 205.9026345170993,\tav: -83.17,\tmax_r: 239.17258926730136,\tavg_time: 37.29\n",
      "Performing replay\n",
      "Finished replay\n",
      "CPU times: user 9min 31s, sys: 50 s, total: 10min 21s\n",
      "Wall time: 9min 29s\n"
     ]
    }
   ],
   "source": [
    "%time agent.learn(1000)"
   ]
  },
  {
   "cell_type": "markdown",
   "metadata": {},
   "source": []
  },
  {
   "cell_type": "code",
   "execution_count": 55,
   "metadata": {},
   "outputs": [
    {
     "data": {
      "text/plain": [
       "<matplotlib.legend.Legend at 0x7f3e1de8fa00>"
      ]
     },
     "execution_count": 55,
     "metadata": {},
     "output_type": "execute_result"
    },
    {
     "data": {
      "image/png": "[encoded data removed]",
      "text/plain": [
       "<Figure size 1000x600 with 1 Axes>"
      ]
     },
     "metadata": {},
     "output_type": "display_data"
    }
   ],
   "source": [
    "plt.figure(figsize=(10, 6))\n",
    "x = range(len(agent.averages))\n",
    "y = np.polyval(np.polyfit(x, agent.averages, deg=3), x)\n",
    "plt.plot(agent.averages, label='Moving average')\n",
    "plt.plot(x, y, 'r-', label='regression')\n",
    "plt.xlabel('episodes')\n",
    "plt.ylabel('position value')\n",
    "plt.legend()"
   ]
  },
  {
   "cell_type": "markdown",
   "metadata": {},
   "source": [
    "Based on the plot we can get a sense of whether the agent has reliably/incrementally \"learned\"/improved it's performance, or if it simply completed the task as a fluke."
   ]
  },
  {
   "cell_type": "markdown",
   "metadata": {},
   "source": [
    "# Testing the Agent\n",
    "\n",
    "We test the agent to test if it has really \"learned\" the ability to land the craft."
   ]
  },
  {
   "cell_type": "code",
   "execution_count": 58,
   "metadata": {},
   "outputs": [
    {
     "name": "stdout",
     "output_type": "stream",
     "text": [
      "e=1\n"
     ]
    },
    {
     "name": "stdout",
     "output_type": "stream",
     "text": [
      "Episode: 1/100, treward: 144.35766952843602, position: -0.6597990989685059\n",
      "e=2\n",
      "Episode: 2/100, treward: -117.3434248130585, position: 0.5005353689193726\n",
      "e=3\n",
      "Episode: 3/100, treward: -17.84692047705424, position: 0.013492202386260033\n",
      "e=4\n",
      "Episode: 4/100, treward: 197.41498685070485, position: -0.30526596307754517\n",
      "e=5\n",
      "Episode: 5/100, treward: -19.390138442480563, position: 0.012556934729218483\n",
      "e=6\n",
      "Episode: 6/100, treward: 217.52962297578708, position: 0.3022462725639343\n",
      "e=7\n",
      "Episode: 7/100, treward: -212.7798093304628, position: -0.023509884253144264\n",
      "e=8\n",
      "Episode: 8/100, treward: -18.71483299464434, position: -0.0561765655875206\n",
      "e=9\n",
      "Episode: 9/100, treward: 191.72861234418934, position: -0.1722596138715744\n",
      "e=10\n",
      "Episode: 10/100, treward: -87.52850293938099, position: 0.5003715753555298\n",
      "e=11\n",
      "Episode: 11/100, treward: -178.94958998128004, position: 0.500779926776886\n",
      "e=12\n",
      "Episode: 12/100, treward: -138.77747808097934, position: 0.5002643465995789\n",
      "e=13\n",
      "Episode: 13/100, treward: -193.5665302447894, position: 0.5004472732543945\n",
      "e=14\n",
      "Episode: 14/100, treward: -164.0373964286233, position: 0.5005167722702026\n",
      "e=15\n",
      "Episode: 15/100, treward: -151.26121170926837, position: 0.5008084177970886\n",
      "e=16\n",
      "Episode: 16/100, treward: -40.09180684775758, position: -0.32634538412094116\n",
      "e=17\n",
      "Episode: 17/100, treward: 147.97916279011878, position: -0.4512495994567871\n",
      "e=18\n",
      "Episode: 18/100, treward: -117.07891721847079, position: 0.5010581016540527\n",
      "e=19\n",
      "Episode: 19/100, treward: 154.36509666181902, position: -0.33607974648475647\n",
      "e=20\n",
      "Episode: 20/100, treward: -136.4361511763738, position: 0.5002548098564148\n",
      "e=21\n",
      "Episode: 21/100, treward: -11.01714158950488, position: 0.5006057620048523\n",
      "e=22\n",
      "Episode: 22/100, treward: -191.25489015822754, position: 0.5000618100166321\n",
      "e=23\n",
      "Episode: 23/100, treward: -16.1915307281048, position: 0.5006023645401001\n",
      "e=24\n",
      "Episode: 24/100, treward: 136.55917247910128, position: -0.6598730683326721\n",
      "e=25\n",
      "Episode: 25/100, treward: 226.6769920846734, position: -0.3963871896266937\n",
      "e=26\n",
      "Episode: 26/100, treward: -185.60652968211417, position: 0.5006977319717407\n",
      "e=27\n",
      "Episode: 27/100, treward: -133.05972086559066, position: 0.5000925064086914\n",
      "e=28\n",
      "Episode: 28/100, treward: -123.6764990446891, position: 0.5006082653999329\n",
      "e=29\n",
      "Episode: 29/100, treward: 190.67465949099957, position: -0.29624947905540466\n",
      "e=30\n",
      "Episode: 30/100, treward: 23.960189486347076, position: -0.0014102936256676912\n",
      "e=31\n",
      "Episode: 31/100, treward: -44.95687560703395, position: -0.042095281183719635\n",
      "e=32\n",
      "Episode: 32/100, treward: -17.320135386447337, position: 0.09190082550048828\n",
      "e=33\n",
      "Episode: 33/100, treward: -58.839100370602665, position: 0.36261194944381714\n",
      "e=34\n",
      "Episode: 34/100, treward: -113.00742083949476, position: 0.5001281499862671\n",
      "e=35\n",
      "Episode: 35/100, treward: -1.5454373213498656, position: -0.04035787656903267\n",
      "e=36\n",
      "Episode: 36/100, treward: 7.8382918607386785, position: 0.20298480987548828\n",
      "e=37\n",
      "Episode: 37/100, treward: 157.21085696050358, position: -0.4546843469142914\n",
      "e=38\n",
      "Episode: 38/100, treward: -137.31650130377918, position: 0.501083254814148\n",
      "e=39\n",
      "Episode: 39/100, treward: -134.11761176572554, position: 0.36580342054367065\n",
      "e=40\n",
      "Episode: 40/100, treward: -87.12467210259354, position: 0.5008920431137085\n",
      "e=41\n",
      "Episode: 41/100, treward: -180.75380563808847, position: 0.5007151365280151\n",
      "e=42\n",
      "Episode: 42/100, treward: -128.6554048175376, position: 0.5000011324882507\n",
      "e=43\n",
      "Episode: 43/100, treward: -68.71437628100777, position: 0.5003820657730103\n",
      "e=44\n",
      "Episode: 44/100, treward: -65.7923825018898, position: -0.08671188354492188\n",
      "e=45\n",
      "Episode: 45/100, treward: -174.59505281250983, position: 0.5003108978271484\n",
      "e=46\n",
      "Episode: 46/100, treward: -177.58591699337018, position: 0.5011258125305176\n",
      "e=47\n",
      "Episode: 47/100, treward: -206.7344900605093, position: -0.0033885955344885588\n",
      "e=48\n",
      "Episode: 48/100, treward: -147.6512322918573, position: 0.5004302859306335\n",
      "e=49\n",
      "Episode: 49/100, treward: 182.00458674200434, position: -0.10816612094640732\n",
      "e=50\n",
      "Episode: 50/100, treward: -109.97904273497817, position: 0.50091153383255\n",
      "e=51\n",
      "Episode: 51/100, treward: 246.94448803632218, position: -0.08777351677417755\n",
      "e=52\n",
      "Episode: 52/100, treward: -188.55852852472012, position: 0.5001834034919739\n",
      "e=53\n",
      "Episode: 53/100, treward: -25.131227978208273, position: 0.2746252119541168\n",
      "e=54\n",
      "Episode: 54/100, treward: -192.86102181761964, position: 0.5003622770309448\n",
      "e=55\n",
      "Episode: 55/100, treward: -176.0837171100601, position: -0.9362677335739136\n",
      "e=56\n",
      "Episode: 56/100, treward: -83.55980921234072, position: 0.5006431341171265\n",
      "e=57\n",
      "Episode: 57/100, treward: 160.50231124046232, position: 0.09693946689367294\n",
      "e=58\n",
      "Episode: 58/100, treward: 162.02520407332077, position: -0.10778246074914932\n",
      "e=59\n",
      "Episode: 59/100, treward: -80.15099720240103, position: 0.5002662539482117\n",
      "e=60\n",
      "Episode: 60/100, treward: -159.72984743434432, position: 0.5007399320602417\n",
      "e=61\n",
      "Episode: 61/100, treward: -184.93802876294262, position: 0.500150203704834\n",
      "e=62\n",
      "Episode: 62/100, treward: -111.45553579871385, position: 0.500411331653595\n",
      "e=63\n",
      "Episode: 63/100, treward: -152.0976973445102, position: 0.5003178715705872\n",
      "e=64\n",
      "Episode: 64/100, treward: -88.73920967562164, position: 0.5008596181869507\n",
      "e=65\n",
      "Episode: 65/100, treward: -35.50296060987411, position: 0.2398720681667328\n",
      "e=66\n",
      "Episode: 66/100, treward: 36.833389437548966, position: 0.5000308156013489\n",
      "e=67\n",
      "Episode: 67/100, treward: 158.85253480268125, position: -0.1078365296125412\n",
      "e=68\n",
      "Episode: 68/100, treward: -172.55571480908864, position: 0.5007778406143188\n",
      "e=69\n",
      "Episode: 69/100, treward: -134.4109943779709, position: 0.5015044212341309\n",
      "e=70\n",
      "Episode: 70/100, treward: 28.44836099286732, position: -0.08072652667760849\n",
      "e=71\n",
      "Episode: 71/100, treward: -97.86931795414732, position: 0.3216543197631836\n",
      "e=72\n",
      "Episode: 72/100, treward: -54.41564991748677, position: 0.06348781287670135\n",
      "e=73\n",
      "Episode: 73/100, treward: 177.78980924929215, position: -0.10633544623851776\n",
      "e=74\n",
      "Episode: 74/100, treward: -1.2653567263414283, position: 0.502466082572937\n",
      "e=75\n",
      "Episode: 75/100, treward: -62.13063652201176, position: 0.5005590319633484\n",
      "e=76\n",
      "Episode: 76/100, treward: 19.567281482939634, position: -0.17606163024902344\n",
      "e=77\n",
      "Episode: 77/100, treward: -5.806196111141446, position: -0.11523608863353729\n",
      "e=78\n",
      "Episode: 78/100, treward: -128.09845630595115, position: 0.3341243863105774\n",
      "e=79\n",
      "Episode: 79/100, treward: -7.7948667626857855, position: 0.027088547125458717\n",
      "e=80\n",
      "Episode: 80/100, treward: 150.9668878142762, position: 0.07821521908044815\n",
      "e=81\n",
      "Episode: 81/100, treward: -45.28749317311885, position: 0.5007216334342957\n",
      "e=82\n",
      "Episode: 82/100, treward: -102.9056756106884, position: 0.24865731596946716\n",
      "e=83\n",
      "Episode: 83/100, treward: -9.164529314617518, position: 0.5012243390083313\n",
      "e=84\n",
      "Episode: 84/100, treward: -33.647225538441376, position: -0.03788900375366211\n",
      "e=85\n",
      "Episode: 85/100, treward: -123.328355953679, position: 0.5004784464836121\n",
      "e=86\n",
      "Episode: 86/100, treward: -124.46077743568573, position: 0.5004940032958984\n",
      "e=87\n"
     ]
    }
   ],
   "source": [
    "trewards, tpositions = agent.test(100)"
   ]
  },
  {
   "cell_type": "code",
   "execution_count": 56,
   "metadata": {},
   "outputs": [
    {
     "data": {
      "image/png": "[encoded data removed]",
      "text/plain": [
       "<Figure size 800x550 with 1 Axes>"
      ]
     },
     "metadata": {},
     "output_type": "display_data"
    }
   ],
   "source": [
    "state, _ = env.reset(seed=202)\n",
    "img = plt.imshow(env.render()) # initialize bitmap embedding\n",
    "for e in range (5001):\n",
    "  img.set_data(env.render())  # updating the data\n",
    "  display.display(plt.gcf())\n",
    "  display.clear_output(wait=True)\n",
    "  state = np.reshape(state, [1, agent.osn] )\n",
    "  a = np.argmax(agent.model.predict(state, verbose=0))  # learned action\n",
    "  state, reward, done, truncate, info = env.step(a)\n",
    "  if done and (e + 1) < 200:\n",
    "    print(f'*** SUCCESS {e} ***')\n",
    "    break\n",
    "  elif done:\n",
    "    print('*** FAILED ***')\n",
    "    break"
   ]
  },
  {
   "cell_type": "markdown",
   "metadata": {},
   "source": [
    "# An Improved Model"
   ]
  },
  {
   "cell_type": "code",
   "execution_count": 21,
   "metadata": {},
   "outputs": [],
   "source": [
    "from keras.layers import Dense, Activation, Input\n",
    "from keras.models import Sequential, load_model\n",
    "from keras.optimizers import Adam\n",
    "import numpy as np\n",
    "\n",
    "\n",
    "class ReplayBuffer(object):\n",
    "  def __init__(self, max_size, input_shape, n_actions, discrete=False):\n",
    "    self.mem_size = max_size\n",
    "    self.discrete = discrete\n",
    "    self.mem_cntr = 0\n",
    "    self.state_memory = np.zeros((self.mem_size, input_shape))\n",
    "    self.new_state_memory = np.zeros((self.mem_size, input_shape))\n",
    "    self.action_memory = np.zeros((self.mem_size, n_actions), dtype=np.int8 if self.discrete else np.float32)\n",
    "    self.reward_memory = np.zeros(self.mem_size)\n",
    "    self.terminal_memory = np.zeros(self.mem_size, dtype=np.float32)\n",
    "\n",
    "  def store_transition(self, state, action, reward, state_, done):\n",
    "    index = self.mem_cntr % self.mem_size\n",
    "    self.state_memory[index] = state\n",
    "    self.new_state_memory[index] = state_\n",
    "    self.reward_memory[index] = reward\n",
    "    self.terminal_memory[index] = 1 - int(done)\n",
    "    if self.discrete:\n",
    "      # One hot encoding\n",
    "      actions = np.zeros(self.action_memory.shape[1])\n",
    "      actions[action] = 1.0\n",
    "      self.action_memory[index] = actions\n",
    "    else:\n",
    "      self.action_memory[index] = action\n",
    "    self.mem_cntr += 1\n",
    "\n",
    "  def sample_buffer(self, batch_size):\n",
    "    max_mem = min(self.mem_cntr, self.mem_size)\n",
    "    batch = np.random.choice(max_mem, batch_size)\n",
    "    return self.state_memory[batch], self.action_memory[batch], self.reward_memory[batch], self.new_state_memory[batch], self.terminal_memory[batch]\n",
    "\n",
    "\n",
    "def build_dqn(learning_rate, n_actions, input_dims, fc1_dims, fc2_dims):\n",
    "  model = Sequential([\n",
    "      Input(shape=(input_dims,)),\n",
    "      Dense(fc1_dims),\n",
    "      Activation('relu'),\n",
    "      Dense(fc2_dims),\n",
    "      Activation('relu'),\n",
    "      Dense(n_actions)\n",
    "  ])\n",
    "  model.compile(optimizer=Adam(learning_rate=learning_rate), loss='mse')\n",
    "  return model\n",
    "\n",
    "\n",
    "class Agent(object):\n",
    "  def __init__(self, alpha, gamma, n_actions, epsilon, batch_size, input_dims, epsilon_dec=0.996, epsilon_end=0.01, mem_size=1000000, fname='dqn_model.h5'):\n",
    "    self.action_space = [i for i in range(n_actions)]\n",
    "    self.n_actions = n_actions\n",
    "    self.gamma = gamma\n",
    "    self.epsilon = epsilon\n",
    "    self.epsilon_dec = epsilon_dec\n",
    "    self.epsilon_min = epsilon_end\n",
    "    self.batch_size = batch_size\n",
    "    self.model_file = fname\n",
    "\n",
    "    self.memory = ReplayBuffer(mem_size, input_dims, n_actions, discrete=True)\n",
    "    self.q_eval = build_dqn(alpha, n_actions, input_dims, 256, 256)\n",
    "\n",
    "  def remember(self, state, action, reward, new_state, done):\n",
    "    self.memory.store_transition(state, action, reward, new_state, done)\n",
    "\n",
    "\n",
    "  def choose_action(self, state):\n",
    "    state = state[np.newaxis, :]\n",
    "    action = np.random.choice(self.action_space) if np.random.random() < self.epsilon else np.argmax(self.q_eval.predict(state, verbose=False))\n",
    "    return action\n",
    "  \n",
    "  def learn(self):\n",
    "    if self.memory.mem_cntr > self.batch_size:\n",
    "      state, action, reward, new_state, done = self.memory.sample_buffer(self.batch_size)\n",
    "      action_values = np.array(self.action_space, dtype=np.int8)\n",
    "      action_indices = np.dot(action, action_values)\n",
    "      q_next = self.q_eval.predict(new_state, verbose=False)\n",
    "      q_eval = self.q_eval.predict(state, verbose=False)\n",
    "      q_target = q_eval.copy()\n",
    "      batch_index = np.arange(self.batch_size, dtype=np.int32)\n",
    "      q_target[batch_index, action_indices] = reward + self.gamma * np.max(q_next, axis=1) * done\n",
    "      _ = self.q_eval.fit(state, q_target, verbose=False)\n",
    "      self.epsilon = self.epsilon * self.epsilon_dec if self.epsilon > self.epsilon_min else self.epsilon\n",
    "\n",
    "  def save_model(self):\n",
    "    self.q_eval.save(self.model_file)\n",
    "\n",
    "  def load_model(self):\n",
    "    self.q_eval = load_model(self.model_file)"
   ]
  },
  {
   "cell_type": "code",
   "execution_count": 22,
   "metadata": {},
   "outputs": [
    {
     "name": "stderr",
     "output_type": "stream",
     "text": [
      "/root/miniconda3/envs/qfc/lib/python3.10/site-packages/gym/utils/passive_env_checker.py:233: DeprecationWarning: `np.bool8` is a deprecated alias for `np.bool_`.  (Deprecated NumPy 1.24)\n",
      "  if not isinstance(terminated, (bool, np.bool8)):\n",
      "WARNING:absl:You are saving your model as an HDF5 file via `model.save()` or `keras.saving.save_model(model)`. This file format is considered legacy. We recommend using instead the native Keras format, e.g. `model.save('my_model.keras')` or `keras.saving.save_model(model, 'my_model.keras')`. \n"
     ]
    },
    {
     "name": "stdout",
     "output_type": "stream",
     "text": [
      "Episode: 0, score: -178.99, average score: -178.99, epsilon: 0.88, time: 5.42\n",
      "Episode: 1, score: -123.36, average score: -151.17, epsilon: 0.57, time: 16.28\n",
      "Episode: 2, score: -125.05, average score: -142.47, epsilon: 0.26, time: 31.26\n",
      "Episode: 3, score: 4.53, average score: -105.72, epsilon: 0.14, time: 27.88\n",
      "Episode: 4, score: -83.20, average score: -101.21, epsilon: 0.087, time: 21.90\n",
      "Episode: 5, score: -489.25, average score: -165.89, epsilon: 0.065, time: 12.92\n",
      "Episode: 6, score: -249.61, average score: -177.85, epsilon: 0.041, time: 19.90\n",
      "Episode: 7, score: -147.35, average score: -174.03, epsilon: 0.029, time: 16.34\n",
      "Episode: 8, score: -508.01, average score: -211.14, epsilon: 0.022, time: 12.63\n",
      "Episode: 9, score: -265.88, average score: -216.62, epsilon: 0.016, time: 14.83\n"
     ]
    },
    {
     "name": "stderr",
     "output_type": "stream",
     "text": [
      "WARNING:absl:You are saving your model as an HDF5 file via `model.save()` or `keras.saving.save_model(model)`. This file format is considered legacy. We recommend using instead the native Keras format, e.g. `model.save('my_model.keras')` or `keras.saving.save_model(model, 'my_model.keras')`. \n"
     ]
    },
    {
     "name": "stdout",
     "output_type": "stream",
     "text": [
      "Episode: 10, score: -224.53, average score: -217.34, epsilon: 0.01, time: 17.61\n",
      "Episode: 11, score: -310.35, average score: -225.09, epsilon: 0.01, time: 45.88\n",
      "Episode: 12, score: -190.76, average score: -222.45, epsilon: 0.01, time: 23.43\n"
     ]
    }
   ],
   "source": [
    "import gym\n",
    "import time  # Import the time module\n",
    "\n",
    "env = gym.make('LunarLander-v2')\n",
    "n_episodes = 500\n",
    "agent = Agent(gamma=0.99, epsilon=1.0, alpha=0.0005, input_dims=8,\n",
    "              n_actions=4, mem_size=int(1e6), batch_size=64, epsilon_end=0.01)\n",
    "\n",
    "# agent.load_model()\n",
    "scores = []\n",
    "eps_history = []\n",
    "averages = []\n",
    "\n",
    "for i in range(n_episodes):\n",
    "  start_time = time.time()  # Record the start time of the episode\n",
    "\n",
    "  done = False\n",
    "  score = 0\n",
    "  observation, _ = env.reset()\n",
    "  while not done:\n",
    "    action = agent.choose_action(observation)\n",
    "    observation_, reward, done, truncated, info = env.step(action)\n",
    "    score += reward\n",
    "    agent.remember(observation, action, reward, observation_, int(done))\n",
    "    observation = observation_\n",
    "    agent.learn()\n",
    "  eps_history.append(agent.epsilon)\n",
    "  scores.append(score)\n",
    "\n",
    "  end_time = time.time()  # Record the end time of the episode\n",
    "  episode_time = end_time - start_time  # Calculate the duration of the episode\n",
    "\n",
    "  averages.append(np.mean(scores[-25:]))\n",
    "  print(f'Episode: {i}, score: {score:.2f}, average score: {averages[-1]:.2f}, epsilon: {\"{:.2g}\".format(agent.epsilon)}, time: {episode_time:.2f}')\n",
    "\n",
    "  if i % 10 == 0:\n",
    "    agent.save_model()"
   ]
  },
  {
   "cell_type": "code",
   "execution_count": null,
   "metadata": {},
   "outputs": [
    {
     "ename": "NameError",
     "evalue": "name 'plot_learning_curve' is not defined",
     "output_type": "error",
     "traceback": [
      "\u001b[0;31m---------------------------------------------------------------------------\u001b[0m",
      "\u001b[0;31mNameError\u001b[0m                                 Traceback (most recent call last)",
      "Cell \u001b[0;32mIn[9], line 3\u001b[0m\n\u001b[1;32m      1\u001b[0m filename \u001b[38;5;241m=\u001b[39m \u001b[38;5;124m'\u001b[39m\u001b[38;5;124mlunar_lander.png\u001b[39m\u001b[38;5;124m'\u001b[39m\n\u001b[1;32m      2\u001b[0m x \u001b[38;5;241m=\u001b[39m [i\u001b[38;5;241m+\u001b[39m\u001b[38;5;241m1\u001b[39m \u001b[38;5;28;01mfor\u001b[39;00m i \u001b[38;5;129;01min\u001b[39;00m \u001b[38;5;28mrange\u001b[39m(n_games)]\n\u001b[0;32m----> 3\u001b[0m \u001b[43mplot_learning_curve\u001b[49m(x, scores, eps_history, filename)\n",
      "\u001b[0;31mNameError\u001b[0m: name 'plot_learning_curve' is not defined"
     ]
    }
   ],
   "source": [
    "filename = 'lunar_lander.png'\n",
    "x = [i+1 for i in range(num_episodes)]\n",
    "plot_learning_curve(x, scores, eps_history, filename)"
   ]
  },
  {
   "cell_type": "code",
   "execution_count": null,
   "metadata": {},
   "outputs": [],
   "source": []
  }
 ],
 "metadata": {
  "kernelspec": {
   "display_name": "Python 3 (ipykernel)",
   "language": "python",
   "name": "python3"
  },
  "language_info": {
   "codemirror_mode": {
    "name": "ipython",
    "version": 3
   },
   "file_extension": ".py",
   "mimetype": "text/x-python",
   "name": "python",
   "nbconvert_exporter": "python",
   "pygments_lexer": "ipython3",
   "version": "3.10.12"
  }
 },
 "nbformat": 4,
 "nbformat_minor": 2
}
