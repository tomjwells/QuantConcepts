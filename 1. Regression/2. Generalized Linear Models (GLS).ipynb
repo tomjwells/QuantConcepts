{
 "cells": [
  {
   "cell_type": "markdown",
   "metadata": {},
   "source": [
    "# Generalized Linear Models (GLS)\n",
    "\n",
    "Typically we assume that random variables are normally distributed. \n",
    "\n",
    "Generalized linear models (GLMs) are a class of models that generalize linear regression by allowing the response variable to have a distribution other than a normal distribution. GLMs consist of three components: a random component (distribution of the response variable), a systematic component (linear predictor), and a *link function* that connects the two.\n",
    "\n",
    "Examples of non-normally distributed measurements:\n",
    "  - Death (0 or 1, so it will not be normally distributed)\n",
    "\t- The number of times people go to therapy (most people go zero times)"
   ]
  },
  {
   "cell_type": "code",
   "execution_count": 1,
   "metadata": {},
   "outputs": [
    {
     "name": "stdout",
     "output_type": "stream",
     "text": [
      "                 Generalized Linear Model Regression Results                  \n",
      "==============================================================================\n",
      "Dep. Variable:                      y   No. Observations:                    4\n",
      "Model:                            GLM   Df Residuals:                        2\n",
      "Model Family:                Binomial   Df Model:                            1\n",
      "Link Function:                  Logit   Scale:                          1.0000\n",
      "Method:                          IRLS   Log-Likelihood:                -2.3475\n",
      "Date:                Sun, 16 Jun 2024   Deviance:                       4.6950\n",
      "Time:                        20:52:43   Pearson chi2:                     3.66\n",
      "No. Iterations:                     4   Pseudo R-squ. (CS):             0.1915\n",
      "Covariance Type:            nonrobust                                         \n",
      "==============================================================================\n",
      "                 coef    std err          z      P>|z|      [0.025      0.975]\n",
      "------------------------------------------------------------------------------\n",
      "const         -1.8164      2.295     -0.791      0.429      -6.314       2.681\n",
      "x1             1.3623      1.670      0.816      0.415      -1.911       4.635\n",
      "x2            -0.4541      0.658     -0.690      0.490      -1.744       0.836\n",
      "==============================================================================\n"
     ]
    }
   ],
   "source": [
    "import statsmodels.api as sm\n",
    "import numpy as np\n",
    "\n",
    "# Sample data\n",
    "X = np.array([[1, 2], [2, 3], [3, 4], [4, 5]]) # predictors\n",
    "y = np.array([0, 1, 0, 1]) # binary response variable\n",
    "\n",
    "# Add a constant to the predictors\n",
    "X = sm.add_constant(X)\n",
    "\n",
    "# Fit a logistic regression model (a type of GLM)\n",
    "model = sm.GLM(y, X, family=sm.families.Binomial())\n",
    "result = model.fit()\n",
    "\n",
    "# Print the model summary\n",
    "print(result.summary())\n"
   ]
  },
  {
   "cell_type": "markdown",
   "metadata": {},
   "source": [
    "Linear regression can be thought of as a special case of a GLM:\n",
    "\n",
    "- The systematic component is $B_0 + B_1 x$.\n",
    "- Link function: $y(x) = x$.\n",
    "- Random distribution is the Normal distribution."
   ]
  },
  {
   "cell_type": "markdown",
   "metadata": {},
   "source": [
    "## Common Link Functions\n",
    "\n",
    "Different distributions have particular link functions associated with them\n",
    "\n",
    "| Name                | Link Function       | Distribution       |\n",
    "|---------------------|---------------------|--------------------|\n",
    "| Logistic Regression | $\\log\\left(\\frac{p}{1-p}\\right)$ (logit) | Binomial           |\n",
    "| Poisson Regression  | $\\log(\\lambda)$ (log)     | Poisson            |\n",
    "| Gamma Regression    | $\\frac{1}{\\mu}$ (inverse)    | Gamma              |\n",
    "\n",
    "When should you use each regression type:\n",
    "* Any time you have a binary outcome, logistic should be your go-to.\n",
    "* Poisson: Use when you have a skewed discrete distribution (e.g. number of times you go to the doctor). Poisson assumes that your mean is equal to the variance (may not always be true).\n",
    "* Negative Binomial: Similar to Poisson, except it allows for a different mean and variance.\n",
    "* Gamma is good for skewed, continuous, positive distributions. The variables must be greater than zero.\n"
   ]
  },
  {
   "cell_type": "markdown",
   "metadata": {},
   "source": []
  },
  {
   "cell_type": "markdown",
   "metadata": {},
   "source": []
  }
 ],
 "metadata": {
  "kernelspec": {
   "display_name": "Python 3 (ipykernel)",
   "language": "python",
   "name": "python3"
  },
  "language_info": {
   "codemirror_mode": {
    "name": "ipython",
    "version": 3
   },
   "file_extension": ".py",
   "mimetype": "text/x-python",
   "name": "python",
   "nbconvert_exporter": "python",
   "pygments_lexer": "ipython3",
   "version": "3.10.12"
  }
 },
 "nbformat": 4,
 "nbformat_minor": 2
}
