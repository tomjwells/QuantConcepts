{
 "cells": [
  {
   "cell_type": "markdown",
   "metadata": {},
   "source": [
    "# Multivariate Linear Regression\n",
    "\n",
    "> NOTE: Multiple regression and Multivariate regression refer to different concepts. Multiple regression refers to a regression model where there is one dependent variable (response) and multiple independent variables (predictors), for example, a model of form $y = \\beta_0 + \\beta_1 x_1 + \\beta_2 x_2 + \\epsilon$. Multivariate regression refers to a regression model where there are multiple dependent variables (responses) and potentially multiple independent variables (predictors), for example, a model of form $y = \\beta X + \\epsilon$."
   ]
  },
  {
   "cell_type": "markdown",
   "metadata": {},
   "source": [
    "# The Gram Matrix vs. The Covariance Matrix\n",
    "\n",
    "The term $X^T X$ is the **Gram matrix** of the design matrix, $X$, and it plays a central role in determining the regression coefficients and their standard errors.\n",
    "\n",
    "The sample covariance matrix is a scaled version of $X^T X$, where each column of $X$ is centered (mean-subtracted) and normalized by $n - 1$ (the degrees of freedom for covariance). The covariance matrix is given by:\n",
    "\n",
    "$$\n",
    "\\text{Cov}(X) = \\frac{1}{n-1} \\tilde{X}^T \\tilde{X},\n",
    "$$\n",
    "\n",
    "where:\n",
    "- $\\tilde{X}$ is the matrix $X$ after subtracting the column means: $\\tilde{X}_{i,j} = X_{i,j} - \\bar{X}_j$,\n",
    "- $\\bar{X}_j$ is the mean of the $j$-th column of $X$.\n",
    "\n",
    "### Relation to $X^T X$\n",
    "If $X$ is not mean-centered, $X^T X$ is not directly proportional to the covariance matrix. However, if $X$ is centered, we have:\n",
    "$$\n",
    "X^T X = (n-1) \\text{Cov}(X).\n",
    "$$\n",
    "\n",
    "This highlights that the covariance matrix is a normalized version of $X^T X$. In summary, the Gram matrix is proportional to the covariance matrix iff the data is **mean-centered**."
   ]
  },
  {
   "cell_type": "markdown",
   "metadata": {},
   "source": []
  }
 ],
 "metadata": {
  "language_info": {
   "name": "python"
  }
 },
 "nbformat": 4,
 "nbformat_minor": 2
}
