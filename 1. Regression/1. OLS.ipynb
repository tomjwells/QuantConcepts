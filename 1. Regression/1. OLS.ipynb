{
 "cells": [
  {
   "cell_type": "markdown",
   "metadata": {},
   "source": [
    "# OLS Regression"
   ]
  },
  {
   "cell_type": "code",
   "execution_count": 37,
   "metadata": {},
   "outputs": [
    {
     "name": "stdout",
     "output_type": "stream",
     "text": [
      "Requirement already satisfied: plotly in /usr/local/Caskroom/mambaforge/base/envs/dql/lib/python3.10/site-packages (5.22.0)\n",
      "Requirement already satisfied: cufflinks in /usr/local/Caskroom/mambaforge/base/envs/dql/lib/python3.10/site-packages (0.17.3)\n",
      "Requirement already satisfied: statsmodels in /usr/local/Caskroom/mambaforge/base/envs/dql/lib/python3.10/site-packages (0.14.2)\n",
      "Requirement already satisfied: tenacity>=6.2.0 in /usr/local/Caskroom/mambaforge/base/envs/dql/lib/python3.10/site-packages (from plotly) (8.2.3)\n",
      "Requirement already satisfied: packaging in /usr/local/Caskroom/mambaforge/base/envs/dql/lib/python3.10/site-packages (from plotly) (24.0)\n",
      "Requirement already satisfied: numpy>=1.9.2 in /usr/local/Caskroom/mambaforge/base/envs/dql/lib/python3.10/site-packages (from cufflinks) (1.26.4)\n",
      "Requirement already satisfied: pandas>=0.19.2 in /usr/local/Caskroom/mambaforge/base/envs/dql/lib/python3.10/site-packages (from cufflinks) (2.2.2)\n",
      "Requirement already satisfied: six>=1.9.0 in /usr/local/Caskroom/mambaforge/base/envs/dql/lib/python3.10/site-packages (from cufflinks) (1.16.0)\n",
      "Requirement already satisfied: colorlover>=0.2.1 in /usr/local/Caskroom/mambaforge/base/envs/dql/lib/python3.10/site-packages (from cufflinks) (0.3.0)\n",
      "Requirement already satisfied: setuptools>=34.4.1 in /usr/local/Caskroom/mambaforge/base/envs/dql/lib/python3.10/site-packages (from cufflinks) (69.2.0)\n",
      "Requirement already satisfied: ipython>=5.3.0 in /usr/local/Caskroom/mambaforge/base/envs/dql/lib/python3.10/site-packages (from cufflinks) (8.22.2)\n",
      "Requirement already satisfied: ipywidgets>=7.0.0 in /usr/local/Caskroom/mambaforge/base/envs/dql/lib/python3.10/site-packages (from cufflinks) (8.1.2)\n",
      "Requirement already satisfied: scipy!=1.9.2,>=1.8 in /usr/local/Caskroom/mambaforge/base/envs/dql/lib/python3.10/site-packages (from statsmodels) (1.13.0)\n",
      "Requirement already satisfied: patsy>=0.5.6 in /usr/local/Caskroom/mambaforge/base/envs/dql/lib/python3.10/site-packages (from statsmodels) (0.5.6)\n",
      "Requirement already satisfied: decorator in /usr/local/Caskroom/mambaforge/base/envs/dql/lib/python3.10/site-packages (from ipython>=5.3.0->cufflinks) (5.1.1)\n",
      "Requirement already satisfied: jedi>=0.16 in /usr/local/Caskroom/mambaforge/base/envs/dql/lib/python3.10/site-packages (from ipython>=5.3.0->cufflinks) (0.19.1)\n",
      "Requirement already satisfied: matplotlib-inline in /usr/local/Caskroom/mambaforge/base/envs/dql/lib/python3.10/site-packages (from ipython>=5.3.0->cufflinks) (0.1.6)\n",
      "Requirement already satisfied: prompt-toolkit<3.1.0,>=3.0.41 in /usr/local/Caskroom/mambaforge/base/envs/dql/lib/python3.10/site-packages (from ipython>=5.3.0->cufflinks) (3.0.42)\n",
      "Requirement already satisfied: pygments>=2.4.0 in /usr/local/Caskroom/mambaforge/base/envs/dql/lib/python3.10/site-packages (from ipython>=5.3.0->cufflinks) (2.17.2)\n",
      "Requirement already satisfied: stack-data in /usr/local/Caskroom/mambaforge/base/envs/dql/lib/python3.10/site-packages (from ipython>=5.3.0->cufflinks) (0.6.2)\n",
      "Requirement already satisfied: traitlets>=5.13.0 in /usr/local/Caskroom/mambaforge/base/envs/dql/lib/python3.10/site-packages (from ipython>=5.3.0->cufflinks) (5.14.2)\n",
      "Requirement already satisfied: exceptiongroup in /usr/local/Caskroom/mambaforge/base/envs/dql/lib/python3.10/site-packages (from ipython>=5.3.0->cufflinks) (1.2.0)\n",
      "Requirement already satisfied: pexpect>4.3 in /usr/local/Caskroom/mambaforge/base/envs/dql/lib/python3.10/site-packages (from ipython>=5.3.0->cufflinks) (4.9.0)\n",
      "Requirement already satisfied: comm>=0.1.3 in /usr/local/Caskroom/mambaforge/base/envs/dql/lib/python3.10/site-packages (from ipywidgets>=7.0.0->cufflinks) (0.2.2)\n",
      "Requirement already satisfied: widgetsnbextension~=4.0.10 in /usr/local/Caskroom/mambaforge/base/envs/dql/lib/python3.10/site-packages (from ipywidgets>=7.0.0->cufflinks) (4.0.10)\n",
      "Requirement already satisfied: jupyterlab-widgets~=3.0.10 in /usr/local/Caskroom/mambaforge/base/envs/dql/lib/python3.10/site-packages (from ipywidgets>=7.0.0->cufflinks) (3.0.10)\n",
      "Requirement already satisfied: python-dateutil>=2.8.2 in /usr/local/Caskroom/mambaforge/base/envs/dql/lib/python3.10/site-packages (from pandas>=0.19.2->cufflinks) (2.9.0)\n",
      "Requirement already satisfied: pytz>=2020.1 in /usr/local/Caskroom/mambaforge/base/envs/dql/lib/python3.10/site-packages (from pandas>=0.19.2->cufflinks) (2024.1)\n",
      "Requirement already satisfied: tzdata>=2022.7 in /usr/local/Caskroom/mambaforge/base/envs/dql/lib/python3.10/site-packages (from pandas>=0.19.2->cufflinks) (2024.1)\n",
      "Requirement already satisfied: parso<0.9.0,>=0.8.3 in /usr/local/Caskroom/mambaforge/base/envs/dql/lib/python3.10/site-packages (from jedi>=0.16->ipython>=5.3.0->cufflinks) (0.8.4)\n",
      "Requirement already satisfied: ptyprocess>=0.5 in /usr/local/Caskroom/mambaforge/base/envs/dql/lib/python3.10/site-packages (from pexpect>4.3->ipython>=5.3.0->cufflinks) (0.7.0)\n",
      "Requirement already satisfied: wcwidth in /usr/local/Caskroom/mambaforge/base/envs/dql/lib/python3.10/site-packages (from prompt-toolkit<3.1.0,>=3.0.41->ipython>=5.3.0->cufflinks) (0.2.13)\n",
      "Requirement already satisfied: executing>=1.2.0 in /usr/local/Caskroom/mambaforge/base/envs/dql/lib/python3.10/site-packages (from stack-data->ipython>=5.3.0->cufflinks) (2.0.1)\n",
      "Requirement already satisfied: asttokens>=2.1.0 in /usr/local/Caskroom/mambaforge/base/envs/dql/lib/python3.10/site-packages (from stack-data->ipython>=5.3.0->cufflinks) (2.4.1)\n",
      "Requirement already satisfied: pure-eval in /usr/local/Caskroom/mambaforge/base/envs/dql/lib/python3.10/site-packages (from stack-data->ipython>=5.3.0->cufflinks) (0.2.2)\n",
      "Note: you may need to restart the kernel to use updated packages.\n"
     ]
    }
   ],
   "source": [
    "# %conda env remove --name dql --yes\n",
    "# %conda env create -f requirements.yaml\n",
    "# %pip install plotly cufflinks statsmodels"
   ]
  },
  {
   "cell_type": "code",
   "execution_count": 77,
   "metadata": {},
   "outputs": [
    {
     "data": {
      "text/html": [
       "        <script type=\"text/javascript\">\n",
       "        window.PlotlyConfig = {MathJaxConfig: 'local'};\n",
       "        if (window.MathJax && window.MathJax.Hub && window.MathJax.Hub.Config) {window.MathJax.Hub.Config({SVG: {font: \"STIX-Web\"}});}\n",
       "        if (typeof require !== 'undefined') {\n",
       "        require.undef(\"plotly\");\n",
       "        requirejs.config({\n",
       "            paths: {\n",
       "                'plotly': ['https://cdn.plot.ly/plotly-2.32.0.min']\n",
       "            }\n",
       "        });\n",
       "        require(['plotly'], function(Plotly) {\n",
       "            window._Plotly = Plotly;\n",
       "        });\n",
       "        }\n",
       "        </script>\n",
       "        "
      ]
     },
     "metadata": {},
     "output_type": "display_data"
    },
    {
     "data": {
      "text/html": [
       "        <script type=\"text/javascript\">\n",
       "        window.PlotlyConfig = {MathJaxConfig: 'local'};\n",
       "        if (window.MathJax && window.MathJax.Hub && window.MathJax.Hub.Config) {window.MathJax.Hub.Config({SVG: {font: \"STIX-Web\"}});}\n",
       "        if (typeof require !== 'undefined') {\n",
       "        require.undef(\"plotly\");\n",
       "        requirejs.config({\n",
       "            paths: {\n",
       "                'plotly': ['https://cdn.plot.ly/plotly-2.32.0.min']\n",
       "            }\n",
       "        });\n",
       "        require(['plotly'], function(Plotly) {\n",
       "            window._Plotly = Plotly;\n",
       "        });\n",
       "        }\n",
       "        </script>\n",
       "        "
      ]
     },
     "metadata": {},
     "output_type": "display_data"
    },
    {
     "data": {
      "text/html": [
       "        <script type=\"text/javascript\">\n",
       "        window.PlotlyConfig = {MathJaxConfig: 'local'};\n",
       "        if (window.MathJax && window.MathJax.Hub && window.MathJax.Hub.Config) {window.MathJax.Hub.Config({SVG: {font: \"STIX-Web\"}});}\n",
       "        if (typeof require !== 'undefined') {\n",
       "        require.undef(\"plotly\");\n",
       "        requirejs.config({\n",
       "            paths: {\n",
       "                'plotly': ['https://cdn.plot.ly/plotly-2.32.0.min']\n",
       "            }\n",
       "        });\n",
       "        require(['plotly'], function(Plotly) {\n",
       "            window._Plotly = Plotly;\n",
       "        });\n",
       "        }\n",
       "        </script>\n",
       "        "
      ]
     },
     "metadata": {},
     "output_type": "display_data"
    }
   ],
   "source": [
    "import math\n",
    "#import eikon as ek\n",
    "import numpy as np\n",
    "import pandas as pd\n",
    "from pylab import plt\n",
    "# print(plt.style.available)\n",
    "plt.style.use ('seaborn-v0_8')\n",
    "import cufflinks as cf\n",
    "cf.set_config_file(offline=True)\n",
    "%matplotlib inline\n",
    "pd.options.plotting.backend = \"plotly\"\n",
    "from plotly.offline import download_plotlyjs, init_notebook_mode, plot, iplot\n",
    "\n",
    "# This line will make your visualizations appear in your notebook\n",
    "init_notebook_mode(connected=True)\n",
    "\n",
    "# This line allows us to use cufflinks offline\n",
    "cf.go_offline()"
   ]
  },
  {
   "cell_type": "markdown",
   "metadata": {},
   "source": [
    "## 1. 1D Example\n",
    "\n",
    "First we generate some data mimicking \"real world\" data with a linear relationship."
   ]
  },
  {
   "cell_type": "code",
   "execution_count": 39,
   "metadata": {},
   "outputs": [],
   "source": [
    "x = np.linspace(0, 5, 100)\n",
    "y = 2 + 0.5 * x + np.random.standard_normal(len(x)) * 0.15"
   ]
  },
  {
   "cell_type": "code",
   "execution_count": 40,
   "metadata": {},
   "outputs": [
    {
     "data": {
      "text/plain": [
       "[<matplotlib.lines.Line2D at 0x1641c66e0>]"
      ]
     },
     "execution_count": 40,
     "metadata": {},
     "output_type": "execute_result"
    },
    {
     "data": {
      "image/png": "[encoded data removed]",
      "text/plain": [
       "<Figure size 1000x600 with 1 Axes>"
      ]
     },
     "metadata": {},
     "output_type": "display_data"
    }
   ],
   "source": [
    "plt.figure(figsize=(10, 6))\n",
    "plt. plot(x, y, 'ro')"
   ]
  },
  {
   "cell_type": "code",
   "execution_count": 41,
   "metadata": {},
   "outputs": [],
   "source": [
    "cov = np.cov(x, y)[0, 1]"
   ]
  },
  {
   "cell_type": "code",
   "execution_count": 42,
   "metadata": {},
   "outputs": [],
   "source": [
    "beta = cov / x.var()"
   ]
  },
  {
   "cell_type": "code",
   "execution_count": 43,
   "metadata": {},
   "outputs": [],
   "source": [
    "alpha = y.mean() - beta * x.mean()"
   ]
  },
  {
   "cell_type": "markdown",
   "metadata": {},
   "source": [
    "By printing `alpha` and `beta`, we can compare with our generating function."
   ]
  },
  {
   "cell_type": "code",
   "execution_count": 44,
   "metadata": {},
   "outputs": [
    {
     "data": {
      "text/plain": [
       "(2.0245797469352973, 0.48283144008469)"
      ]
     },
     "execution_count": 44,
     "metadata": {},
     "output_type": "execute_result"
    }
   ],
   "source": [
    "alpha, beta"
   ]
  },
  {
   "cell_type": "markdown",
   "metadata": {},
   "source": [
    "Now we can visualise our OLS fit."
   ]
  },
  {
   "cell_type": "code",
   "execution_count": 45,
   "metadata": {},
   "outputs": [
    {
     "data": {
      "image/png": "[encoded data removed]",
      "text/plain": [
       "<Figure size 1000x600 with 1 Axes>"
      ]
     },
     "metadata": {},
     "output_type": "display_data"
    }
   ],
   "source": [
    "plt.figure(figsize=(10, 6))\n",
    "plt.plot(x, alpha + beta *  x, lw=2.0)\n",
    "plt.plot(x, y, 'ro'); "
   ]
  },
  {
   "cell_type": "markdown",
   "metadata": {},
   "source": [
    "## Checking the Residuals\n",
    "\n",
    "The residuals contain useful information. In particular, they are useful for checking the validity of the assumptions of OLS:\n",
    "\n",
    "1. **linearity**: the model is linear in its parameters (coefficients and error term)\n",
    "2. **independence**: independent variables should not be prefectly correlated with each other (no multicolinearity)\n",
    "3. **zero mean**: the mean of the residuals should be zero\n",
    "4. **no correlation**: residuals should not be correlated with the independant variables\n",
    "5. **homoscedasticity**: the standard deviation of the residuals should be constant\n",
    "6. **no autocorrelation**: the residuals should not be correlated with each other\n",
    "\n",
    "Check:\n",
    "\n",
    "1. **linearity**: given\n",
    "2. **independence**: This is automatically satisfied, since there is only one independent variable.\n",
    "3. **zero mean**: mean zero given (see below)\n",
    "4. **no correlation**: correlation of zero (see below)\n",
    "5. **homoscedasticity**: given (see below)\n",
    "6. **no autocorrelation**: given (see below)"
   ]
  },
  {
   "cell_type": "code",
   "execution_count": 46,
   "metadata": {},
   "outputs": [],
   "source": [
    "r = alpha + beta * x - y"
   ]
  },
  {
   "cell_type": "markdown",
   "metadata": {},
   "source": [
    "### Zero-mean Check"
   ]
  },
  {
   "cell_type": "code",
   "execution_count": 47,
   "metadata": {},
   "outputs": [
    {
     "name": "stdout",
     "output_type": "stream",
     "text": [
      "Zero mean check: -4.1522341120980857e-16\n"
     ]
    }
   ],
   "source": [
    "print(f\"Zero mean check: {r.mean()}\")"
   ]
  },
  {
   "cell_type": "markdown",
   "metadata": {},
   "source": [
    "### No correlation check\n",
    "\n",
    "To check the correlation, we can printing the correlation matrix of the residuals with the independent variable:"
   ]
  },
  {
   "cell_type": "code",
   "execution_count": 48,
   "metadata": {},
   "outputs": [
    {
     "data": {
      "text/plain": [
       "array([[1.        , 0.04366066],\n",
       "       [0.04366066, 1.        ]])"
      ]
     },
     "execution_count": 48,
     "metadata": {},
     "output_type": "execute_result"
    }
   ],
   "source": [
    "np.corrcoef(r, x)"
   ]
  },
  {
   "cell_type": "markdown",
   "metadata": {},
   "source": [
    "### Homoscedasticity Check\n",
    "\n",
    "Check for homoscedasticity is performed using the Bartlett test"
   ]
  },
  {
   "cell_type": "code",
   "execution_count": 49,
   "metadata": {},
   "outputs": [
    {
     "data": {
      "text/plain": [
       "BartlettResult(statistic=5.329287624494697, pvalue=0.020969954609718074)"
      ]
     },
     "execution_count": 49,
     "metadata": {},
     "output_type": "execute_result"
    }
   ],
   "source": [
    "from scipy.stats import bartlett\n",
    "\n",
    "split = int(len(x) / 2)\n",
    "bartlett(r[:split], r[split:])"
   ]
  },
  {
   "cell_type": "markdown",
   "metadata": {},
   "source": [
    "### Autocorrelation Check"
   ]
  },
  {
   "cell_type": "code",
   "execution_count": 50,
   "metadata": {},
   "outputs": [
    {
     "data": {
      "image/png": "[encoded data removed]",
      "text/plain": [
       "<Figure size 1000x600 with 1 Axes>"
      ]
     },
     "metadata": {},
     "output_type": "display_data"
    }
   ],
   "source": [
    "from statsmodels.stats.diagnostic import acorr_ljungbox\n",
    "from statsmodels.graphics.tsaplots import plot_acf\n",
    "\n",
    "fig, ax = plt.subplots(figsize=(10, 6))\n",
    "\n",
    "plot_acf(r, ax=ax);"
   ]
  },
  {
   "cell_type": "markdown",
   "metadata": {},
   "source": [
    "# Monomial Regression"
   ]
  },
  {
   "cell_type": "code",
   "execution_count": 51,
   "metadata": {},
   "outputs": [
    {
     "data": {
      "text/plain": [
       "[<matplotlib.lines.Line2D at 0x16431b100>]"
      ]
     },
     "execution_count": 51,
     "metadata": {},
     "output_type": "execute_result"
    },
    {
     "data": {
      "image/png": "[encoded data removed]",
      "text/plain": [
       "<Figure size 1000x600 with 1 Axes>"
      ]
     },
     "metadata": {},
     "output_type": "display_data"
    }
   ],
   "source": [
    "x = np. linspace(0, 5, 100)\n",
    "y = 2 - 0.5 * x ** 2 + 0.1 * x ** 3 + np. random.standard_normal(len(x)) * 0.15\n",
    "plt.figure(figsize=(10, 6))\n",
    "plt.plot(x, y, 'ro')"
   ]
  },
  {
   "cell_type": "code",
   "execution_count": 52,
   "metadata": {},
   "outputs": [
    {
     "data": {
      "text/plain": [
       "[<matplotlib.lines.Line2D at 0x164393d00>]"
      ]
     },
     "execution_count": 52,
     "metadata": {},
     "output_type": "execute_result"
    },
    {
     "data": {
      "image/png": "[encoded data removed]",
      "text/plain": [
       "<Figure size 1000x600 with 1 Axes>"
      ]
     },
     "metadata": {},
     "output_type": "display_data"
    }
   ],
   "source": [
    "reg = np.polyfit(x, y, 3)\n",
    "\n",
    "plt.figure(figsize=(10, 6))\n",
    "plt. plot(x, np. polyval(reg, x), lw=2.0)\n",
    "plt. plot(x, y, 'ro')"
   ]
  },
  {
   "cell_type": "markdown",
   "metadata": {},
   "source": [
    "Let us again check for the assumptions:\n",
    "\n",
    "* **linearity**: given\n",
    "* **independence**: given\n",
    "* **zero mean**: mean zero given (see below)\n",
    "* **no correlation**: correlation of zero (see below)\n",
    "* **homoscedasticity**: given (see below)\n",
    "* **no autocorrelation**: given (see below)"
   ]
  },
  {
   "cell_type": "code",
   "execution_count": 53,
   "metadata": {},
   "outputs": [],
   "source": [
    "r = np. polyval(reg, x) - y"
   ]
  },
  {
   "cell_type": "markdown",
   "metadata": {},
   "source": [
    "## Zero-mean"
   ]
  },
  {
   "cell_type": "code",
   "execution_count": 54,
   "metadata": {},
   "outputs": [
    {
     "data": {
      "text/plain": [
       "-7.549516567451065e-17"
      ]
     },
     "execution_count": 54,
     "metadata": {},
     "output_type": "execute_result"
    }
   ],
   "source": [
    "r.mean()"
   ]
  },
  {
   "cell_type": "markdown",
   "metadata": {},
   "source": [
    "## No Correlation"
   ]
  },
  {
   "cell_type": "code",
   "execution_count": 55,
   "metadata": {},
   "outputs": [
    {
     "data": {
      "text/plain": [
       "array([[1.00000000e+00, 4.90205312e-15],\n",
       "       [4.90205312e-15, 1.00000000e+00]])"
      ]
     },
     "execution_count": 55,
     "metadata": {},
     "output_type": "execute_result"
    }
   ],
   "source": [
    "np.corrcoef(r, x)"
   ]
  },
  {
   "cell_type": "markdown",
   "metadata": {},
   "source": [
    "## Heteroscedasticity"
   ]
  },
  {
   "cell_type": "code",
   "execution_count": 56,
   "metadata": {},
   "outputs": [
    {
     "data": {
      "text/plain": [
       "BartlettResult(statistic=0.7718921994769598, pvalue=0.37963232108418077)"
      ]
     },
     "execution_count": 56,
     "metadata": {},
     "output_type": "execute_result"
    }
   ],
   "source": [
    "split = int(len(x) / 2)\n",
    "bartlett(r[:split], r[split:])"
   ]
  },
  {
   "cell_type": "markdown",
   "metadata": {},
   "source": [
    "## No Autocorrelation"
   ]
  },
  {
   "cell_type": "code",
   "execution_count": 57,
   "metadata": {},
   "outputs": [
    {
     "data": {
      "image/png": "[encoded data removed]",
      "text/plain": [
       "<Figure size 1000x600 with 1 Axes>"
      ]
     },
     "metadata": {},
     "output_type": "display_data"
    }
   ],
   "source": [
    "fig, ax = plt.subplots(figsize=(10, 6))\n",
    "plot_acf(r, ax=ax);"
   ]
  },
  {
   "cell_type": "markdown",
   "metadata": {},
   "source": [
    "## Multivariate Regression"
   ]
  },
  {
   "cell_type": "code",
   "execution_count": 58,
   "metadata": {},
   "outputs": [],
   "source": [
    "x1 = np.random.random(200) * 5\n",
    "x2 = np.random.random(200) * 5\n",
    "y = 2 - 0.5 * x1 ** 2 + 0.1 * x2 ** 3 + np.random.standard_normal(len(x1)) * 0.15"
   ]
  },
  {
   "cell_type": "code",
   "execution_count": 65,
   "metadata": {},
   "outputs": [
    {
     "name": "stdout",
     "output_type": "stream",
     "text": [
      "Requirement already satisfied: plotly in /usr/local/Caskroom/mambaforge/base/envs/dql/lib/python3.10/site-packages (5.22.0)\n",
      "Requirement already satisfied: tenacity>=6.2.0 in /usr/local/Caskroom/mambaforge/base/envs/dql/lib/python3.10/site-packages (from plotly) (8.2.3)\n",
      "Requirement already satisfied: packaging in /usr/local/Caskroom/mambaforge/base/envs/dql/lib/python3.10/site-packages (from plotly) (24.0)\n",
      "Note: you may need to restart the kernel to use updated packages.\n"
     ]
    }
   ],
   "source": [
    "%pip install plotly"
   ]
  },
  {
   "cell_type": "code",
   "execution_count": 83,
   "metadata": {},
   "outputs": [
    {
     "data": {
      "application/vnd.plotly.v1+json": {
       "config": {
        "linkText": "Export to plot.ly",
        "plotlyServerURL": "https://plot.ly",
        "showLink": true
       },
       "data": [
        {
         "marker": {
          "color": "rgba(255, 153, 51, 1.0)",
          "line": {
           "width": 1.3
          },
          "opacity": 0.8,
          "size": 4,
          "symbol": "circle"
         },
         "mode": "markers",
         "name": "",
         "text": [
          "",
          "",
          "",
          "",
          "",
          "",
          "",
          "",
          "",
          "",
          "",
          "",
          "",
          "",
          "",
          "",
          "",
          "",
          "",
          "",
          "",
          "",
          "",
          "",
          "",
          "",
          "",
          "",
          "",
          "",
          "",
          "",
          "",
          "",
          "",
          "",
          "",
          "",
          "",
          "",
          "",
          "",
          "",
          "",
          "",
          "",
          "",
          "",
          "",
          "",
          "",
          "",
          "",
          "",
          "",
          "",
          "",
          "",
          "",
          "",
          "",
          "",
          "",
          "",
          "",
          "",
          "",
          "",
          "",
          "",
          "",
          "",
          "",
          "",
          "",
          "",
          "",
          "",
          "",
          "",
          "",
          "",
          "",
          "",
          "",
          "",
          "",
          "",
          "",
          "",
          "",
          "",
          "",
          "",
          "",
          "",
          "",
          "",
          "",
          "",
          "",
          "",
          "",
          "",
          "",
          "",
          "",
          "",
          "",
          "",
          "",
          "",
          "",
          "",
          "",
          "",
          "",
          "",
          "",
          "",
          "",
          "",
          "",
          "",
          "",
          "",
          "",
          "",
          "",
          "",
          "",
          "",
          "",
          "",
          "",
          "",
          "",
          "",
          "",
          "",
          "",
          "",
          "",
          "",
          "",
          "",
          "",
          "",
          "",
          "",
          "",
          "",
          "",
          "",
          "",
          "",
          "",
          "",
          "",
          "",
          "",
          "",
          "",
          "",
          "",
          "",
          "",
          "",
          "",
          "",
          "",
          "",
          "",
          "",
          "",
          "",
          "",
          "",
          "",
          "",
          "",
          "",
          "",
          "",
          "",
          "",
          "",
          "",
          "",
          "",
          "",
          "",
          "",
          "",
          "",
          "",
          "",
          "",
          "",
          ""
         ],
         "textfont": {
          "color": "#4D5663"
         },
         "type": "scatter3d",
         "x": [
          4.873752394388699,
          0.12589390791322486,
          2.495956481890256,
          4.484743082073973,
          4.482897471649301,
          2.5187182076460344,
          1.8553870595389743,
          2.4563359051049316,
          3.220741974399004,
          1.7323787086125841,
          0.6149428815565583,
          4.519745945234578,
          4.865343664574837,
          1.8371914350079332,
          3.9322610015104194,
          2.2415953144091425,
          1.162796223560381,
          4.36992593792835,
          3.603245641274983,
          4.461532282054079,
          1.4711252146452307,
          4.911269114984826,
          3.8228742085254974,
          4.533173192922299,
          0.041122950402367464,
          0.9227869407010242,
          0.7584338781825739,
          2.3020817510127056,
          1.6510032646407147,
          0.274421655604426,
          0.8056053787442552,
          2.170740847064352,
          0.6751405300130253,
          2.6713762347774783,
          2.431456015934315,
          3.227972549203535,
          1.0639963961580396,
          4.260630076988894,
          1.6011150784783834,
          1.0684735565541403,
          2.77316470569674,
          0.38055908284209516,
          3.061476895755696,
          2.5912848758738467,
          0.3401816064584978,
          3.7918366833301964,
          4.646432621464351,
          0.8706797220944396,
          1.6649092220795458,
          4.151755578458701,
          3.5341628084432264,
          1.9025944506483394,
          3.171984261763803,
          2.394129993054296,
          2.524605595559569,
          1.0405152280707868,
          4.685475414472445,
          0.3304509116999599,
          2.4950756515288166,
          1.1345520456718456,
          2.348422072672076,
          2.6262132117870918,
          3.450188989416283,
          1.5635314484178537,
          1.8381060664091615,
          0.42894690663469737,
          3.6908826194716253,
          4.040460941393694,
          4.050412240774413,
          2.1570875040842856,
          4.632721681220014,
          3.656291730077001,
          2.7409975480445685,
          3.9470282154799685,
          0.2063016188058847,
          1.1286714970819482,
          0.053000073808567305,
          2.244482520191508,
          0.9530982379775699,
          1.1565551990549476,
          4.524746397959106,
          3.6230120959092154,
          0.9591027195175006,
          2.0277291905955668,
          4.927146795862505,
          0.7880029029636976,
          0.05353763200295625,
          0.33015628256590324,
          1.9055056802375843,
          0.4513369106079679,
          1.7770045445154854,
          0.6192188256312608,
          3.770251129165047,
          1.9207461338179548,
          4.441952017322483,
          1.1059507642670425,
          1.0834233889736815,
          0.18862470015891808,
          4.3713999864264315,
          3.473680832096331,
          0.8040801103096934,
          0.1407827100333714,
          4.541238786644444,
          0.21654375071749998,
          3.317209457318775,
          3.3046165656608544,
          0.32586988166573794,
          3.5888136765209637,
          1.66143561398761,
          2.277633491129713,
          1.4030165599749074,
          1.275026023609494,
          3.973491935355025,
          4.408979789288481,
          1.2896365389289515,
          4.007552144515419,
          1.2201286804614337,
          2.247111334999221,
          3.780878748017278,
          4.9816204331744105,
          3.629509291849528,
          3.8084372359003416,
          0.6258020955342819,
          0.8753497252933734,
          1.1994434083283512,
          3.3019867892761883,
          1.3938552512208862,
          4.092117109106402,
          1.4969857216466032,
          0.08666716593674462,
          0.3657070601373591,
          2.254867066817741,
          3.743810573256225,
          3.9232613234762885,
          3.7524364072804706,
          0.9671872287022099,
          0.5557508485540769,
          2.7131754337265086,
          0.710092601413837,
          4.153414324441711,
          4.888184455231259,
          4.960510151626386,
          0.21920531907909546,
          1.5494565612870626,
          3.813408073866595,
          4.818930012050397,
          3.8837230468300037,
          4.374847911164631,
          1.4949569228574722,
          3.9220465522107024,
          2.4224111339287147,
          0.125646928823816,
          3.6985346472563254,
          4.049187598565146,
          3.5419233011295503,
          4.97437902609976,
          2.6194280952911333,
          3.7440672934362085,
          1.567782040852671,
          3.9426113930416062,
          3.3219968730329446,
          3.4762048470419122,
          1.4978605181826121,
          0.14730583735303948,
          4.749716963636124,
          0.37283189548051043,
          1.8114007316909326,
          0.7176844858183173,
          1.2646925635560047,
          0.12408210741173376,
          0.682570801275264,
          1.6356635489003701,
          1.2656414670677574,
          2.011449883671526,
          3.0166056785542072,
          4.006976003874648,
          2.6802185031794985,
          3.9428298743965224,
          1.546194790480298,
          4.147659638155795,
          4.4069952884635075,
          3.1268186840007983,
          2.454663806827335,
          4.61393381101728,
          0.37309616979396776,
          1.008549153596996,
          4.850777927181723,
          0.7831020596909904,
          3.675957043708329,
          4.6784605784837465,
          1.1896251453514373,
          1.576084812222246,
          2.844727828801428,
          3.183364338944716,
          0.7905208591783125,
          3.924336010311227,
          1.6269392903906104,
          2.0396548273906867,
          0.18912338703342857,
          0.515454029638393
         ],
         "y": [
          0.5832186205138501,
          4.351981577053101,
          0.9839950641984807,
          3.34052516669553,
          3.4858655083532124,
          1.524716781141765,
          4.337079026042819,
          3.379657315571545,
          1.2492167049490503,
          0.07299870933077213,
          2.1762005537962996,
          1.7808969384025353,
          4.540016486581962,
          3.881377018156929,
          0.5668096014325524,
          1.8780714163741936,
          2.099719374122153,
          3.6201158171493404,
          0.6040310591772047,
          3.97874390789533,
          1.1161883170704545,
          4.187831821347661,
          3.4005537340665044,
          4.473110437716127,
          2.661120967824729,
          0.5483260962641484,
          3.3557229262810786,
          2.746599735147654,
          4.360855786365919,
          1.4351869976857263,
          1.4529637639195137,
          3.0536667033182425,
          4.359825958539363,
          4.08125628300366,
          1.833602760920427,
          1.470075102129838,
          4.430390946185715,
          0.4628807903368276,
          3.6119544135223194,
          2.63119166539869,
          1.3700596579617008,
          3.400062281452313,
          3.9505676423649447,
          4.745504959079366,
          1.3917594571073977,
          4.423727979299664,
          0.42709625331305123,
          0.3007902075215524,
          1.5634906454539843,
          0.8669478107868372,
          3.9656448573050893,
          1.312536842123665,
          4.44719169776081,
          4.235172528900134,
          3.5117148087367407,
          4.9179758352672724,
          3.7053370097901754,
          2.2143999798631597,
          0.8886044072777227,
          0.36286482217623317,
          1.9845009344524418,
          4.984533078877986,
          4.547374320320634,
          1.554210379366029,
          0.2988655923609862,
          4.108719683936583,
          4.922991516533951,
          3.0464762121974713,
          2.4160621112497975,
          4.594595020044975,
          2.529661665659409,
          1.5856244651478772,
          0.7918491496421337,
          4.697297963343024,
          0.46878813633204786,
          4.8089029255276765,
          2.232614434714346,
          4.5763492936111225,
          1.7301705893910384,
          1.197413289683798,
          2.827627863202432,
          2.567382396452411,
          4.87804644110492,
          0.7586250651987936,
          2.698467759140607,
          3.977200610826407,
          4.737588172495407,
          1.6068719495968402,
          2.3597084172247818,
          1.772804341101346,
          3.1023771547040218,
          3.3719261503064644,
          3.3179767402089495,
          2.7840385965294097,
          3.7731510554366516,
          4.456676019493434,
          2.836716038350364,
          2.174396760865824,
          4.377940476930916,
          0.9945133042468723,
          0.007192834018941996,
          0.4920179590896895,
          1.6780022112933857,
          0.46205610542227216,
          2.9344807195874365,
          3.8090550568073214,
          1.028358671596773,
          1.0238916660014596,
          3.957873599466754,
          2.694395544979926,
          1.1293397296973033,
          4.945026874866444,
          2.906839028124868,
          3.1629413659719012,
          3.3482171770350004,
          1.6413484444355897,
          0.6198171489255416,
          1.7019045490779583,
          3.76414793702676,
          1.5989508398991559,
          4.993763919512374,
          0.30675082810342147,
          4.437231998935646,
          3.011801453236402,
          0.6387303524613158,
          3.703275241079801,
          3.334989762051375,
          0.3067439439223463,
          0.323499825333019,
          2.226430222604738,
          2.983323270954137,
          4.120841306380689,
          4.693198894223945,
          2.981152363682276,
          2.058110600845185,
          4.329383933595273,
          1.5375703620409442,
          3.1949563746328424,
          4.796040938740163,
          4.65672949943545,
          0.784407782403943,
          1.335882886538362,
          0.6127390216173262,
          2.582128449683063,
          0.11567898821482014,
          4.455445044849464,
          3.618178169571409,
          1.3154209983544503,
          2.916594674805885,
          2.8136654739984084,
          0.15128392693103343,
          0.620146514361431,
          1.5193614375633375,
          0.03715004761361662,
          0.15801244422820937,
          4.642271541284073,
          0.09214116102585879,
          4.702655398347933,
          3.231592861148331,
          3.1942350676408813,
          1.031091768901381,
          3.1258864055388687,
          2.2366675370722584,
          1.4473779644544404,
          2.224830588576723,
          4.062247579242571,
          0.06617626285189082,
          0.3433599018020489,
          4.513648109770584,
          0.2295226339155093,
          4.48781954300793,
          4.314976372409985,
          3.2235903477083654,
          4.861897527670067,
          1.530797526457,
          2.5242431637315947,
          0.4412115007453704,
          4.434895814277081,
          0.31431172749499414,
          2.2608724519352243,
          2.6188013434284936,
          4.178930144842408,
          4.654365221276142,
          1.2697927330659609,
          0.5421072217962852,
          3.3595428922403037,
          3.724974687770116,
          2.839206723789948,
          0.28233706478177745,
          4.8378287251000325,
          2.284246423682191,
          3.970269821788903,
          1.9580492336187838,
          1.0136545112946909,
          4.603449170145001,
          1.1422520172999513,
          0.009792690281621441,
          4.334558253414916,
          4.495487813024092,
          1.9480401879823068
         ],
         "z": [
          -9.899136310131798,
          10.399561549252775,
          -0.9880246760752194,
          -4.348449489575804,
          -3.734188384855835,
          -1.1447804980533398,
          8.262657581769854,
          2.7373989906909415,
          -3.042370675348859,
          0.42579638367552747,
          2.908327554938081,
          -7.626894246146021,
          -0.560838024806057,
          6.198072382789418,
          -5.398201201349485,
          0.12964026886868302,
          2.146269462809412,
          -2.960713570447681,
          -4.685922231343998,
          -2.00804703773866,
          0.8707342198902934,
          -2.5297550768227506,
          -1.2896138537994215,
          0.635714321245638,
          3.7885322143959534,
          1.77245110495802,
          5.5095246637655935,
          1.5840476622262913,
          8.8977847226691,
          2.2777435934596544,
          1.8922174349458407,
          2.3263383293142583,
          10.206845750987611,
          5.119218984581138,
          -0.4405157626350453,
          -2.8695920535252752,
          10.098325412396559,
          -7.274817049626002,
          5.673850523953894,
          3.281087128199771,
          -1.7005724324607219,
          5.957418494156263,
          3.5338354294313277,
          9.014352768322363,
          2.38197831614789,
          3.711240751624203,
          -8.948644298916278,
          1.8097746810008153,
          1.18336584322023,
          -6.611481835580172,
          2.2599903216539095,
          0.4781090060038567,
          5.567955869489338,
          6.589419535100036,
          3.0547088289853788,
          13.233364317564224,
          -3.910713118024029,
          2.9544611109240217,
          -1.0815423398149182,
          1.3866155118133208,
          0.11443025691597995,
          10.892597904469454,
          5.247506897588284,
          0.878359328266736,
          0.2686799808149446,
          8.929898784161383,
          6.983641959689551,
          -3.387879326868284,
          -4.614551532845152,
          9.408737515320308,
          -7.184492141123121,
          -4.380766168077065,
          -1.5383641786083917,
          4.572446123414254,
          1.7340204767414618,
          12.524494549685757,
          3.0871007464129634,
          9.151607972069609,
          2.3064028864308317,
          1.3664400870918174,
          -6.014852345940154,
          -2.9091571075993383,
          13.13717662635105,
          -0.1585783011292251,
          -8.315920668468205,
          8.178947352572358,
          12.594936975073807,
          2.105256516369624,
          1.702564628008412,
          2.1314401774651897,
          3.774358130582593,
          5.766433834771346,
          -1.2767688563022859,
          2.4209242025666597,
          -2.6189500964837458,
          10.192984049591068,
          3.707569847877285,
          2.9136755674734536,
          0.855622888638856,
          -4.067548287859909,
          1.5069280875203066,
          1.6840722100646803,
          -7.629990754518602,
          1.9154617965808596,
          -0.8992902946512726,
          2.0660551111207686,
          2.1554210773510905,
          -4.50370320540865,
          6.561004332893199,
          1.4032011986554964,
          1.0245199382636385,
          13.426165208061075,
          -3.4086800679765368,
          -4.664336948226539,
          4.864975168851845,
          -5.609305667374918,
          1.6244811836303723,
          -0.1737019579152122,
          0.24023699343036653,
          -9.89175276722167,
          8.00326598918358,
          -5.439054277010054,
          10.647467035611061,
          4.2044706354263015,
          1.4403247996326651,
          1.6218315500466025,
          4.746246636220673,
          -6.517182468135117,
          0.6654958157959838,
          2.9126337579160606,
          4.202923771169192,
          6.334137393102761,
          5.20298433021834,
          -2.9251373904729343,
          -4.169693060950799,
          9.71447423833215,
          2.300035925534253,
          1.5884635080094267,
          13.184945903905433,
          3.232059390867867,
          -10.025142207025988,
          -10.116913900991548,
          1.8615023665295392,
          2.542040857020603,
          -5.418564264356935,
          -0.8432592783903474,
          -0.6561597572181551,
          -7.504993363870532,
          3.346866019161981,
          -3.5556464245647033,
          -0.8939723566051161,
          2.1748972215396454,
          -4.493426555529131,
          -6.141306595293864,
          -4.027344832347164,
          -0.3972440805358995,
          -1.3933286075377296,
          5.406898108953426,
          4.092279710428247,
          -2.7782008048446265,
          -3.3807128720867143,
          -0.8809877592500096,
          1.871607989102055,
          2.452829492039723,
          -8.061741763767634,
          8.260381087943863,
          0.2766310999494583,
          1.7200453793956398,
          10.436451020637728,
          1.9234432699380304,
          10.955927048552956,
          8.564594226618254,
          4.477353506989933,
          11.634246031302146,
          -2.0336653273060916,
          -4.543547448140473,
          -1.4295869464681439,
          2.8400591886862108,
          0.7812798545379375,
          -5.328641831155785,
          -5.758871487753631,
          4.00144100341308,
          9.192838518213538,
          -8.39744034444007,
          2.022567529912538,
          5.332214063351257,
          -4.678637440179461,
          4.061548155975591,
          -4.51382664355464,
          2.2675972734302214,
          2.50684661816161,
          7.034746600743376,
          -1.0528176519288726,
          -2.6871264194066575,
          11.306046004080963,
          -5.4586918130996285,
          0.38812353428170715,
          8.031614314493453,
          10.869233701002354,
          2.681025632921278
         ]
        }
       ],
       "layout": {
        "legend": {
         "bgcolor": "#F5F6F9",
         "font": {
          "color": "#4D5663"
         }
        },
        "paper_bgcolor": "#F5F6F9",
        "plot_bgcolor": "#F5F6F9",
        "scene": {
         "xaxis": {
          "gridcolor": "#9499A3",
          "showgrid": true,
          "tickfont": {
           "color": "#4D5663"
          },
          "title": {
           "font": {
            "color": "#4D5663"
           },
           "text": ""
          },
          "zerolinecolor": "#9499A3"
         },
         "yaxis": {
          "gridcolor": "#9499A3",
          "showgrid": true,
          "tickfont": {
           "color": "#4D5663"
          },
          "title": {
           "font": {
            "color": "#4D5663"
           },
           "text": ""
          },
          "zerolinecolor": "#9499A3"
         },
         "zaxis": {
          "gridcolor": "#9499A3",
          "showgrid": true,
          "tickfont": {
           "color": "#4D5663"
          },
          "title": {
           "font": {
            "color": "#4D5663"
           },
           "text": ""
          },
          "zerolinecolor": "#9499A3"
         }
        },
        "template": {
         "data": {
          "bar": [
           {
            "error_x": {
             "color": "#2a3f5f"
            },
            "error_y": {
             "color": "#2a3f5f"
            },
            "marker": {
             "line": {
              "color": "#E5ECF6",
              "width": 0.5
             },
             "pattern": {
              "fillmode": "overlay",
              "size": 10,
              "solidity": 0.2
             }
            },
            "type": "bar"
           }
          ],
          "barpolar": [
           {
            "marker": {
             "line": {
              "color": "#E5ECF6",
              "width": 0.5
             },
             "pattern": {
              "fillmode": "overlay",
              "size": 10,
              "solidity": 0.2
             }
            },
            "type": "barpolar"
           }
          ],
          "carpet": [
           {
            "aaxis": {
             "endlinecolor": "#2a3f5f",
             "gridcolor": "white",
             "linecolor": "white",
             "minorgridcolor": "white",
             "startlinecolor": "#2a3f5f"
            },
            "baxis": {
             "endlinecolor": "#2a3f5f",
             "gridcolor": "white",
             "linecolor": "white",
             "minorgridcolor": "white",
             "startlinecolor": "#2a3f5f"
            },
            "type": "carpet"
           }
          ],
          "choropleth": [
           {
            "colorbar": {
             "outlinewidth": 0,
             "ticks": ""
            },
            "type": "choropleth"
           }
          ],
          "contour": [
           {
            "colorbar": {
             "outlinewidth": 0,
             "ticks": ""
            },
            "colorscale": [
             [
              0,
              "#0d0887"
             ],
             [
              0.1111111111111111,
              "#46039f"
             ],
             [
              0.2222222222222222,
              "#7201a8"
             ],
             [
              0.3333333333333333,
              "#9c179e"
             ],
             [
              0.4444444444444444,
              "#bd3786"
             ],
             [
              0.5555555555555556,
              "#d8576b"
             ],
             [
              0.6666666666666666,
              "#ed7953"
             ],
             [
              0.7777777777777778,
              "#fb9f3a"
             ],
             [
              0.8888888888888888,
              "#fdca26"
             ],
             [
              1,
              "#f0f921"
             ]
            ],
            "type": "contour"
           }
          ],
          "contourcarpet": [
           {
            "colorbar": {
             "outlinewidth": 0,
             "ticks": ""
            },
            "type": "contourcarpet"
           }
          ],
          "heatmap": [
           {
            "colorbar": {
             "outlinewidth": 0,
             "ticks": ""
            },
            "colorscale": [
             [
              0,
              "#0d0887"
             ],
             [
              0.1111111111111111,
              "#46039f"
             ],
             [
              0.2222222222222222,
              "#7201a8"
             ],
             [
              0.3333333333333333,
              "#9c179e"
             ],
             [
              0.4444444444444444,
              "#bd3786"
             ],
             [
              0.5555555555555556,
              "#d8576b"
             ],
             [
              0.6666666666666666,
              "#ed7953"
             ],
             [
              0.7777777777777778,
              "#fb9f3a"
             ],
             [
              0.8888888888888888,
              "#fdca26"
             ],
             [
              1,
              "#f0f921"
             ]
            ],
            "type": "heatmap"
           }
          ],
          "heatmapgl": [
           {
            "colorbar": {
             "outlinewidth": 0,
             "ticks": ""
            },
            "colorscale": [
             [
              0,
              "#0d0887"
             ],
             [
              0.1111111111111111,
              "#46039f"
             ],
             [
              0.2222222222222222,
              "#7201a8"
             ],
             [
              0.3333333333333333,
              "#9c179e"
             ],
             [
              0.4444444444444444,
              "#bd3786"
             ],
             [
              0.5555555555555556,
              "#d8576b"
             ],
             [
              0.6666666666666666,
              "#ed7953"
             ],
             [
              0.7777777777777778,
              "#fb9f3a"
             ],
             [
              0.8888888888888888,
              "#fdca26"
             ],
             [
              1,
              "#f0f921"
             ]
            ],
            "type": "heatmapgl"
           }
          ],
          "histogram": [
           {
            "marker": {
             "pattern": {
              "fillmode": "overlay",
              "size": 10,
              "solidity": 0.2
             }
            },
            "type": "histogram"
           }
          ],
          "histogram2d": [
           {
            "colorbar": {
             "outlinewidth": 0,
             "ticks": ""
            },
            "colorscale": [
             [
              0,
              "#0d0887"
             ],
             [
              0.1111111111111111,
              "#46039f"
             ],
             [
              0.2222222222222222,
              "#7201a8"
             ],
             [
              0.3333333333333333,
              "#9c179e"
             ],
             [
              0.4444444444444444,
              "#bd3786"
             ],
             [
              0.5555555555555556,
              "#d8576b"
             ],
             [
              0.6666666666666666,
              "#ed7953"
             ],
             [
              0.7777777777777778,
              "#fb9f3a"
             ],
             [
              0.8888888888888888,
              "#fdca26"
             ],
             [
              1,
              "#f0f921"
             ]
            ],
            "type": "histogram2d"
           }
          ],
          "histogram2dcontour": [
           {
            "colorbar": {
             "outlinewidth": 0,
             "ticks": ""
            },
            "colorscale": [
             [
              0,
              "#0d0887"
             ],
             [
              0.1111111111111111,
              "#46039f"
             ],
             [
              0.2222222222222222,
              "#7201a8"
             ],
             [
              0.3333333333333333,
              "#9c179e"
             ],
             [
              0.4444444444444444,
              "#bd3786"
             ],
             [
              0.5555555555555556,
              "#d8576b"
             ],
             [
              0.6666666666666666,
              "#ed7953"
             ],
             [
              0.7777777777777778,
              "#fb9f3a"
             ],
             [
              0.8888888888888888,
              "#fdca26"
             ],
             [
              1,
              "#f0f921"
             ]
            ],
            "type": "histogram2dcontour"
           }
          ],
          "mesh3d": [
           {
            "colorbar": {
             "outlinewidth": 0,
             "ticks": ""
            },
            "type": "mesh3d"
           }
          ],
          "parcoords": [
           {
            "line": {
             "colorbar": {
              "outlinewidth": 0,
              "ticks": ""
             }
            },
            "type": "parcoords"
           }
          ],
          "pie": [
           {
            "automargin": true,
            "type": "pie"
           }
          ],
          "scatter": [
           {
            "fillpattern": {
             "fillmode": "overlay",
             "size": 10,
             "solidity": 0.2
            },
            "type": "scatter"
           }
          ],
          "scatter3d": [
           {
            "line": {
             "colorbar": {
              "outlinewidth": 0,
              "ticks": ""
             }
            },
            "marker": {
             "colorbar": {
              "outlinewidth": 0,
              "ticks": ""
             }
            },
            "type": "scatter3d"
           }
          ],
          "scattercarpet": [
           {
            "marker": {
             "colorbar": {
              "outlinewidth": 0,
              "ticks": ""
             }
            },
            "type": "scattercarpet"
           }
          ],
          "scattergeo": [
           {
            "marker": {
             "colorbar": {
              "outlinewidth": 0,
              "ticks": ""
             }
            },
            "type": "scattergeo"
           }
          ],
          "scattergl": [
           {
            "marker": {
             "colorbar": {
              "outlinewidth": 0,
              "ticks": ""
             }
            },
            "type": "scattergl"
           }
          ],
          "scattermapbox": [
           {
            "marker": {
             "colorbar": {
              "outlinewidth": 0,
              "ticks": ""
             }
            },
            "type": "scattermapbox"
           }
          ],
          "scatterpolar": [
           {
            "marker": {
             "colorbar": {
              "outlinewidth": 0,
              "ticks": ""
             }
            },
            "type": "scatterpolar"
           }
          ],
          "scatterpolargl": [
           {
            "marker": {
             "colorbar": {
              "outlinewidth": 0,
              "ticks": ""
             }
            },
            "type": "scatterpolargl"
           }
          ],
          "scatterternary": [
           {
            "marker": {
             "colorbar": {
              "outlinewidth": 0,
              "ticks": ""
             }
            },
            "type": "scatterternary"
           }
          ],
          "surface": [
           {
            "colorbar": {
             "outlinewidth": 0,
             "ticks": ""
            },
            "colorscale": [
             [
              0,
              "#0d0887"
             ],
             [
              0.1111111111111111,
              "#46039f"
             ],
             [
              0.2222222222222222,
              "#7201a8"
             ],
             [
              0.3333333333333333,
              "#9c179e"
             ],
             [
              0.4444444444444444,
              "#bd3786"
             ],
             [
              0.5555555555555556,
              "#d8576b"
             ],
             [
              0.6666666666666666,
              "#ed7953"
             ],
             [
              0.7777777777777778,
              "#fb9f3a"
             ],
             [
              0.8888888888888888,
              "#fdca26"
             ],
             [
              1,
              "#f0f921"
             ]
            ],
            "type": "surface"
           }
          ],
          "table": [
           {
            "cells": {
             "fill": {
              "color": "#EBF0F8"
             },
             "line": {
              "color": "white"
             }
            },
            "header": {
             "fill": {
              "color": "#C8D4E3"
             },
             "line": {
              "color": "white"
             }
            },
            "type": "table"
           }
          ]
         },
         "layout": {
          "annotationdefaults": {
           "arrowcolor": "#2a3f5f",
           "arrowhead": 0,
           "arrowwidth": 1
          },
          "autotypenumbers": "strict",
          "coloraxis": {
           "colorbar": {
            "outlinewidth": 0,
            "ticks": ""
           }
          },
          "colorscale": {
           "diverging": [
            [
             0,
             "#8e0152"
            ],
            [
             0.1,
             "#c51b7d"
            ],
            [
             0.2,
             "#de77ae"
            ],
            [
             0.3,
             "#f1b6da"
            ],
            [
             0.4,
             "#fde0ef"
            ],
            [
             0.5,
             "#f7f7f7"
            ],
            [
             0.6,
             "#e6f5d0"
            ],
            [
             0.7,
             "#b8e186"
            ],
            [
             0.8,
             "#7fbc41"
            ],
            [
             0.9,
             "#4d9221"
            ],
            [
             1,
             "#276419"
            ]
           ],
           "sequential": [
            [
             0,
             "#0d0887"
            ],
            [
             0.1111111111111111,
             "#46039f"
            ],
            [
             0.2222222222222222,
             "#7201a8"
            ],
            [
             0.3333333333333333,
             "#9c179e"
            ],
            [
             0.4444444444444444,
             "#bd3786"
            ],
            [
             0.5555555555555556,
             "#d8576b"
            ],
            [
             0.6666666666666666,
             "#ed7953"
            ],
            [
             0.7777777777777778,
             "#fb9f3a"
            ],
            [
             0.8888888888888888,
             "#fdca26"
            ],
            [
             1,
             "#f0f921"
            ]
           ],
           "sequentialminus": [
            [
             0,
             "#0d0887"
            ],
            [
             0.1111111111111111,
             "#46039f"
            ],
            [
             0.2222222222222222,
             "#7201a8"
            ],
            [
             0.3333333333333333,
             "#9c179e"
            ],
            [
             0.4444444444444444,
             "#bd3786"
            ],
            [
             0.5555555555555556,
             "#d8576b"
            ],
            [
             0.6666666666666666,
             "#ed7953"
            ],
            [
             0.7777777777777778,
             "#fb9f3a"
            ],
            [
             0.8888888888888888,
             "#fdca26"
            ],
            [
             1,
             "#f0f921"
            ]
           ]
          },
          "colorway": [
           "#636efa",
           "#EF553B",
           "#00cc96",
           "#ab63fa",
           "#FFA15A",
           "#19d3f3",
           "#FF6692",
           "#B6E880",
           "#FF97FF",
           "#FECB52"
          ],
          "font": {
           "color": "#2a3f5f"
          },
          "geo": {
           "bgcolor": "white",
           "lakecolor": "white",
           "landcolor": "#E5ECF6",
           "showlakes": true,
           "showland": true,
           "subunitcolor": "white"
          },
          "hoverlabel": {
           "align": "left"
          },
          "hovermode": "closest",
          "mapbox": {
           "style": "light"
          },
          "paper_bgcolor": "white",
          "plot_bgcolor": "#E5ECF6",
          "polar": {
           "angularaxis": {
            "gridcolor": "white",
            "linecolor": "white",
            "ticks": ""
           },
           "bgcolor": "#E5ECF6",
           "radialaxis": {
            "gridcolor": "white",
            "linecolor": "white",
            "ticks": ""
           }
          },
          "scene": {
           "xaxis": {
            "backgroundcolor": "#E5ECF6",
            "gridcolor": "white",
            "gridwidth": 2,
            "linecolor": "white",
            "showbackground": true,
            "ticks": "",
            "zerolinecolor": "white"
           },
           "yaxis": {
            "backgroundcolor": "#E5ECF6",
            "gridcolor": "white",
            "gridwidth": 2,
            "linecolor": "white",
            "showbackground": true,
            "ticks": "",
            "zerolinecolor": "white"
           },
           "zaxis": {
            "backgroundcolor": "#E5ECF6",
            "gridcolor": "white",
            "gridwidth": 2,
            "linecolor": "white",
            "showbackground": true,
            "ticks": "",
            "zerolinecolor": "white"
           }
          },
          "shapedefaults": {
           "line": {
            "color": "#2a3f5f"
           }
          },
          "ternary": {
           "aaxis": {
            "gridcolor": "white",
            "linecolor": "white",
            "ticks": ""
           },
           "baxis": {
            "gridcolor": "white",
            "linecolor": "white",
            "ticks": ""
           },
           "bgcolor": "#E5ECF6",
           "caxis": {
            "gridcolor": "white",
            "linecolor": "white",
            "ticks": ""
           }
          },
          "title": {
           "x": 0.05
          },
          "xaxis": {
           "automargin": true,
           "gridcolor": "white",
           "linecolor": "white",
           "ticks": "",
           "title": {
            "standoff": 15
           },
           "zerolinecolor": "white",
           "zerolinewidth": 2
          },
          "yaxis": {
           "automargin": true,
           "gridcolor": "white",
           "linecolor": "white",
           "ticks": "",
           "title": {
            "standoff": 15
           },
           "zerolinecolor": "white",
           "zerolinewidth": 2
          }
         }
        },
        "title": {
         "font": {
          "color": "#4D5663"
         }
        }
       }
      }
     },
     "metadata": {},
     "output_type": "display_data"
    }
   ],
   "source": [
    "df = pd.DataFrame({'x1': x1, 'x2': x2, 'y': y, 'text': '', 'categories': ''})\n",
    "df.iplot(kind='scatter3d', x='x1', y='x2', z='y', text='text', categories='categories', size=4)"
   ]
  },
  {
   "cell_type": "markdown",
   "metadata": {},
   "source": []
  }
 ],
 "metadata": {
  "kernelspec": {
   "display_name": "base",
   "language": "python",
   "name": "python3"
  },
  "language_info": {
   "codemirror_mode": {
    "name": "ipython",
    "version": 3
   },
   "file_extension": ".py",
   "mimetype": "text/x-python",
   "name": "python",
   "nbconvert_exporter": "python",
   "pygments_lexer": "ipython3",
   "version": "3.10.14"
  }
 },
 "nbformat": 4,
 "nbformat_minor": 2
}
