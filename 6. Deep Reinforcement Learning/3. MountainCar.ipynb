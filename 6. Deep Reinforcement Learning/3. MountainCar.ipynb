{
 "cells": [
  {
   "cell_type": "markdown",
   "metadata": {},
   "source": [
    "# MountainCar\n"
   ]
  },
  {
   "cell_type": "code",
   "execution_count": 1,
   "metadata": {},
   "outputs": [
    {
     "name": "stderr",
     "output_type": "stream",
     "text": [
      "2024-05-30 11:49:19.864017: I tensorflow/core/platform/cpu_feature_guard.cc:193] This TensorFlow binary is optimized with oneAPI Deep Neural Network Library (oneDNN) to use the following CPU instructions in performance-critical operations:  SSE4.1 SSE4.2\n",
      "To enable them in other operations, rebuild TensorFlow with the appropriate compiler flags.\n"
     ]
    }
   ],
   "source": [
    "import gym\n",
    "import random\n",
    "import numpy as np\n",
    "import pandas as pd\n",
    "from pylab import plt\n",
    "from IPython import display\n",
    "plt.style.use('seaborn-v0_8')\n",
    "np.random.seed(100)\n",
    "import warnings; warnings.simplefilter('ignore')\n",
    "\n",
    "import tensorflow.compat.v1 as tf\n",
    "from keras. layers import Dense\n",
    "from keras.models import Sequential\n",
    "from keras.optimizers import Adam\n",
    "from sklearn.metrics import accuracy_score\n",
    "tf.random.set_random_seed(100)\n",
    "tf.logging.set_verbosity(tf.logging.ERROR)"
   ]
  },
  {
   "cell_type": "markdown",
   "metadata": {},
   "source": [
    "# Environment"
   ]
  },
  {
   "cell_type": "code",
   "execution_count": 2,
   "metadata": {},
   "outputs": [],
   "source": [
    "env = gym.make('MountainCar-v0', render_mode='rgb_array')"
   ]
  },
  {
   "cell_type": "markdown",
   "metadata": {},
   "source": [
    "# Action Space"
   ]
  },
  {
   "cell_type": "code",
   "execution_count": 3,
   "metadata": {},
   "outputs": [
    {
     "data": {
      "text/plain": [
       "Discrete(3)"
      ]
     },
     "execution_count": 3,
     "metadata": {},
     "output_type": "execute_result"
    }
   ],
   "source": [
    "# Type of action space\n",
    "env.action_space\n",
    "\n",
    "# From github.com/openai/gym/wiki/MountainCar-vO, we see that\n",
    "# 0 = push left, 1 = no push, 2 = push right"
   ]
  },
  {
   "cell_type": "code",
   "execution_count": 4,
   "metadata": {},
   "outputs": [
    {
     "data": {
      "text/plain": [
       "3"
      ]
     },
     "execution_count": 4,
     "metadata": {},
     "output_type": "execute_result"
    }
   ],
   "source": [
    "# Number of discrete actions\n",
    "env.action_space.n"
   ]
  },
  {
   "cell_type": "code",
   "execution_count": 5,
   "metadata": {},
   "outputs": [
    {
     "data": {
      "text/plain": [
       "[1, 0, 1, 1, 1, 0, 0, 2, 1, 1]"
      ]
     },
     "execution_count": 5,
     "metadata": {},
     "output_type": "execute_result"
    }
   ],
   "source": [
    "# Sample actions\n",
    "[env.action_space.sample() for _ in range(10)]"
   ]
  },
  {
   "cell_type": "markdown",
   "metadata": {},
   "source": [
    "# Observation Space"
   ]
  },
  {
   "cell_type": "code",
   "execution_count": 6,
   "metadata": {},
   "outputs": [
    {
     "data": {
      "text/plain": [
       "Box([-1.2  -0.07], [0.6  0.07], (2,), float32)"
      ]
     },
     "execution_count": 6,
     "metadata": {},
     "output_type": "execute_result"
    }
   ],
   "source": [
    "env.observation_space"
   ]
  },
  {
   "cell_type": "code",
   "execution_count": 7,
   "metadata": {},
   "outputs": [
    {
     "data": {
      "text/plain": [
       "array([0.6 , 0.07], dtype=float32)"
      ]
     },
     "execution_count": 7,
     "metadata": {},
     "output_type": "execute_result"
    }
   ],
   "source": [
    "env.observation_space.high"
   ]
  },
  {
   "cell_type": "code",
   "execution_count": 8,
   "metadata": {},
   "outputs": [
    {
     "data": {
      "text/plain": [
       "array([-1.2 , -0.07], dtype=float32)"
      ]
     },
     "execution_count": 8,
     "metadata": {},
     "output_type": "execute_result"
    }
   ],
   "source": [
    "env.observation_space.low"
   ]
  },
  {
   "cell_type": "code",
   "execution_count": 9,
   "metadata": {},
   "outputs": [
    {
     "data": {
      "text/plain": [
       "(array([-0.4023542,  0.       ], dtype=float32), {})"
      ]
     },
     "execution_count": 9,
     "metadata": {},
     "output_type": "execute_result"
    }
   ],
   "source": [
    "env.reset()\n",
    "# [position, velocity]"
   ]
  },
  {
   "cell_type": "markdown",
   "metadata": {},
   "source": [
    "# Visualisation"
   ]
  },
  {
   "cell_type": "markdown",
   "metadata": {},
   "source": [
    "# Demonstrating that a simple strategy of a constant action choice does not solve the problem\n",
    "\n",
    "The obvious/naive thing to do is to simply try to drive the car to the right. However, in doing so we find that the car cannot generate enough momentum to overcome the downward gravitational force."
   ]
  },
  {
   "cell_type": "code",
   "execution_count": 10,
   "metadata": {},
   "outputs": [
    {
     "data": {
      "image/png": "[encoded data removed]",
      "text/plain": [
       "<Figure size 800x550 with 1 Axes>"
      ]
     },
     "metadata": {},
     "output_type": "display_data"
    }
   ],
   "source": [
    "env.reset ()\n",
    "img = plt.imshow(env.render()) # initialize bitmap embedding\n",
    "for e in range (151):\n",
    "  img.set_data(env.render()) # updating the data\n",
    "  display.display(plt.gcf())\n",
    "  display.clear_output(wait=True)\n",
    "  a = env.action_space.sample() # random action choice\n",
    "  a = 2 # constant action choice\n",
    "  obs, rew, done, _, _ = env.step(a) # taking action\n",
    "  if done and (e + 1) < 200:\n",
    "    print('*** FAILED ***')\n",
    "    break"
   ]
  },
  {
   "cell_type": "markdown",
   "metadata": {},
   "source": [
    "# Setting Seeds"
   ]
  },
  {
   "cell_type": "code",
   "execution_count": 11,
   "metadata": {},
   "outputs": [],
   "source": [
    "def set_seeds(seed=100):\n",
    "    random.seed(seed)\n",
    "    np.random.seed(seed)\n",
    "    tf.random.set_random_seed(seed)\n",
    "    # env.seed(seed)\n",
    "\n",
    "set_seeds()"
   ]
  },
  {
   "cell_type": "markdown",
   "metadata": {},
   "source": [
    "# Q Learning\n",
    "\n",
    "Notice that the `DQNAgent` class is largely the same as for the CartPole example, except in the learn method, in which a more specific reward scheme is designed. "
   ]
  },
  {
   "cell_type": "code",
   "execution_count": 12,
   "metadata": {},
   "outputs": [
    {
     "name": "stderr",
     "output_type": "stream",
     "text": [
      "2024-05-30 11:49:51.253685: I tensorflow/core/platform/cpu_feature_guard.cc:193] This TensorFlow binary is optimized with oneAPI Deep Neural Network Library (oneDNN) to use the following CPU instructions in performance-critical operations:  SSE4.1 SSE4.2\n",
      "To enable them in other operations, rebuild TensorFlow with the appropriate compiler flags.\n"
     ]
    }
   ],
   "source": [
    "from collections import deque\n",
    "\n",
    "class DQNAgent:\n",
    "  def __init__(self):\n",
    "    self.epsilon = 1.0\n",
    "    self.epsilon_min = 0.01\n",
    "    self.epsilon_decay = 0.995\n",
    "    self.gamma = 0.95\n",
    "    self.batch_size = 128\n",
    "    self.max_treward = -1e6\n",
    "    self.averages = list()\n",
    "    self.memory = deque(maxlen=2000)\n",
    "    self.osn = env.observation_space.shape[0]\n",
    "    self.model = self.create_model()\n",
    "\n",
    "  def create_model(self):\n",
    "    model = Sequential()\n",
    "    model.add(Dense(128, input_dim=self.osn, activation='relu'))\n",
    "    model.add(Dense(128, activation='relu'))\n",
    "    model.add(Dense(env.action_space.n, activation='linear'))\n",
    "    model.compile(loss='mse', optimizer=Adam(learning_rate=0.001))\n",
    "    return model\n",
    "\n",
    "  def act(self, state):\n",
    "    if np.random.rand() <= self.epsilon:\n",
    "      return env.action_space.sample()\n",
    "    action = self.model.predict(state, verbose=0)\n",
    "    return np.argmax(action)\n",
    "  \n",
    "  def replay(self):\n",
    "    batch = random.sample(self.memory, self.batch_size)\n",
    "    for state, action, reward, next_state, done in batch:\n",
    "      # Reward design\n",
    "      position = state[0,0]\n",
    "      reward_ = position + 0.5\n",
    "      if position >= self.max_position:\n",
    "        self.max_position = position\n",
    "        reward_ += 1 # Reward the agent for achieving a new max position\n",
    "        if self.max_position > self.max_pos:\n",
    "          self.max_pos = self.max_position\n",
    "      if position > 0.5:\n",
    "        reward_ += 100\n",
    "      # Q-learning\n",
    "      if not done:\n",
    "        reward_ += self.gamma * np.amax(self.model.predict(next_state, verbose=0)[0])\n",
    "      target = self.model.predict(state, verbose=0)\n",
    "      target[0, action] = reward_\n",
    "      self.model.fit(state, target, epochs=1, verbose=False)\n",
    "    if self.epsilon > self.epsilon_min:\n",
    "      self.epsilon *= self.epsilon_decay\n",
    "\n",
    "  def learn(self, episodes):\n",
    "    trewards = []\n",
    "    self.positions = []\n",
    "    self.max_pos = -0.4\n",
    "    for e in range(1,episodes+1):\n",
    "      print(f\"{e=}\")\n",
    "      state = env.reset()[0]\n",
    "      state = np.reshape(state, [1, self.osn])\n",
    "      treward = 0\n",
    "      self.max_position = -0.4\n",
    "      episode_max_position = -1\n",
    "      for time in range(5000):\n",
    "        action = self.act(state)\n",
    "        next_state, reward, done, truncated, info = env.step(action)\n",
    "        next_state = np.reshape(next_state, [1, self.osn])\n",
    "        self.memory.append((state, action, reward, next_state, done))\n",
    "        state = next_state\n",
    "        treward += float(reward)\n",
    "        position = state[0,0]\n",
    "        # print(f\"{done=}\")\n",
    "        episode_max_position = max(episode_max_position, position)\n",
    "        if done or truncated or position >= 0.5:\n",
    "          trewards.append(treward)\n",
    "          self.positions.append(episode_max_position)\n",
    "          av = sum(trewards[:25]) / 25 # Work out a Rolling average\n",
    "          self.averages.append(av)\n",
    "          self.max_treward = max(self.max_treward, treward)\n",
    "          print('Episode: {}/{},\\ttreward: {},\\tav: {:.2},\\tmax_r: {:2},\\tmax_p: {},\\tepisode_max_position: {},\\tfinal pos: {}'.format(e,\n",
    "                episodes, treward, av, self.max_treward, self.max_pos, episode_max_position, position))\n",
    "          break\n",
    "      if len(self.memory) > self.batch_size:\n",
    "        self.replay()\n",
    "      if position >= 0.5:\n",
    "        break\n",
    "\n",
    "  def test(self, episodes=100):\n",
    "    rewards = []\n",
    "    positions = []\n",
    "    for e in range(1, episodes+1):\n",
    "      print(f\"{e=}\")\n",
    "      state = env.reset()[0]\n",
    "      treward = 0\n",
    "      for time in range(5000):\n",
    "        state = np.reshape(state, [1, self.osn])\n",
    "        action = np.argmax(self.model.predict(state, verbose=0)[0])\n",
    "        next_state, reward, done, truncated, info = env.step(action)\n",
    "        state = next_state\n",
    "        treward += reward\n",
    "        if done or truncated or state[0] >= 0.5:\n",
    "          rewards.append(treward)\n",
    "          positions.append(state[0])\n",
    "          print('Episode: {}/{}, treward: {}, position: {}'.format(e, episodes, treward, state[0]))\n",
    "          break\n",
    "    return rewards, positions\n",
    "\n",
    "agent = DQNAgent()"
   ]
  },
  {
   "cell_type": "code",
   "execution_count": 23,
   "metadata": {},
   "outputs": [
    {
     "name": "stdout",
     "output_type": "stream",
     "text": [
      "e=1\n",
      "Episode: 1/750,\ttreward: -200.0,\tav: -8.0,\tmax_r: -168.0,\tmax_p: -0.4,\tepisode_max_position: -0.391474187374115,\tfinal pos: -0.4675922691822052\n",
      "e=2\n",
      "Episode: 2/750,\ttreward: -200.0,\tav: -1.6e+01,\tmax_r: -168.0,\tmax_p: 0.4300285577774048,\tepisode_max_position: -0.2305690497159958,\tfinal pos: -0.3899901509284973\n",
      "e=3\n",
      "Episode: 3/750,\ttreward: -200.0,\tav: -2.4e+01,\tmax_r: -168.0,\tmax_p: 0.4300285577774048,\tepisode_max_position: 0.03554599732160568,\tfinal pos: 0.03554599732160568\n",
      "e=4\n",
      "Episode: 4/750,\ttreward: -200.0,\tav: -3.2e+01,\tmax_r: -168.0,\tmax_p: 0.4300285577774048,\tepisode_max_position: -0.3652149736881256,\tfinal pos: -0.396371454000473\n",
      "e=5\n",
      "Episode: 5/750,\ttreward: -200.0,\tav: -4e+01,\tmax_r: -168.0,\tmax_p: 0.4300285577774048,\tepisode_max_position: -0.3051062226295471,\tfinal pos: -0.4426531493663788\n",
      "e=6\n",
      "Episode: 6/750,\ttreward: -200.0,\tav: -4.8e+01,\tmax_r: -168.0,\tmax_p: 0.4300285577774048,\tepisode_max_position: -0.24662984907627106,\tfinal pos: -0.29513001441955566\n",
      "e=7\n",
      "Episode: 7/750,\ttreward: -200.0,\tav: -5.6e+01,\tmax_r: -168.0,\tmax_p: 0.4775097966194153,\tepisode_max_position: -0.3630925416946411,\tfinal pos: -0.44999608397483826\n",
      "e=8\n",
      "Episode: 8/750,\ttreward: -200.0,\tav: -6.4e+01,\tmax_r: -168.0,\tmax_p: 0.4775097966194153,\tepisode_max_position: -0.26337745785713196,\tfinal pos: -0.4624861478805542\n",
      "e=9\n",
      "Episode: 9/750,\ttreward: -200.0,\tav: -7.2e+01,\tmax_r: -168.0,\tmax_p: 0.4775097966194153,\tepisode_max_position: -0.33981141448020935,\tfinal pos: -0.3743225336074829\n",
      "e=10\n",
      "Episode: 10/750,\ttreward: -200.0,\tav: -8e+01,\tmax_r: -168.0,\tmax_p: 0.4775097966194153,\tepisode_max_position: 0.2627740800380707,\tfinal pos: -0.1549689769744873\n",
      "e=11\n",
      "Episode: 11/750,\ttreward: -200.0,\tav: -8.8e+01,\tmax_r: -168.0,\tmax_p: 0.4775097966194153,\tepisode_max_position: -0.03379971534013748,\tfinal pos: -1.0419985055923462\n",
      "e=12\n",
      "Episode: 12/750,\ttreward: -200.0,\tav: -9.6e+01,\tmax_r: -168.0,\tmax_p: 0.4775097966194153,\tepisode_max_position: -0.3742722272872925,\tfinal pos: -0.40647879242897034\n",
      "e=13\n",
      "Episode: 13/750,\ttreward: -200.0,\tav: -1e+02,\tmax_r: -168.0,\tmax_p: 0.4775097966194153,\tepisode_max_position: -0.20600764453411102,\tfinal pos: -0.28450533747673035\n",
      "e=14\n",
      "Episode: 14/750,\ttreward: -200.0,\tav: -1.1e+02,\tmax_r: -168.0,\tmax_p: 0.4775097966194153,\tepisode_max_position: -0.12868644297122955,\tfinal pos: -0.8933891654014587\n",
      "e=15\n",
      "Episode: 15/750,\ttreward: -200.0,\tav: -1.2e+02,\tmax_r: -168.0,\tmax_p: 0.4775097966194153,\tepisode_max_position: -0.17093078792095184,\tfinal pos: -0.32317396998405457\n",
      "e=16\n",
      "Episode: 16/750,\ttreward: -200.0,\tav: -1.3e+02,\tmax_r: -168.0,\tmax_p: 0.4775097966194153,\tepisode_max_position: -0.37428298592567444,\tfinal pos: -0.44868481159210205\n",
      "e=17\n",
      "Episode: 17/750,\ttreward: -200.0,\tav: -1.4e+02,\tmax_r: -168.0,\tmax_p: 0.4775097966194153,\tepisode_max_position: -0.3271304666996002,\tfinal pos: -0.49894022941589355\n",
      "e=18\n",
      "Episode: 18/750,\ttreward: -200.0,\tav: -1.4e+02,\tmax_r: -168.0,\tmax_p: 0.4775097966194153,\tepisode_max_position: -0.19578269124031067,\tfinal pos: -0.2056276798248291\n",
      "e=19\n",
      "Episode: 19/750,\ttreward: -200.0,\tav: -1.5e+02,\tmax_r: -168.0,\tmax_p: 0.4775097966194153,\tepisode_max_position: -0.4416023790836334,\tfinal pos: -0.5818537473678589\n",
      "e=20\n",
      "Episode: 20/750,\ttreward: -158.0,\tav: -1.6e+02,\tmax_r: -158.0,\tmax_p: 0.4775097966194153,\tepisode_max_position: 0.5195741653442383,\tfinal pos: 0.5195741653442383\n",
      "CPU times: user 8min 20s, sys: 42.8 s, total: 9min 3s\n",
      "Wall time: 8min 17s\n"
     ]
    }
   ],
   "source": [
    "%time agent.learn(750)"
   ]
  },
  {
   "cell_type": "markdown",
   "metadata": {},
   "source": [
    "The training finished when the cart reached a position of > 0.5 distance units. A plot of final position vs. training episode is shown below."
   ]
  },
  {
   "cell_type": "code",
   "execution_count": 24,
   "metadata": {},
   "outputs": [
    {
     "data": {
      "text/plain": [
       "<matplotlib.legend.Legend at 0x7fcecf4e60e0>"
      ]
     },
     "execution_count": 24,
     "metadata": {},
     "output_type": "execute_result"
    },
    {
     "data": {
      "image/png": "[encoded data removed]",
      "text/plain": [
       "<Figure size 1000x600 with 1 Axes>"
      ]
     },
     "metadata": {},
     "output_type": "display_data"
    }
   ],
   "source": [
    "plt.figure(figsize=(10, 6))\n",
    "x = range(len(agent.positions))\n",
    "y = np.polyval(np.polyfit(x, agent.positions, deg=3), x)\n",
    "plt.plot(agent.positions, label='episode max position')\n",
    "plt.plot(x, y, 'r-', label='regression')\n",
    "plt.xlabel('episodes')\n",
    "plt.ylabel('position value')\n",
    "plt.legend()"
   ]
  },
  {
   "cell_type": "markdown",
   "metadata": {},
   "source": [
    "Based on the plot we can get a sense of whether the agent has reliably/incrementally \"learned\"/improved it's performance, or if it simply completed the task as a fluke."
   ]
  },
  {
   "cell_type": "markdown",
   "metadata": {},
   "source": [
    "# Testing the Agent\n",
    "\n",
    "We test the agent to test if it has really \"learned\" the strategy to overcome the mountain, or rather managed to reach the finishing line by \"chance\"."
   ]
  },
  {
   "cell_type": "code",
   "execution_count": 25,
   "metadata": {},
   "outputs": [
    {
     "name": "stdout",
     "output_type": "stream",
     "text": [
      "e=1\n"
     ]
    },
    {
     "name": "stdout",
     "output_type": "stream",
     "text": [
      "Episode: 1/100, treward: -200.0, position: -0.19572222232818604\n",
      "e=2\n",
      "Episode: 2/100, treward: -200.0, position: -0.3300510346889496\n",
      "e=3\n",
      "Episode: 3/100, treward: -200.0, position: -0.3258844316005707\n",
      "e=4\n",
      "Episode: 4/100, treward: -200.0, position: -0.32002267241477966\n",
      "e=5\n",
      "Episode: 5/100, treward: -200.0, position: -0.2693047821521759\n",
      "e=6\n",
      "Episode: 6/100, treward: -200.0, position: -0.377731591463089\n",
      "e=7\n",
      "Episode: 7/100, treward: -200.0, position: -0.37567034363746643\n",
      "e=8\n",
      "Episode: 8/100, treward: -200.0, position: -0.33263835310935974\n",
      "e=9\n",
      "Episode: 9/100, treward: -200.0, position: -0.3264734148979187\n",
      "e=10\n",
      "Episode: 10/100, treward: -200.0, position: -0.3331364095211029\n",
      "e=11\n",
      "Episode: 11/100, treward: -200.0, position: -0.27061694860458374\n",
      "e=12\n",
      "Episode: 12/100, treward: -200.0, position: -0.19906777143478394\n",
      "e=13\n",
      "Episode: 13/100, treward: -200.0, position: -0.33867430686950684\n",
      "e=14\n",
      "Episode: 14/100, treward: -200.0, position: -0.30204886198043823\n",
      "e=15\n",
      "Episode: 15/100, treward: -200.0, position: -0.2501320540904999\n",
      "e=16\n",
      "Episode: 16/100, treward: -200.0, position: -0.2934778034687042\n",
      "e=17\n",
      "Episode: 17/100, treward: -200.0, position: -0.363707572221756\n",
      "e=18\n",
      "Episode: 18/100, treward: -200.0, position: -0.3696516752243042\n",
      "e=19\n",
      "Episode: 19/100, treward: -200.0, position: -0.2627159655094147\n",
      "e=20\n",
      "Episode: 20/100, treward: -200.0, position: -0.31152990460395813\n",
      "e=21\n",
      "Episode: 21/100, treward: -200.0, position: -0.25326529145240784\n",
      "e=22\n",
      "Episode: 22/100, treward: -200.0, position: -0.3160001337528229\n",
      "e=23\n",
      "Episode: 23/100, treward: -200.0, position: -0.2575286030769348\n",
      "e=24\n",
      "Episode: 24/100, treward: -200.0, position: -0.2712889611721039\n",
      "e=25\n",
      "Episode: 25/100, treward: -200.0, position: -0.3638145625591278\n",
      "e=26\n",
      "Episode: 26/100, treward: -200.0, position: -0.22674453258514404\n",
      "e=27\n",
      "Episode: 27/100, treward: -200.0, position: -0.3214832544326782\n",
      "e=28\n",
      "Episode: 28/100, treward: -200.0, position: -0.18313981592655182\n",
      "e=29\n",
      "Episode: 29/100, treward: -200.0, position: -0.3557523488998413\n",
      "e=30\n",
      "Episode: 30/100, treward: -200.0, position: -0.3490220904350281\n",
      "e=31\n",
      "Episode: 31/100, treward: -200.0, position: -0.23028644919395447\n",
      "e=32\n",
      "Episode: 32/100, treward: -200.0, position: -0.36192718148231506\n",
      "e=33\n",
      "Episode: 33/100, treward: -200.0, position: -0.1751149445772171\n",
      "e=34\n",
      "Episode: 34/100, treward: -200.0, position: -0.25705525279045105\n",
      "e=35\n",
      "Episode: 35/100, treward: -200.0, position: -0.2037365734577179\n",
      "e=36\n",
      "Episode: 36/100, treward: -200.0, position: -0.28541067242622375\n",
      "e=37\n",
      "Episode: 37/100, treward: -200.0, position: -0.3504134714603424\n",
      "e=38\n",
      "Episode: 38/100, treward: -200.0, position: -0.22775864601135254\n",
      "e=39\n",
      "Episode: 39/100, treward: -200.0, position: -0.17304472625255585\n",
      "e=40\n",
      "Episode: 40/100, treward: -200.0, position: -0.27448245882987976\n",
      "e=41\n",
      "Episode: 41/100, treward: -200.0, position: -0.21830803155899048\n",
      "e=42\n",
      "Episode: 42/100, treward: -200.0, position: -0.18525667488574982\n",
      "e=43\n",
      "Episode: 43/100, treward: -200.0, position: -0.3132737874984741\n",
      "e=44\n",
      "Episode: 44/100, treward: -200.0, position: -0.24698558449745178\n",
      "e=45\n",
      "Episode: 45/100, treward: -200.0, position: -0.330290824174881\n",
      "e=46\n",
      "Episode: 46/100, treward: -200.0, position: -0.21860617399215698\n",
      "e=47\n",
      "Episode: 47/100, treward: -200.0, position: -0.37070465087890625\n",
      "e=48\n",
      "Episode: 48/100, treward: -200.0, position: -0.26459696888923645\n",
      "e=49\n",
      "Episode: 49/100, treward: -200.0, position: -0.18987345695495605\n",
      "e=50\n",
      "Episode: 50/100, treward: -200.0, position: -0.32258179783821106\n",
      "e=51\n",
      "Episode: 51/100, treward: -200.0, position: -0.36874738335609436\n",
      "e=52\n",
      "Episode: 52/100, treward: -200.0, position: -0.2830831706523895\n",
      "e=53\n",
      "Episode: 53/100, treward: -200.0, position: -0.37231990694999695\n",
      "e=54\n",
      "Episode: 54/100, treward: -200.0, position: -0.2965764105319977\n",
      "e=55\n",
      "Episode: 55/100, treward: -200.0, position: -0.27949050068855286\n",
      "e=56\n",
      "Episode: 56/100, treward: -200.0, position: -0.32092833518981934\n",
      "e=57\n",
      "Episode: 57/100, treward: -200.0, position: -0.37746670842170715\n",
      "e=58\n",
      "Episode: 58/100, treward: -200.0, position: -0.371590793132782\n",
      "e=59\n",
      "Episode: 59/100, treward: -200.0, position: -0.2876514792442322\n",
      "e=60\n",
      "Episode: 60/100, treward: -200.0, position: -0.3444913625717163\n",
      "e=61\n",
      "Episode: 61/100, treward: -200.0, position: -0.2960353493690491\n",
      "e=62\n",
      "Episode: 62/100, treward: -200.0, position: -0.3028838038444519\n",
      "e=63\n",
      "Episode: 63/100, treward: -200.0, position: -0.3488229215145111\n",
      "e=64\n",
      "Episode: 64/100, treward: -200.0, position: -0.27694472670555115\n",
      "e=65\n",
      "Episode: 65/100, treward: -200.0, position: -0.34079012274742126\n",
      "e=66\n",
      "Episode: 66/100, treward: -200.0, position: -0.3369651734828949\n",
      "e=67\n",
      "Episode: 67/100, treward: -200.0, position: -0.3693917989730835\n",
      "e=68\n",
      "Episode: 68/100, treward: -200.0, position: -0.19281667470932007\n",
      "e=69\n",
      "Episode: 69/100, treward: -200.0, position: -0.33990395069122314\n",
      "e=70\n",
      "Episode: 70/100, treward: -200.0, position: -0.36878281831741333\n",
      "e=71\n",
      "Episode: 71/100, treward: -200.0, position: -0.3740299642086029\n",
      "e=72\n",
      "Episode: 72/100, treward: -200.0, position: -0.16122977435588837\n",
      "e=73\n",
      "Episode: 73/100, treward: -200.0, position: -0.36014649271965027\n",
      "e=74\n",
      "Episode: 74/100, treward: -200.0, position: -0.37571585178375244\n",
      "e=75\n",
      "Episode: 75/100, treward: -200.0, position: -0.3726571202278137\n",
      "e=76\n",
      "Episode: 76/100, treward: -200.0, position: -0.20327216386795044\n",
      "e=77\n",
      "Episode: 77/100, treward: -200.0, position: -0.3746291697025299\n",
      "e=78\n",
      "Episode: 78/100, treward: -200.0, position: -0.36376848816871643\n",
      "e=79\n",
      "Episode: 79/100, treward: -200.0, position: -0.3542643189430237\n",
      "e=80\n",
      "Episode: 80/100, treward: -200.0, position: -0.29217302799224854\n",
      "e=81\n",
      "Episode: 81/100, treward: -200.0, position: -0.2282613217830658\n",
      "e=82\n",
      "Episode: 82/100, treward: -200.0, position: -0.35124433040618896\n",
      "e=83\n",
      "Episode: 83/100, treward: -200.0, position: -0.36826953291893005\n",
      "e=84\n",
      "Episode: 84/100, treward: -200.0, position: -0.23792630434036255\n",
      "e=85\n",
      "Episode: 85/100, treward: -200.0, position: -0.3048960864543915\n",
      "e=86\n",
      "Episode: 86/100, treward: -200.0, position: -0.2836407423019409\n",
      "e=87\n",
      "Episode: 87/100, treward: -200.0, position: -0.36925506591796875\n",
      "e=88\n",
      "Episode: 88/100, treward: -200.0, position: -0.16940145194530487\n",
      "e=89\n",
      "Episode: 89/100, treward: -200.0, position: -0.3403894007205963\n",
      "e=90\n",
      "Episode: 90/100, treward: -200.0, position: -0.3198321759700775\n",
      "e=91\n",
      "Episode: 91/100, treward: -200.0, position: -0.1655549257993698\n",
      "e=92\n",
      "Episode: 92/100, treward: -200.0, position: -0.338301420211792\n",
      "e=93\n",
      "Episode: 93/100, treward: -200.0, position: -0.16163665056228638\n",
      "e=94\n",
      "Episode: 94/100, treward: -200.0, position: -0.3445262312889099\n",
      "e=95\n",
      "Episode: 95/100, treward: -200.0, position: -0.29936349391937256\n",
      "e=96\n",
      "Episode: 96/100, treward: -200.0, position: -0.3690038323402405\n",
      "e=97\n",
      "Episode: 97/100, treward: -200.0, position: -0.177488774061203\n",
      "e=98\n",
      "Episode: 98/100, treward: -200.0, position: -0.35699623823165894\n",
      "e=99\n",
      "Episode: 99/100, treward: -200.0, position: -0.17768056690692902\n",
      "e=100\n",
      "Episode: 100/100, treward: -200.0, position: -0.2592097222805023\n"
     ]
    }
   ],
   "source": [
    "trewards, tpositions = agent.test(100)"
   ]
  },
  {
   "cell_type": "code",
   "execution_count": 26,
   "metadata": {},
   "outputs": [
    {
     "data": {
      "image/png": "[encoded data removed]",
      "text/plain": [
       "<Figure size 800x550 with 1 Axes>"
      ]
     },
     "metadata": {},
     "output_type": "display_data"
    }
   ],
   "source": [
    "state = env.reset(seed=0)[0]\n",
    "img = plt.imshow(env.render()) # initialize bitmap embedding\n",
    "for e in range (201):\n",
    "  img.set_data(env.render())  # updating the data\n",
    "  display.display(plt.gcf())\n",
    "  display.clear_output(wait=True)\n",
    "  state = np.reshape(state, [1, agent.osn] )\n",
    "  a = np.argmax(agent.model.predict(state, verbose=0))  # learned action\n",
    "  state, reward, done, truncate, info = env.step(a)\n",
    "  if done and (e + 1) < 200:\n",
    "    print(f'*** SUCCESS {e} ***')\n",
    "    break\n",
    "  elif done:\n",
    "    print('*** FAILED ***')\n",
    "    break"
   ]
  }
 ],
 "metadata": {
  "kernelspec": {
   "display_name": "qfc",
   "language": "python",
   "name": "python3"
  },
  "language_info": {
   "codemirror_mode": {
    "name": "ipython",
    "version": 3
   },
   "file_extension": ".py",
   "mimetype": "text/x-python",
   "name": "python",
   "nbconvert_exporter": "python",
   "pygments_lexer": "ipython3",
   "version": "3.10.12"
  }
 },
 "nbformat": 4,
 "nbformat_minor": 2
}
