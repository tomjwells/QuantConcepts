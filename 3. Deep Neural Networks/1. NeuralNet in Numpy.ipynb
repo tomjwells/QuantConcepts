{
 "cells": [
  {
   "cell_type": "markdown",
   "metadata": {},
   "source": [
    "Notation:\n",
    "  - l0: Layer 0, the input layer\n",
    "  - l2: Layer 2, the output layer\n",
    "  - w: weights\n",
    "  - y: labels"
   ]
  },
  {
   "cell_type": "code",
   "execution_count": 2,
   "metadata": {},
   "outputs": [
    {
     "data": {
      "text/plain": [
       "array([[0.14468221, 0.49004246],\n",
       "       [0.59446274, 0.68555971],\n",
       "       [0.08517819, 0.41659876],\n",
       "       [0.25141303, 0.49884628],\n",
       "       [0.24700191, 0.23413613]])"
      ]
     },
     "execution_count": 2,
     "metadata": {},
     "output_type": "execute_result"
    }
   ],
   "source": [
    "import numpy as np\n",
    "\n",
    "features = 2\n",
    "samples = 5\n",
    "\n",
    "l0 = np.random.random((samples, features))\n",
    "l0 "
   ]
  },
  {
   "cell_type": "code",
   "execution_count": 3,
   "metadata": {},
   "outputs": [
    {
     "data": {
      "text/plain": [
       "array([[0.90657377],\n",
       "       [0.45484765]])"
      ]
     },
     "execution_count": 3,
     "metadata": {},
     "output_type": "execute_result"
    }
   ],
   "source": [
    "w = np.random.random((features, 1))\n",
    "w"
   ]
  },
  {
   "cell_type": "code",
   "execution_count": 4,
   "metadata": {},
   "outputs": [
    {
     "data": {
      "text/plain": [
       "array([[0.35405976],\n",
       "       [0.85074955],\n",
       "       [0.26670928],\n",
       "       [0.45482352],\n",
       "       [0.33042172]])"
      ]
     },
     "execution_count": 4,
     "metadata": {},
     "output_type": "execute_result"
    }
   ],
   "source": [
    "l2 = np.dot(l0, w)\n",
    "l2"
   ]
  },
  {
   "cell_type": "code",
   "execution_count": 5,
   "metadata": {},
   "outputs": [
    {
     "data": {
      "text/plain": [
       "array([[0.56238357],\n",
       "       [0.98279108],\n",
       "       [0.45918785],\n",
       "       [0.6245528 ],\n",
       "       [0.35763708]])"
      ]
     },
     "execution_count": 5,
     "metadata": {},
     "output_type": "execute_result"
    }
   ],
   "source": [
    "y = l0[:, 0] * 0.5 + l0[:, 1]\n",
    "y = y.reshape(-1, 1)\n",
    "y"
   ]
  },
  {
   "cell_type": "markdown",
   "metadata": {},
   "source": [
    "Now we compute the errors, defined as the difference between the output layer and the labels"
   ]
  },
  {
   "cell_type": "code",
   "execution_count": 6,
   "metadata": {},
   "outputs": [
    {
     "data": {
      "text/plain": [
       "array([[-0.20832381],\n",
       "       [-0.13204153],\n",
       "       [-0.19247858],\n",
       "       [-0.16972928],\n",
       "       [-0.02721536]])"
      ]
     },
     "execution_count": 6,
     "metadata": {},
     "output_type": "execute_result"
    }
   ],
   "source": [
    "e = l2 - y\n",
    "e"
   ]
  },
  {
   "cell_type": "markdown",
   "metadata": {},
   "source": [
    "For the loss function, we use the mean-squared error."
   ]
  },
  {
   "cell_type": "code",
   "execution_count": 7,
   "metadata": {},
   "outputs": [
    {
     "data": {
      "text/plain": [
       "0.025486096792676594"
      ]
     },
     "execution_count": 7,
     "metadata": {},
     "output_type": "execute_result"
    }
   ],
   "source": [
    "mse = (e ** 2).mean()\n",
    "mse"
   ]
  },
  {
   "cell_type": "markdown",
   "metadata": {},
   "source": [
    "Now, we'll implement backpropagation for our simple NN."
   ]
  },
  {
   "cell_type": "code",
   "execution_count": 8,
   "metadata": {},
   "outputs": [
    {
     "data": {
      "text/plain": [
       "array([[-0.07375908],\n",
       "       [-0.11233427],\n",
       "       [-0.05133582],\n",
       "       [-0.07719687],\n",
       "       [-0.00899255]])"
      ]
     },
     "execution_count": 8,
     "metadata": {},
     "output_type": "execute_result"
    }
   ],
   "source": [
    "d = e * l2\n",
    "d"
   ]
  },
  {
   "cell_type": "code",
   "execution_count": 21,
   "metadata": {},
   "outputs": [],
   "source": [
    "a = 0.01 # Learning rate"
   ]
  },
  {
   "cell_type": "code",
   "execution_count": 22,
   "metadata": {},
   "outputs": [
    {
     "data": {
      "text/plain": [
       "array([[inf],\n",
       "       [inf],\n",
       "       [inf],\n",
       "       [inf],\n",
       "       [inf]])"
      ]
     },
     "execution_count": 22,
     "metadata": {},
     "output_type": "execute_result"
    }
   ],
   "source": [
    "u = a * np.dot(l0.T, d)\n",
    "u"
   ]
  },
  {
   "cell_type": "code",
   "execution_count": 23,
   "metadata": {},
   "outputs": [],
   "source": [
    "w -= u"
   ]
  },
  {
   "cell_type": "code",
   "execution_count": 24,
   "metadata": {},
   "outputs": [],
   "source": [
    "l2 = np.dot(l0, w)"
   ]
  },
  {
   "cell_type": "markdown",
   "metadata": {},
   "source": [
    "Now we repeat the evaluation of the mean-squared error to demonstrate that the error rate is decreasing and our weights are \"learning\". "
   ]
  },
  {
   "cell_type": "code",
   "execution_count": 25,
   "metadata": {},
   "outputs": [
    {
     "name": "stderr",
     "output_type": "stream",
     "text": [
      "/var/folders/8x/br7f10td3n9_hhc6wr64_vgh0000gp/T/ipykernel_41270/2503628778.py:4: RuntimeWarning: invalid value encountered in scalar subtract\n",
      "  mse_2 - mse\n"
     ]
    },
    {
     "data": {
      "text/plain": [
       "nan"
      ]
     },
     "execution_count": 25,
     "metadata": {},
     "output_type": "execute_result"
    }
   ],
   "source": [
    "e = l2 - y\n",
    "e\n",
    "mse_2 = (e ** 2).mean()\n",
    "mse_2 - mse "
   ]
  },
  {
   "cell_type": "markdown",
   "metadata": {},
   "source": [
    "To finish the learing process, let us iterate the procedure 1,000 times "
   ]
  },
  {
   "cell_type": "code",
   "execution_count": 26,
   "metadata": {},
   "outputs": [
    {
     "name": "stdout",
     "output_type": "stream",
     "text": [
      "step=  20 | mse= 0.351280\n",
      "step=  40 | mse= 0.133443\n",
      "step=  60 | mse= 0.067998\n",
      "step=  80 | mse= 0.040519\n",
      "step= 100 | mse= 0.026707\n",
      "step= 120 | mse= 0.018930\n",
      "step= 140 | mse= 0.014198\n",
      "step= 160 | mse= 0.011149\n",
      "step= 180 | mse= 0.009097\n",
      "step= 200 | mse= 0.007669\n",
      "step= 220 | mse= 0.006648\n",
      "step= 240 | mse= 0.005900\n",
      "step= 260 | mse= 0.005343\n",
      "step= 280 | mse= 0.004920\n",
      "step= 300 | mse= 0.004595\n",
      "step= 320 | mse= 0.004343\n",
      "step= 340 | mse= 0.004144\n",
      "step= 360 | mse= 0.003986\n",
      "step= 380 | mse= 0.003859\n",
      "step= 400 | mse= 0.003757\n",
      "step= 420 | mse= 0.003673\n",
      "step= 440 | mse= 0.003604\n",
      "step= 460 | mse= 0.003548\n",
      "step= 480 | mse= 0.003500\n",
      "step= 500 | mse= 0.003460\n",
      "step= 520 | mse= 0.003426\n",
      "step= 540 | mse= 0.003397\n",
      "step= 560 | mse= 0.003371\n",
      "step= 580 | mse= 0.003349\n",
      "step= 600 | mse= 0.003330\n",
      "step= 620 | mse= 0.003313\n",
      "step= 640 | mse= 0.003297\n",
      "step= 660 | mse= 0.003283\n",
      "step= 680 | mse= 0.003270\n",
      "step= 700 | mse= 0.003258\n",
      "step= 720 | mse= 0.003247\n",
      "step= 740 | mse= 0.003237\n",
      "step= 760 | mse= 0.003227\n",
      "step= 780 | mse= 0.003218\n",
      "step= 800 | mse= 0.003208\n",
      "step= 820 | mse= 0.003200\n",
      "step= 840 | mse= 0.003191\n",
      "step= 860 | mse= 0.003183\n",
      "step= 880 | mse= 0.003175\n",
      "step= 900 | mse= 0.003167\n",
      "step= 920 | mse= 0.003159\n",
      "step= 940 | mse= 0.003151\n",
      "step= 960 | mse= 0.003143\n",
      "step= 980 | mse= 0.003136\n",
      "step=1000 | mse= 0.003128\n"
     ]
    }
   ],
   "source": [
    "steps = int(1e3)\n",
    "\n",
    "w = np.random.random((features, 1))\n",
    "w # weights\n",
    "\n",
    "for s in range(1, steps + 1) :\n",
    "  l2 = np.dot(l0, w)\n",
    "  e = l2 - y\n",
    "  d = e * l2\n",
    "  w -= a * np.dot(l0.T, d)\n",
    "  if s % 20 == 0:\n",
    "    mse = (e ** 2).mean()\n",
    "    print (f'step={s:4d} | mse={mse: 4f}')"
   ]
  },
  {
   "cell_type": "markdown",
   "metadata": {},
   "source": [
    "Below we introduce an activation function."
   ]
  },
  {
   "cell_type": "code",
   "execution_count": 27,
   "metadata": {},
   "outputs": [
    {
     "data": {
      "image/png": "[encoded data removed]",
      "text/plain": [
       "<Figure size 1000x600 with 1 Axes>"
      ]
     },
     "metadata": {},
     "output_type": "display_data"
    }
   ],
   "source": [
    "import matplotlib.pyplot as plt\n",
    "\n",
    "def sigmoid(x, deriv=False):\n",
    "  if deriv:\n",
    "    return sigmoid(x) * (1 - sigmoid(x))\n",
    "  return 1 / (1 + np. exp (-x) )\n",
    "\n",
    "\n",
    "x = np. linspace(-5, 5, 100)\n",
    "\n",
    "plt.figure(figsize=(10, 6))\n",
    "plt.plot(x, np. where(x > 0, 1, 0), 'y--', label='step function')\n",
    "plt.plot(x, sigmoid(x), 'r', label='sigmoid')\n",
    "plt.plot(x, sigmoid(x, True), '--', label='derivative')\n",
    "plt.legend () ;"
   ]
  },
  {
   "cell_type": "markdown",
   "metadata": {},
   "source": [
    "# One Hidden Layer\n",
    "\n",
    "Let us now try a similar method/algorithm, except using one hidden layer of perceptrons."
   ]
  },
  {
   "cell_type": "code",
   "execution_count": 29,
   "metadata": {},
   "outputs": [],
   "source": [
    "features = 5\n",
    "samples = 4\n",
    "units = 5 # Number of hidden layer units\n",
    "\n",
    "np.random.seed(200)\n",
    "l0 = np.random.random((samples, features))\n",
    "w0 = np.random.random((features, units))\n",
    "w1 = np.random.random((units, 1)) * 0.15\n",
    "y = np.random.random((samples, 1)) * 0.15\n",
    "\n",
    "a = 0.01\n",
    "steps = int(40e3)"
   ]
  },
  {
   "cell_type": "code",
   "execution_count": 30,
   "metadata": {},
   "outputs": [
    {
     "name": "stdout",
     "output_type": "stream",
     "text": [
      "step= 2000 mse= 0.00007\n",
      "step= 4000 mse= 0.00000\n",
      "step= 6000 mse= 0.00000\n",
      "step= 8000 mse= 0.00000\n",
      "step=10000 mse= 0.00000\n",
      "step=12000 mse= 0.00000\n",
      "step=14000 mse= 0.00000\n",
      "step=16000 mse= 0.00000\n",
      "step=18000 mse= 0.00000\n",
      "step=20000 mse= 0.00000\n",
      "step=22000 mse= 0.00000\n",
      "step=24000 mse= 0.00000\n",
      "step=26000 mse= 0.00000\n",
      "step=28000 mse= 0.00000\n",
      "step=30000 mse= 0.00000\n",
      "step=32000 mse= 0.00000\n",
      "step=34000 mse= 0.00000\n",
      "step=36000 mse= 0.00000\n",
      "step=38000 mse= 0.00000\n",
      "step=40000 mse= 0.00000\n"
     ]
    }
   ],
   "source": [
    "for s in range(1, steps + 1):\n",
    "  l1 = np.dot(l0, w0) # Hidden layer\n",
    "  l2 = np.dot(l1, w1)\n",
    "  # Step 1. Update w1 based on the error of the output layer\n",
    "  e2 = l2 - y\n",
    "  d2 = e2 #* l2\n",
    "  u2 = a * np.dot(l1.T, d2)\n",
    "  w1 -= u2\n",
    "  # Step 2. Update w0 based on the error of the hidden layer\n",
    "  e1 = np.dot(d2, w1.T)\n",
    "  d1 = e1 #* l1\n",
    "  u1 = a * np.dot(l0.T, d1)\n",
    "  w0 -= u1\n",
    "  if s % 2000 == 0:\n",
    "    mse = (e2 ** 2).mean()\n",
    "    print(f'step={s:5d} mse={mse: .5f}')"
   ]
  },
  {
   "cell_type": "markdown",
   "metadata": {},
   "source": [
    "Check the predictions from `l2`"
   ]
  },
  {
   "cell_type": "code",
   "execution_count": 31,
   "metadata": {},
   "outputs": [
    {
     "data": {
      "text/plain": [
       "(array([[0.13259547],\n",
       "        [0.14809478],\n",
       "        [0.00240954],\n",
       "        [0.03067498]]),\n",
       " array([[0.13259547],\n",
       "        [0.14809478],\n",
       "        [0.00240954],\n",
       "        [0.03067498]]))"
      ]
     },
     "execution_count": 31,
     "metadata": {},
     "output_type": "execute_result"
    }
   ],
   "source": [
    "l2, y"
   ]
  },
  {
   "cell_type": "code",
   "execution_count": 35,
   "metadata": {},
   "outputs": [
    {
     "data": {
      "text/plain": [
       "(array([[-0.],\n",
       "        [ 0.],\n",
       "        [ 0.],\n",
       "        [-0.]]),\n",
       " array([[ True],\n",
       "        [ True],\n",
       "        [ True],\n",
       "        [ True]]))"
      ]
     },
     "execution_count": 35,
     "metadata": {},
     "output_type": "execute_result"
    }
   ],
   "source": [
    "(l2 - y).round(4), (l2 - y).round(4) == 0"
   ]
  },
  {
   "cell_type": "markdown",
   "metadata": {},
   "source": [
    "# Using the scikit-learn MLPClassifier\n",
    "\n",
    "[Multi-layer Perceptron Classifier docs](https://scikit-learn.org/stable/modules/generated/sklearn.neural_network.MLPClassifier.html)"
   ]
  },
  {
   "cell_type": "markdown",
   "metadata": {},
   "source": []
  },
  {
   "cell_type": "code",
   "execution_count": 46,
   "metadata": {},
   "outputs": [
    {
     "data": {
      "text/html": [
       "<style>#sk-container-id-2 {\n",
       "  /* Definition of color scheme common for light and dark mode */\n",
       "  --sklearn-color-text: black;\n",
       "  --sklearn-color-line: gray;\n",
       "  /* Definition of color scheme for unfitted estimators */\n",
       "  --sklearn-color-unfitted-level-0: #fff5e6;\n",
       "  --sklearn-color-unfitted-level-1: #f6e4d2;\n",
       "  --sklearn-color-unfitted-level-2: #ffe0b3;\n",
       "  --sklearn-color-unfitted-level-3: chocolate;\n",
       "  /* Definition of color scheme for fitted estimators */\n",
       "  --sklearn-color-fitted-level-0: #f0f8ff;\n",
       "  --sklearn-color-fitted-level-1: #d4ebff;\n",
       "  --sklearn-color-fitted-level-2: #b3dbfd;\n",
       "  --sklearn-color-fitted-level-3: cornflowerblue;\n",
       "\n",
       "  /* Specific color for light theme */\n",
       "  --sklearn-color-text-on-default-background: var(--sg-text-color, var(--theme-code-foreground, var(--jp-content-font-color1, black)));\n",
       "  --sklearn-color-background: var(--sg-background-color, var(--theme-background, var(--jp-layout-color0, white)));\n",
       "  --sklearn-color-border-box: var(--sg-text-color, var(--theme-code-foreground, var(--jp-content-font-color1, black)));\n",
       "  --sklearn-color-icon: #696969;\n",
       "\n",
       "  @media (prefers-color-scheme: dark) {\n",
       "    /* Redefinition of color scheme for dark theme */\n",
       "    --sklearn-color-text-on-default-background: var(--sg-text-color, var(--theme-code-foreground, var(--jp-content-font-color1, white)));\n",
       "    --sklearn-color-background: var(--sg-background-color, var(--theme-background, var(--jp-layout-color0, #111)));\n",
       "    --sklearn-color-border-box: var(--sg-text-color, var(--theme-code-foreground, var(--jp-content-font-color1, white)));\n",
       "    --sklearn-color-icon: #878787;\n",
       "  }\n",
       "}\n",
       "\n",
       "#sk-container-id-2 {\n",
       "  color: var(--sklearn-color-text);\n",
       "}\n",
       "\n",
       "#sk-container-id-2 pre {\n",
       "  padding: 0;\n",
       "}\n",
       "\n",
       "#sk-container-id-2 input.sk-hidden--visually {\n",
       "  border: 0;\n",
       "  clip: rect(1px 1px 1px 1px);\n",
       "  clip: rect(1px, 1px, 1px, 1px);\n",
       "  height: 1px;\n",
       "  margin: -1px;\n",
       "  overflow: hidden;\n",
       "  padding: 0;\n",
       "  position: absolute;\n",
       "  width: 1px;\n",
       "}\n",
       "\n",
       "#sk-container-id-2 div.sk-dashed-wrapped {\n",
       "  border: 1px dashed var(--sklearn-color-line);\n",
       "  margin: 0 0.4em 0.5em 0.4em;\n",
       "  box-sizing: border-box;\n",
       "  padding-bottom: 0.4em;\n",
       "  background-color: var(--sklearn-color-background);\n",
       "}\n",
       "\n",
       "#sk-container-id-2 div.sk-container {\n",
       "  /* jupyter's `normalize.less` sets `[hidden] { display: none; }`\n",
       "     but bootstrap.min.css set `[hidden] { display: none !important; }`\n",
       "     so we also need the `!important` here to be able to override the\n",
       "     default hidden behavior on the sphinx rendered scikit-learn.org.\n",
       "     See: https://github.com/scikit-learn/scikit-learn/issues/21755 */\n",
       "  display: inline-block !important;\n",
       "  position: relative;\n",
       "}\n",
       "\n",
       "#sk-container-id-2 div.sk-text-repr-fallback {\n",
       "  display: none;\n",
       "}\n",
       "\n",
       "div.sk-parallel-item,\n",
       "div.sk-serial,\n",
       "div.sk-item {\n",
       "  /* draw centered vertical line to link estimators */\n",
       "  background-image: linear-gradient(var(--sklearn-color-text-on-default-background), var(--sklearn-color-text-on-default-background));\n",
       "  background-size: 2px 100%;\n",
       "  background-repeat: no-repeat;\n",
       "  background-position: center center;\n",
       "}\n",
       "\n",
       "/* Parallel-specific style estimator block */\n",
       "\n",
       "#sk-container-id-2 div.sk-parallel-item::after {\n",
       "  content: \"\";\n",
       "  width: 100%;\n",
       "  border-bottom: 2px solid var(--sklearn-color-text-on-default-background);\n",
       "  flex-grow: 1;\n",
       "}\n",
       "\n",
       "#sk-container-id-2 div.sk-parallel {\n",
       "  display: flex;\n",
       "  align-items: stretch;\n",
       "  justify-content: center;\n",
       "  background-color: var(--sklearn-color-background);\n",
       "  position: relative;\n",
       "}\n",
       "\n",
       "#sk-container-id-2 div.sk-parallel-item {\n",
       "  display: flex;\n",
       "  flex-direction: column;\n",
       "}\n",
       "\n",
       "#sk-container-id-2 div.sk-parallel-item:first-child::after {\n",
       "  align-self: flex-end;\n",
       "  width: 50%;\n",
       "}\n",
       "\n",
       "#sk-container-id-2 div.sk-parallel-item:last-child::after {\n",
       "  align-self: flex-start;\n",
       "  width: 50%;\n",
       "}\n",
       "\n",
       "#sk-container-id-2 div.sk-parallel-item:only-child::after {\n",
       "  width: 0;\n",
       "}\n",
       "\n",
       "/* Serial-specific style estimator block */\n",
       "\n",
       "#sk-container-id-2 div.sk-serial {\n",
       "  display: flex;\n",
       "  flex-direction: column;\n",
       "  align-items: center;\n",
       "  background-color: var(--sklearn-color-background);\n",
       "  padding-right: 1em;\n",
       "  padding-left: 1em;\n",
       "}\n",
       "\n",
       "\n",
       "/* Toggleable style: style used for estimator/Pipeline/ColumnTransformer box that is\n",
       "clickable and can be expanded/collapsed.\n",
       "- Pipeline and ColumnTransformer use this feature and define the default style\n",
       "- Estimators will overwrite some part of the style using the `sk-estimator` class\n",
       "*/\n",
       "\n",
       "/* Pipeline and ColumnTransformer style (default) */\n",
       "\n",
       "#sk-container-id-2 div.sk-toggleable {\n",
       "  /* Default theme specific background. It is overwritten whether we have a\n",
       "  specific estimator or a Pipeline/ColumnTransformer */\n",
       "  background-color: var(--sklearn-color-background);\n",
       "}\n",
       "\n",
       "/* Toggleable label */\n",
       "#sk-container-id-2 label.sk-toggleable__label {\n",
       "  cursor: pointer;\n",
       "  display: block;\n",
       "  width: 100%;\n",
       "  margin-bottom: 0;\n",
       "  padding: 0.5em;\n",
       "  box-sizing: border-box;\n",
       "  text-align: center;\n",
       "}\n",
       "\n",
       "#sk-container-id-2 label.sk-toggleable__label-arrow:before {\n",
       "  /* Arrow on the left of the label */\n",
       "  content: \"▸\";\n",
       "  float: left;\n",
       "  margin-right: 0.25em;\n",
       "  color: var(--sklearn-color-icon);\n",
       "}\n",
       "\n",
       "#sk-container-id-2 label.sk-toggleable__label-arrow:hover:before {\n",
       "  color: var(--sklearn-color-text);\n",
       "}\n",
       "\n",
       "/* Toggleable content - dropdown */\n",
       "\n",
       "#sk-container-id-2 div.sk-toggleable__content {\n",
       "  max-height: 0;\n",
       "  max-width: 0;\n",
       "  overflow: hidden;\n",
       "  text-align: left;\n",
       "  /* unfitted */\n",
       "  background-color: var(--sklearn-color-unfitted-level-0);\n",
       "}\n",
       "\n",
       "#sk-container-id-2 div.sk-toggleable__content.fitted {\n",
       "  /* fitted */\n",
       "  background-color: var(--sklearn-color-fitted-level-0);\n",
       "}\n",
       "\n",
       "#sk-container-id-2 div.sk-toggleable__content pre {\n",
       "  margin: 0.2em;\n",
       "  border-radius: 0.25em;\n",
       "  color: var(--sklearn-color-text);\n",
       "  /* unfitted */\n",
       "  background-color: var(--sklearn-color-unfitted-level-0);\n",
       "}\n",
       "\n",
       "#sk-container-id-2 div.sk-toggleable__content.fitted pre {\n",
       "  /* unfitted */\n",
       "  background-color: var(--sklearn-color-fitted-level-0);\n",
       "}\n",
       "\n",
       "#sk-container-id-2 input.sk-toggleable__control:checked~div.sk-toggleable__content {\n",
       "  /* Expand drop-down */\n",
       "  max-height: 200px;\n",
       "  max-width: 100%;\n",
       "  overflow: auto;\n",
       "}\n",
       "\n",
       "#sk-container-id-2 input.sk-toggleable__control:checked~label.sk-toggleable__label-arrow:before {\n",
       "  content: \"▾\";\n",
       "}\n",
       "\n",
       "/* Pipeline/ColumnTransformer-specific style */\n",
       "\n",
       "#sk-container-id-2 div.sk-label input.sk-toggleable__control:checked~label.sk-toggleable__label {\n",
       "  color: var(--sklearn-color-text);\n",
       "  background-color: var(--sklearn-color-unfitted-level-2);\n",
       "}\n",
       "\n",
       "#sk-container-id-2 div.sk-label.fitted input.sk-toggleable__control:checked~label.sk-toggleable__label {\n",
       "  background-color: var(--sklearn-color-fitted-level-2);\n",
       "}\n",
       "\n",
       "/* Estimator-specific style */\n",
       "\n",
       "/* Colorize estimator box */\n",
       "#sk-container-id-2 div.sk-estimator input.sk-toggleable__control:checked~label.sk-toggleable__label {\n",
       "  /* unfitted */\n",
       "  background-color: var(--sklearn-color-unfitted-level-2);\n",
       "}\n",
       "\n",
       "#sk-container-id-2 div.sk-estimator.fitted input.sk-toggleable__control:checked~label.sk-toggleable__label {\n",
       "  /* fitted */\n",
       "  background-color: var(--sklearn-color-fitted-level-2);\n",
       "}\n",
       "\n",
       "#sk-container-id-2 div.sk-label label.sk-toggleable__label,\n",
       "#sk-container-id-2 div.sk-label label {\n",
       "  /* The background is the default theme color */\n",
       "  color: var(--sklearn-color-text-on-default-background);\n",
       "}\n",
       "\n",
       "/* On hover, darken the color of the background */\n",
       "#sk-container-id-2 div.sk-label:hover label.sk-toggleable__label {\n",
       "  color: var(--sklearn-color-text);\n",
       "  background-color: var(--sklearn-color-unfitted-level-2);\n",
       "}\n",
       "\n",
       "/* Label box, darken color on hover, fitted */\n",
       "#sk-container-id-2 div.sk-label.fitted:hover label.sk-toggleable__label.fitted {\n",
       "  color: var(--sklearn-color-text);\n",
       "  background-color: var(--sklearn-color-fitted-level-2);\n",
       "}\n",
       "\n",
       "/* Estimator label */\n",
       "\n",
       "#sk-container-id-2 div.sk-label label {\n",
       "  font-family: monospace;\n",
       "  font-weight: bold;\n",
       "  display: inline-block;\n",
       "  line-height: 1.2em;\n",
       "}\n",
       "\n",
       "#sk-container-id-2 div.sk-label-container {\n",
       "  text-align: center;\n",
       "}\n",
       "\n",
       "/* Estimator-specific */\n",
       "#sk-container-id-2 div.sk-estimator {\n",
       "  font-family: monospace;\n",
       "  border: 1px dotted var(--sklearn-color-border-box);\n",
       "  border-radius: 0.25em;\n",
       "  box-sizing: border-box;\n",
       "  margin-bottom: 0.5em;\n",
       "  /* unfitted */\n",
       "  background-color: var(--sklearn-color-unfitted-level-0);\n",
       "}\n",
       "\n",
       "#sk-container-id-2 div.sk-estimator.fitted {\n",
       "  /* fitted */\n",
       "  background-color: var(--sklearn-color-fitted-level-0);\n",
       "}\n",
       "\n",
       "/* on hover */\n",
       "#sk-container-id-2 div.sk-estimator:hover {\n",
       "  /* unfitted */\n",
       "  background-color: var(--sklearn-color-unfitted-level-2);\n",
       "}\n",
       "\n",
       "#sk-container-id-2 div.sk-estimator.fitted:hover {\n",
       "  /* fitted */\n",
       "  background-color: var(--sklearn-color-fitted-level-2);\n",
       "}\n",
       "\n",
       "/* Specification for estimator info (e.g. \"i\" and \"?\") */\n",
       "\n",
       "/* Common style for \"i\" and \"?\" */\n",
       "\n",
       ".sk-estimator-doc-link,\n",
       "a:link.sk-estimator-doc-link,\n",
       "a:visited.sk-estimator-doc-link {\n",
       "  float: right;\n",
       "  font-size: smaller;\n",
       "  line-height: 1em;\n",
       "  font-family: monospace;\n",
       "  background-color: var(--sklearn-color-background);\n",
       "  border-radius: 1em;\n",
       "  height: 1em;\n",
       "  width: 1em;\n",
       "  text-decoration: none !important;\n",
       "  margin-left: 1ex;\n",
       "  /* unfitted */\n",
       "  border: var(--sklearn-color-unfitted-level-1) 1pt solid;\n",
       "  color: var(--sklearn-color-unfitted-level-1);\n",
       "}\n",
       "\n",
       ".sk-estimator-doc-link.fitted,\n",
       "a:link.sk-estimator-doc-link.fitted,\n",
       "a:visited.sk-estimator-doc-link.fitted {\n",
       "  /* fitted */\n",
       "  border: var(--sklearn-color-fitted-level-1) 1pt solid;\n",
       "  color: var(--sklearn-color-fitted-level-1);\n",
       "}\n",
       "\n",
       "/* On hover */\n",
       "div.sk-estimator:hover .sk-estimator-doc-link:hover,\n",
       ".sk-estimator-doc-link:hover,\n",
       "div.sk-label-container:hover .sk-estimator-doc-link:hover,\n",
       ".sk-estimator-doc-link:hover {\n",
       "  /* unfitted */\n",
       "  background-color: var(--sklearn-color-unfitted-level-3);\n",
       "  color: var(--sklearn-color-background);\n",
       "  text-decoration: none;\n",
       "}\n",
       "\n",
       "div.sk-estimator.fitted:hover .sk-estimator-doc-link.fitted:hover,\n",
       ".sk-estimator-doc-link.fitted:hover,\n",
       "div.sk-label-container:hover .sk-estimator-doc-link.fitted:hover,\n",
       ".sk-estimator-doc-link.fitted:hover {\n",
       "  /* fitted */\n",
       "  background-color: var(--sklearn-color-fitted-level-3);\n",
       "  color: var(--sklearn-color-background);\n",
       "  text-decoration: none;\n",
       "}\n",
       "\n",
       "/* Span, style for the box shown on hovering the info icon */\n",
       ".sk-estimator-doc-link span {\n",
       "  display: none;\n",
       "  z-index: 9999;\n",
       "  position: relative;\n",
       "  font-weight: normal;\n",
       "  right: .2ex;\n",
       "  padding: .5ex;\n",
       "  margin: .5ex;\n",
       "  width: min-content;\n",
       "  min-width: 20ex;\n",
       "  max-width: 50ex;\n",
       "  color: var(--sklearn-color-text);\n",
       "  box-shadow: 2pt 2pt 4pt #999;\n",
       "  /* unfitted */\n",
       "  background: var(--sklearn-color-unfitted-level-0);\n",
       "  border: .5pt solid var(--sklearn-color-unfitted-level-3);\n",
       "}\n",
       "\n",
       ".sk-estimator-doc-link.fitted span {\n",
       "  /* fitted */\n",
       "  background: var(--sklearn-color-fitted-level-0);\n",
       "  border: var(--sklearn-color-fitted-level-3);\n",
       "}\n",
       "\n",
       ".sk-estimator-doc-link:hover span {\n",
       "  display: block;\n",
       "}\n",
       "\n",
       "/* \"?\"-specific style due to the `<a>` HTML tag */\n",
       "\n",
       "#sk-container-id-2 a.estimator_doc_link {\n",
       "  float: right;\n",
       "  font-size: 1rem;\n",
       "  line-height: 1em;\n",
       "  font-family: monospace;\n",
       "  background-color: var(--sklearn-color-background);\n",
       "  border-radius: 1rem;\n",
       "  height: 1rem;\n",
       "  width: 1rem;\n",
       "  text-decoration: none;\n",
       "  /* unfitted */\n",
       "  color: var(--sklearn-color-unfitted-level-1);\n",
       "  border: var(--sklearn-color-unfitted-level-1) 1pt solid;\n",
       "}\n",
       "\n",
       "#sk-container-id-2 a.estimator_doc_link.fitted {\n",
       "  /* fitted */\n",
       "  border: var(--sklearn-color-fitted-level-1) 1pt solid;\n",
       "  color: var(--sklearn-color-fitted-level-1);\n",
       "}\n",
       "\n",
       "/* On hover */\n",
       "#sk-container-id-2 a.estimator_doc_link:hover {\n",
       "  /* unfitted */\n",
       "  background-color: var(--sklearn-color-unfitted-level-3);\n",
       "  color: var(--sklearn-color-background);\n",
       "  text-decoration: none;\n",
       "}\n",
       "\n",
       "#sk-container-id-2 a.estimator_doc_link.fitted:hover {\n",
       "  /* fitted */\n",
       "  background-color: var(--sklearn-color-fitted-level-3);\n",
       "}\n",
       "</style><div id=\"sk-container-id-2\" class=\"sk-top-container\"><div class=\"sk-text-repr-fallback\"><pre>MLPClassifier(hidden_layer_sizes=10, max_iter=250)</pre><b>In a Jupyter environment, please rerun this cell to show the HTML representation or trust the notebook. <br />On GitHub, the HTML representation is unable to render, please try loading this page with nbviewer.org.</b></div><div class=\"sk-container\" hidden><div class=\"sk-item\"><div class=\"sk-estimator fitted sk-toggleable\"><input class=\"sk-toggleable__control sk-hidden--visually\" id=\"sk-estimator-id-2\" type=\"checkbox\" checked><label for=\"sk-estimator-id-2\" class=\"sk-toggleable__label fitted sk-toggleable__label-arrow fitted\">&nbsp;&nbsp;MLPClassifier<a class=\"sk-estimator-doc-link fitted\" rel=\"noreferrer\" target=\"_blank\" href=\"https://scikit-learn.org/1.4/modules/generated/sklearn.neural_network.MLPClassifier.html\">?<span>Documentation for MLPClassifier</span></a><span class=\"sk-estimator-doc-link fitted\">i<span>Fitted</span></span></label><div class=\"sk-toggleable__content fitted\"><pre>MLPClassifier(hidden_layer_sizes=10, max_iter=250)</pre></div> </div></div></div></div>"
      ],
      "text/plain": [
       "MLPClassifier(hidden_layer_sizes=10, max_iter=250)"
      ]
     },
     "execution_count": 46,
     "metadata": {},
     "output_type": "execute_result"
    }
   ],
   "source": [
    "import warnings\n",
    "warnings.simplefilter('ignore')\n",
    "\n",
    "from sklearn.neural_network import MLPClassifier\n",
    "from sklearn.metrics import accuracy_score\n",
    "\n",
    "model = MLPClassifier(hidden_layer_sizes=(2 * units), max_iter=250)\n",
    "\n",
    "samples = 10\n",
    "l0 = np.random.randint(0, 2, (samples, features))\n",
    "y = np.random.randint(0, 2, (samples, 1))\n",
    "model.fit(l0, y)\n"
   ]
  },
  {
   "cell_type": "code",
   "execution_count": 52,
   "metadata": {},
   "outputs": [
    {
     "data": {
      "text/plain": [
       "array([ True,  True,  True,  True,  True,  True, False,  True,  True,\n",
       "        True])"
      ]
     },
     "execution_count": 52,
     "metadata": {},
     "output_type": "execute_result"
    }
   ],
   "source": [
    "l2 = model.predict(l0)\n",
    "l2\n",
    "l2 == y.flatten()"
   ]
  },
  {
   "cell_type": "code",
   "execution_count": 53,
   "metadata": {},
   "outputs": [
    {
     "data": {
      "text/plain": [
       "0.9"
      ]
     },
     "execution_count": 53,
     "metadata": {},
     "output_type": "execute_result"
    }
   ],
   "source": [
    "accuracy_score(l2, y.flatten())"
   ]
  },
  {
   "cell_type": "markdown",
   "metadata": {},
   "source": [
    "# Building a Class Implementation\n",
    "\n",
    "Notice that separating the forward and backwards steps makes the logic of the training loop much clearer."
   ]
  },
  {
   "cell_type": "code",
   "execution_count": null,
   "metadata": {},
   "outputs": [],
   "source": [
    "def activation(x, act='linear', deriv=False):\n",
    "  if act == 'sigmoid':\n",
    "    if deriv:\n",
    "      out = activation(x, 'sigmoid', False)\n",
    "      return out * (1 - out)\n",
    "    return 1 / (1 + np.exp(-x))\n",
    "  elif act == 'relu':\n",
    "    if deriv:\n",
    "      return np.where(x > 0, 1, 0)\n",
    "    return np.maximum(x, 0)\n",
    "  elif act == 'softplus':\n",
    "    if deriv:\n",
    "      return activation(x, act='sigmoid')\n",
    "    return np.log(1 + np.exp(x))\n",
    "  elif act == 'linear':\n",
    "    if deriv:\n",
    "      return 1\n",
    "    return x\n",
    "  else:\n",
    "    raise ValueError('Activation function not known.')"
   ]
  },
  {
   "cell_type": "code",
   "execution_count": 3,
   "metadata": {},
   "outputs": [],
   "source": [
    "import pandas as pd\n",
    "\n",
    "class snn:\n",
    "    def __init__(self, act='linear', lr=0.01, steps=100, verbose=False, psteps=200):\n",
    "        self.act = act\n",
    "        self.lr = lr\n",
    "        self.steps = steps\n",
    "        self.verbose = verbose\n",
    "        self.psteps = psteps\n",
    "\n",
    "    def forward(self):\n",
    "        ''' Forward propagation.\n",
    "        '''\n",
    "        self.l2 = activation(np.dot(self.l0, self.w), self.act)\n",
    "\n",
    "    def backward(self):\n",
    "        ''' Backwards propagation.\n",
    "        '''\n",
    "        self.e = self.l2 - self.y\n",
    "        d = self.e * activation(self.l2, self.act, True)\n",
    "        u = self.lr * np.dot(self.l0.T, d)\n",
    "        self.w -= u\n",
    "\n",
    "    def metrics(self, s):\n",
    "        ''' Performance metrics.\n",
    "        '''\n",
    "        mse = (self.e ** 2).mean()\n",
    "        acc = float((sum(self.l2.round() == self.y)[0]) / len(self.y))\n",
    "        self.res = pd.concat((self.res,\n",
    "                              pd.DataFrame({'mse': mse, 'acc': acc}, index=[s,]))\n",
    "                             )\n",
    "        if s % self.psteps == 0 and self.verbose:\n",
    "            print(f'step={s:5d} | mse={mse:.6f}')\n",
    "            print(f'           | acc={acc:.6f}')\n",
    "\n",
    "    def fit(self, l0, y, steps=None, seed=None):\n",
    "        ''' Fitting step.\n",
    "        '''\n",
    "        self.l0 = l0\n",
    "        self.y = y\n",
    "        if steps is None:\n",
    "            steps = self.steps\n",
    "        self.res = pd.DataFrame()\n",
    "        samples, features = l0.shape\n",
    "        if seed is not None:\n",
    "            np.random.seed(seed)\n",
    "        self.w = np.random.random((features, 1))\n",
    "        for s in range(1, steps + 1):\n",
    "            self.forward()\n",
    "            self.backward()\n",
    "            self.metrics(s)\n",
    "\n",
    "    def predict(self, X):\n",
    "        ''' Prediction step.\n",
    "        '''\n",
    "        return activation(np.dot(X, self.w), self.act)"
   ]
  },
  {
   "cell_type": "markdown",
   "metadata": {},
   "source": [
    "Let's use the `snn` class to train a model."
   ]
  },
  {
   "cell_type": "code",
   "execution_count": 4,
   "metadata": {},
   "outputs": [
    {
     "ename": "NameError",
     "evalue": "name 'y' is not defined",
     "output_type": "error",
     "traceback": [
      "\u001b[0;31m---------------------------------------------------------------------------\u001b[0m",
      "\u001b[0;31mNameError\u001b[0m                                 Traceback (most recent call last)",
      "Cell \u001b[0;32mIn[4], line 3\u001b[0m\n\u001b[1;32m      1\u001b[0m model \u001b[38;5;241m=\u001b[39m snn(lr\u001b[38;5;241m=\u001b[39m\u001b[38;5;241m0.01\u001b[39m , act\u001b[38;5;241m=\u001b[39m\u001b[38;5;124m'\u001b[39m\u001b[38;5;124msigmoid\u001b[39m\u001b[38;5;124m'\u001b[39m )\n\u001b[0;32m----> 3\u001b[0m model\u001b[38;5;241m.\u001b[39m fit(\u001b[38;5;241m10\u001b[39m, \u001b[43my\u001b[49m, \u001b[38;5;241m1000\u001b[39m)\n\u001b[1;32m      5\u001b[0m model\u001b[38;5;241m.\u001b[39mres\u001b[38;5;241m.\u001b[39mplot(figsize\u001b[38;5;241m=\u001b[39m(\u001b[38;5;241m10\u001b[39m, \u001b[38;5;241m6\u001b[39m), secondary_y\u001b[38;5;241m=\u001b[39m\u001b[38;5;124m'\u001b[39m\u001b[38;5;124mmse\u001b[39m\u001b[38;5;124m'\u001b[39m);\n",
      "\u001b[0;31mNameError\u001b[0m: name 'y' is not defined"
     ]
    }
   ],
   "source": [
    "model = snn(lr=0.01 , act='sigmoid' )\n",
    "\n",
    "model. fit(10, y, 1000)\n",
    "\n",
    "model.res.plot(figsize=(10, 6), secondary_y='mse');"
   ]
  },
  {
   "cell_type": "markdown",
   "metadata": {},
   "source": [
    "# Class for a Single Hidden Layer"
   ]
  },
  {
   "cell_type": "code",
   "execution_count": 5,
   "metadata": {},
   "outputs": [],
   "source": [
    "class shnn:\n",
    "    def __init__(self, units=12, act='linear', lr=0.01, steps=100,\n",
    "                 verbose=False, psteps=200, seed=None):\n",
    "        self.units = units\n",
    "        self.act = act\n",
    "        self.lr = lr\n",
    "        self.steps = steps\n",
    "        self.verbose = verbose\n",
    "        self.psteps = psteps\n",
    "        self.seed = seed\n",
    "\n",
    "    def initialize(self):\n",
    "        ''' Initializes the random weights.\n",
    "        '''\n",
    "        if self.seed is not None:\n",
    "            np.random.seed(self.seed)\n",
    "        samples, features = self.l0.shape\n",
    "        self.w0 = np.random.random((features, self.units))\n",
    "        self.w1 = np.random.random((self.units, 1))\n",
    "\n",
    "    def forward(self):\n",
    "        ''' Forward propagation.\n",
    "        '''\n",
    "        self.l1 = activation(np.dot(self.l0, self.w0), self.act)\n",
    "        self.l2 = activation(np.dot(self.l1, self.w1), self.act)\n",
    "\n",
    "    def backward(self):\n",
    "        ''' Backward propagation.\n",
    "        '''\n",
    "        self.e = self.l2 - self.y\n",
    "        d2 = self.e * activation(self.l2, self.act, True)\n",
    "        u2 = self.lr * np.dot(self.l1.T, d2)\n",
    "        self.w1 -= u2\n",
    "        e1 = np.dot(d2, self.w1.T)\n",
    "        d1 = e1 * activation(self.l1, self.act, True)\n",
    "        u1 = self.lr * np.dot(self.l0.T, d1)\n",
    "        self.w0 -= u1\n",
    "\n",
    "    def metrics(self, s):\n",
    "        ''' Performance metrics.\n",
    "        '''\n",
    "        mse = (self.e ** 2).mean()\n",
    "        acc = float((sum(self.l2.round() == self.y)[0]) / len(self.y))\n",
    "        self.res = pd.concat((self.res,\n",
    "                              pd.DataFrame({'mse': mse, 'acc': acc}, index=[s,]))\n",
    "                             )\n",
    "        if s % self.psteps == 0 and self.verbose:\n",
    "            print(f'step={s:5d} | mse={mse:.5f}')\n",
    "            print(f'           | acc={acc:.5f}')\n",
    "\n",
    "    def fit(self, l0, y, steps=None):\n",
    "        ''' Fitting step.\n",
    "        '''\n",
    "        self.l0 = l0\n",
    "        self.y = y\n",
    "        if steps is None:\n",
    "            steps = self.steps\n",
    "        self.res = pd.DataFrame()\n",
    "        self.initialize()\n",
    "        self.forward()\n",
    "        for s in range(1, steps + 1):\n",
    "            self.backward()\n",
    "            self.forward()\n",
    "            self.metrics(s)\n",
    "\n",
    "    def predict(self, X):\n",
    "        ''' Prediction step.\n",
    "        '''\n",
    "        l1 = activation(np.dot(X, self.w0), self.act)\n",
    "        l2 = activation(np.dot(l1, self.w1), self.act)\n",
    "        return l2"
   ]
  },
  {
   "cell_type": "code",
   "execution_count": null,
   "metadata": {},
   "outputs": [],
   "source": []
  }
 ],
 "metadata": {
  "kernelspec": {
   "display_name": "dql",
   "language": "python",
   "name": "python3"
  },
  "language_info": {
   "codemirror_mode": {
    "name": "ipython",
    "version": 3
   },
   "file_extension": ".py",
   "mimetype": "text/x-python",
   "name": "python",
   "nbconvert_exporter": "python",
   "pygments_lexer": "ipython3",
   "version": "3.10.14"
  }
 },
 "nbformat": 4,
 "nbformat_minor": 2
}
